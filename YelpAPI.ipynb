{
 "cells": [
  {
   "cell_type": "code",
   "execution_count": 1,
   "id": "865deacb",
   "metadata": {
    "ExecuteTime": {
     "end_time": "2023-05-04T04:50:40.179985Z",
     "start_time": "2023-05-04T04:50:40.157697Z"
    }
   },
   "outputs": [
    {
     "data": {
      "text/plain": [
       "dict_keys(['client-id', 'api-key'])"
      ]
     },
     "execution_count": 1,
     "metadata": {},
     "output_type": "execute_result"
    }
   ],
   "source": [
    "import json\n",
    "with open('/Users/Joene/.secret/yelp_api.json') as f:\n",
    "    login = json.load(f)\n",
    "login.keys()"
   ]
  },
  {
   "cell_type": "code",
   "execution_count": 2,
   "id": "0db6e039",
   "metadata": {
    "ExecuteTime": {
     "end_time": "2023-05-04T04:50:50.860670Z",
     "start_time": "2023-05-04T04:50:50.755676Z"
    }
   },
   "outputs": [
    {
     "data": {
      "text/plain": [
       "<yelpapi.yelpapi.YelpAPI at 0x22e8049e880>"
      ]
     },
     "execution_count": 2,
     "metadata": {},
     "output_type": "execute_result"
    }
   ],
   "source": [
    "# import the YelpAPI Class\n",
    "from yelpapi import YelpAPI\n",
    "# Create an instance with your key\n",
    "yelp_api = YelpAPI(login['api-key'], timeout_s=5.0)\n",
    "yelp_api"
   ]
  },
  {
   "cell_type": "code",
   "execution_count": 3,
   "id": "180ce961",
   "metadata": {
    "ExecuteTime": {
     "end_time": "2023-05-04T04:51:01.614111Z",
     "start_time": "2023-05-04T04:51:01.606092Z"
    }
   },
   "outputs": [
    {
     "name": "stdout",
     "output_type": "stream",
     "text": [
      "Help on method search_query in module yelpapi.yelpapi:\n",
      "\n",
      "search_query(**kwargs) method of yelpapi.yelpapi.YelpAPI instance\n",
      "    Query the Yelp Search API.\n",
      "    \n",
      "    documentation: https://www.yelp.com/developers/documentation/v3/business_search\n",
      "    \n",
      "    required parameters:\n",
      "        * one of either:\n",
      "            * location - text specifying a location to search for\n",
      "            * latitude and longitude\n",
      "\n"
     ]
    }
   ],
   "source": [
    "help(yelp_api.search_query)\n"
   ]
  },
  {
   "cell_type": "code",
   "execution_count": 4,
   "id": "b7ae1907",
   "metadata": {
    "ExecuteTime": {
     "end_time": "2023-05-04T04:51:16.455707Z",
     "start_time": "2023-05-04T04:51:15.584009Z"
    }
   },
   "outputs": [
    {
     "name": "stdout",
     "output_type": "stream",
     "text": [
      "<class 'dict'>\n"
     ]
    },
    {
     "data": {
      "text/plain": [
       "dict_keys(['businesses', 'total', 'region'])"
      ]
     },
     "execution_count": 4,
     "metadata": {},
     "output_type": "execute_result"
    }
   ],
   "source": [
    "# use our yelp_api variable's search_query method to perform our API call\n",
    "search_results = yelp_api.search_query(location='NY, NY',\n",
    "                                       term='Pizza')\n",
    "print(type(search_results))\n",
    "search_results.keys()"
   ]
  },
  {
   "cell_type": "code",
   "execution_count": 6,
   "id": "738303be",
   "metadata": {
    "ExecuteTime": {
     "end_time": "2023-05-04T04:51:52.990237Z",
     "start_time": "2023-05-04T04:51:52.977710Z"
    }
   },
   "outputs": [
    {
     "data": {
      "text/plain": [
       "15700"
      ]
     },
     "execution_count": 6,
     "metadata": {},
     "output_type": "execute_result"
    }
   ],
   "source": [
    "search_results['total']"
   ]
  },
  {
   "cell_type": "code",
   "execution_count": 8,
   "id": "516f0375",
   "metadata": {
    "ExecuteTime": {
     "end_time": "2023-05-04T04:52:29.144705Z",
     "start_time": "2023-05-04T04:52:28.686225Z"
    }
   },
   "outputs": [],
   "source": [
    "import pandas as pd"
   ]
  },
  {
   "cell_type": "code",
   "execution_count": 9,
   "id": "3bb6cda3",
   "metadata": {
    "ExecuteTime": {
     "end_time": "2023-05-04T04:52:31.219412Z",
     "start_time": "2023-05-04T04:52:31.182186Z"
    }
   },
   "outputs": [
    {
     "data": {
      "text/html": [
       "<div>\n",
       "<style scoped>\n",
       "    .dataframe tbody tr th:only-of-type {\n",
       "        vertical-align: middle;\n",
       "    }\n",
       "\n",
       "    .dataframe tbody tr th {\n",
       "        vertical-align: top;\n",
       "    }\n",
       "\n",
       "    .dataframe thead th {\n",
       "        text-align: right;\n",
       "    }\n",
       "</style>\n",
       "<table border=\"1\" class=\"dataframe\">\n",
       "  <thead>\n",
       "    <tr style=\"text-align: right;\">\n",
       "      <th></th>\n",
       "      <th>id</th>\n",
       "      <th>alias</th>\n",
       "      <th>name</th>\n",
       "      <th>image_url</th>\n",
       "      <th>is_closed</th>\n",
       "      <th>url</th>\n",
       "      <th>review_count</th>\n",
       "      <th>categories</th>\n",
       "      <th>rating</th>\n",
       "      <th>coordinates</th>\n",
       "      <th>transactions</th>\n",
       "      <th>price</th>\n",
       "      <th>location</th>\n",
       "      <th>phone</th>\n",
       "      <th>display_phone</th>\n",
       "      <th>distance</th>\n",
       "    </tr>\n",
       "  </thead>\n",
       "  <tbody>\n",
       "    <tr>\n",
       "      <th>0</th>\n",
       "      <td>zj8Lq1T8KIC5zwFief15jg</td>\n",
       "      <td>prince-street-pizza-new-york-2</td>\n",
       "      <td>Prince Street Pizza</td>\n",
       "      <td>https://s3-media4.fl.yelpcdn.com/bphoto/PfI8oV...</td>\n",
       "      <td>False</td>\n",
       "      <td>https://www.yelp.com/biz/prince-street-pizza-n...</td>\n",
       "      <td>4865</td>\n",
       "      <td>[{'alias': 'pizza', 'title': 'Pizza'}, {'alias...</td>\n",
       "      <td>4.5</td>\n",
       "      <td>{'latitude': 40.72308755605564, 'longitude': -...</td>\n",
       "      <td>[delivery, pickup]</td>\n",
       "      <td>$</td>\n",
       "      <td>{'address1': '27 Prince St', 'address2': None,...</td>\n",
       "      <td>+12129664100</td>\n",
       "      <td>(212) 966-4100</td>\n",
       "      <td>2209.311618</td>\n",
       "    </tr>\n",
       "    <tr>\n",
       "      <th>1</th>\n",
       "      <td>ysqgdbSrezXgVwER2kQWKA</td>\n",
       "      <td>julianas-brooklyn-3</td>\n",
       "      <td>Juliana's</td>\n",
       "      <td>https://s3-media2.fl.yelpcdn.com/bphoto/NVoLFl...</td>\n",
       "      <td>False</td>\n",
       "      <td>https://www.yelp.com/biz/julianas-brooklyn-3?a...</td>\n",
       "      <td>2634</td>\n",
       "      <td>[{'alias': 'pizza', 'title': 'Pizza'}]</td>\n",
       "      <td>4.5</td>\n",
       "      <td>{'latitude': 40.70274718768062, 'longitude': -...</td>\n",
       "      <td>[delivery]</td>\n",
       "      <td>$$</td>\n",
       "      <td>{'address1': '19 Old Fulton St', 'address2': '...</td>\n",
       "      <td>+17185966700</td>\n",
       "      <td>(718) 596-6700</td>\n",
       "      <td>1289.857286</td>\n",
       "    </tr>\n",
       "  </tbody>\n",
       "</table>\n",
       "</div>"
      ],
      "text/plain": [
       "                       id                           alias  \\\n",
       "0  zj8Lq1T8KIC5zwFief15jg  prince-street-pizza-new-york-2   \n",
       "1  ysqgdbSrezXgVwER2kQWKA             julianas-brooklyn-3   \n",
       "\n",
       "                  name                                          image_url  \\\n",
       "0  Prince Street Pizza  https://s3-media4.fl.yelpcdn.com/bphoto/PfI8oV...   \n",
       "1            Juliana's  https://s3-media2.fl.yelpcdn.com/bphoto/NVoLFl...   \n",
       "\n",
       "   is_closed                                                url  review_count  \\\n",
       "0      False  https://www.yelp.com/biz/prince-street-pizza-n...          4865   \n",
       "1      False  https://www.yelp.com/biz/julianas-brooklyn-3?a...          2634   \n",
       "\n",
       "                                          categories  rating  \\\n",
       "0  [{'alias': 'pizza', 'title': 'Pizza'}, {'alias...     4.5   \n",
       "1             [{'alias': 'pizza', 'title': 'Pizza'}]     4.5   \n",
       "\n",
       "                                         coordinates        transactions  \\\n",
       "0  {'latitude': 40.72308755605564, 'longitude': -...  [delivery, pickup]   \n",
       "1  {'latitude': 40.70274718768062, 'longitude': -...          [delivery]   \n",
       "\n",
       "  price                                           location         phone  \\\n",
       "0     $  {'address1': '27 Prince St', 'address2': None,...  +12129664100   \n",
       "1    $$  {'address1': '19 Old Fulton St', 'address2': '...  +17185966700   \n",
       "\n",
       "    display_phone     distance  \n",
       "0  (212) 966-4100  2209.311618  \n",
       "1  (718) 596-6700  1289.857286  "
      ]
     },
     "execution_count": 9,
     "metadata": {},
     "output_type": "execute_result"
    }
   ],
   "source": [
    "biz = pd.DataFrame(search_results['businesses'])\n",
    "biz.head(2) "
   ]
  },
  {
   "cell_type": "code",
   "execution_count": 10,
   "id": "0b490ca0",
   "metadata": {
    "ExecuteTime": {
     "end_time": "2023-05-04T04:52:42.373340Z",
     "start_time": "2023-05-04T04:52:42.358378Z"
    }
   },
   "outputs": [
    {
     "data": {
      "text/plain": [
       "15700"
      ]
     },
     "execution_count": 10,
     "metadata": {},
     "output_type": "execute_result"
    }
   ],
   "source": [
    "## total number of matching businesses\n",
    "search_results['total']"
   ]
  },
  {
   "cell_type": "code",
   "execution_count": 11,
   "id": "02c6d407",
   "metadata": {
    "ExecuteTime": {
     "end_time": "2023-05-04T04:52:47.725507Z",
     "start_time": "2023-05-04T04:52:47.707957Z"
    }
   },
   "outputs": [
    {
     "data": {
      "text/plain": [
       "20"
      ]
     },
     "execution_count": 11,
     "metadata": {},
     "output_type": "execute_result"
    }
   ],
   "source": [
    "## how many businesses in our results\n",
    "len(search_results['businesses'])"
   ]
  },
  {
   "cell_type": "code",
   "execution_count": 12,
   "id": "b4833f89",
   "metadata": {
    "ExecuteTime": {
     "end_time": "2023-05-04T04:53:01.079746Z",
     "start_time": "2023-05-04T04:53:00.276364Z"
    }
   },
   "outputs": [],
   "source": [
    "# add offset to our original api call\n",
    "search_results = yelp_api.search_query(location='NY, NY',\n",
    "                                       term='Pizza',\n",
    "                                       offset = 20)"
   ]
  },
  {
   "cell_type": "code",
   "execution_count": 13,
   "id": "f9fe6120",
   "metadata": {
    "ExecuteTime": {
     "end_time": "2023-05-04T04:53:05.294348Z",
     "start_time": "2023-05-04T04:53:05.274205Z"
    }
   },
   "outputs": [
    {
     "data": {
      "text/html": [
       "<div>\n",
       "<style scoped>\n",
       "    .dataframe tbody tr th:only-of-type {\n",
       "        vertical-align: middle;\n",
       "    }\n",
       "\n",
       "    .dataframe tbody tr th {\n",
       "        vertical-align: top;\n",
       "    }\n",
       "\n",
       "    .dataframe thead th {\n",
       "        text-align: right;\n",
       "    }\n",
       "</style>\n",
       "<table border=\"1\" class=\"dataframe\">\n",
       "  <thead>\n",
       "    <tr style=\"text-align: right;\">\n",
       "      <th></th>\n",
       "      <th>id</th>\n",
       "      <th>alias</th>\n",
       "      <th>name</th>\n",
       "      <th>image_url</th>\n",
       "      <th>is_closed</th>\n",
       "      <th>url</th>\n",
       "      <th>review_count</th>\n",
       "      <th>categories</th>\n",
       "      <th>rating</th>\n",
       "      <th>coordinates</th>\n",
       "      <th>transactions</th>\n",
       "      <th>price</th>\n",
       "      <th>location</th>\n",
       "      <th>phone</th>\n",
       "      <th>display_phone</th>\n",
       "      <th>distance</th>\n",
       "    </tr>\n",
       "  </thead>\n",
       "  <tbody>\n",
       "    <tr>\n",
       "      <th>0</th>\n",
       "      <td>6ECcDYsRgmfv0eKXk-c11Q</td>\n",
       "      <td>la-nonna-krispy-krust-pizza-brooklyn</td>\n",
       "      <td>La Nonna Krispy Krust Pizza</td>\n",
       "      <td>https://s3-media3.fl.yelpcdn.com/bphoto/fVNfYk...</td>\n",
       "      <td>False</td>\n",
       "      <td>https://www.yelp.com/biz/la-nonna-krispy-krust...</td>\n",
       "      <td>74</td>\n",
       "      <td>[{'alias': 'pizza', 'title': 'Pizza'}]</td>\n",
       "      <td>4.0</td>\n",
       "      <td>{'latitude': 40.717953, 'longitude': -73.9637027}</td>\n",
       "      <td>[delivery, pickup]</td>\n",
       "      <td>$$</td>\n",
       "      <td>{'address1': '175 Kent Ave', 'address2': None,...</td>\n",
       "      <td>+13473842100</td>\n",
       "      <td>(347) 384-2100</td>\n",
       "      <td>1786.793379</td>\n",
       "    </tr>\n",
       "    <tr>\n",
       "      <th>1</th>\n",
       "      <td>afuiZyn9oOyyCpuW7wGfHQ</td>\n",
       "      <td>l-antica-pizzeria-da-michele-new-york</td>\n",
       "      <td>L'Antica Pizzeria Da Michele NYC</td>\n",
       "      <td>https://s3-media1.fl.yelpcdn.com/bphoto/I8YyoJ...</td>\n",
       "      <td>False</td>\n",
       "      <td>https://www.yelp.com/biz/l-antica-pizzeria-da-...</td>\n",
       "      <td>57</td>\n",
       "      <td>[{'alias': 'pizza', 'title': 'Pizza'}, {'alias...</td>\n",
       "      <td>4.5</td>\n",
       "      <td>{'latitude': 40.737052, 'longitude': -74.001571}</td>\n",
       "      <td>[delivery, pickup]</td>\n",
       "      <td>$$$</td>\n",
       "      <td>{'address1': '2 Bank St', 'address2': None, 'a...</td>\n",
       "      <td>+19295246682</td>\n",
       "      <td>(929) 524-6682</td>\n",
       "      <td>3844.368386</td>\n",
       "    </tr>\n",
       "  </tbody>\n",
       "</table>\n",
       "</div>"
      ],
      "text/plain": [
       "                       id                                  alias  \\\n",
       "0  6ECcDYsRgmfv0eKXk-c11Q   la-nonna-krispy-krust-pizza-brooklyn   \n",
       "1  afuiZyn9oOyyCpuW7wGfHQ  l-antica-pizzeria-da-michele-new-york   \n",
       "\n",
       "                               name  \\\n",
       "0       La Nonna Krispy Krust Pizza   \n",
       "1  L'Antica Pizzeria Da Michele NYC   \n",
       "\n",
       "                                           image_url  is_closed  \\\n",
       "0  https://s3-media3.fl.yelpcdn.com/bphoto/fVNfYk...      False   \n",
       "1  https://s3-media1.fl.yelpcdn.com/bphoto/I8YyoJ...      False   \n",
       "\n",
       "                                                 url  review_count  \\\n",
       "0  https://www.yelp.com/biz/la-nonna-krispy-krust...            74   \n",
       "1  https://www.yelp.com/biz/l-antica-pizzeria-da-...            57   \n",
       "\n",
       "                                          categories  rating  \\\n",
       "0             [{'alias': 'pizza', 'title': 'Pizza'}]     4.0   \n",
       "1  [{'alias': 'pizza', 'title': 'Pizza'}, {'alias...     4.5   \n",
       "\n",
       "                                         coordinates        transactions  \\\n",
       "0  {'latitude': 40.717953, 'longitude': -73.9637027}  [delivery, pickup]   \n",
       "1   {'latitude': 40.737052, 'longitude': -74.001571}  [delivery, pickup]   \n",
       "\n",
       "  price                                           location         phone  \\\n",
       "0    $$  {'address1': '175 Kent Ave', 'address2': None,...  +13473842100   \n",
       "1   $$$  {'address1': '2 Bank St', 'address2': None, 'a...  +19295246682   \n",
       "\n",
       "    display_phone     distance  \n",
       "0  (347) 384-2100  1786.793379  \n",
       "1  (929) 524-6682  3844.368386  "
      ]
     },
     "execution_count": 13,
     "metadata": {},
     "output_type": "execute_result"
    }
   ],
   "source": [
    "biz20 = pd.DataFrame(search_results['businesses'])\n",
    "biz20.head(2)"
   ]
  },
  {
   "cell_type": "code",
   "execution_count": 14,
   "id": "fc5bf529",
   "metadata": {
    "ExecuteTime": {
     "end_time": "2023-05-04T04:53:11.841322Z",
     "start_time": "2023-05-04T04:53:11.791210Z"
    }
   },
   "outputs": [
    {
     "data": {
      "text/html": [
       "<div>\n",
       "<style scoped>\n",
       "    .dataframe tbody tr th:only-of-type {\n",
       "        vertical-align: middle;\n",
       "    }\n",
       "\n",
       "    .dataframe tbody tr th {\n",
       "        vertical-align: top;\n",
       "    }\n",
       "\n",
       "    .dataframe thead th {\n",
       "        text-align: right;\n",
       "    }\n",
       "</style>\n",
       "<table border=\"1\" class=\"dataframe\">\n",
       "  <thead>\n",
       "    <tr style=\"text-align: right;\">\n",
       "      <th></th>\n",
       "      <th>id</th>\n",
       "      <th>alias</th>\n",
       "      <th>name</th>\n",
       "      <th>image_url</th>\n",
       "      <th>is_closed</th>\n",
       "      <th>url</th>\n",
       "      <th>review_count</th>\n",
       "      <th>categories</th>\n",
       "      <th>rating</th>\n",
       "      <th>coordinates</th>\n",
       "      <th>transactions</th>\n",
       "      <th>price</th>\n",
       "      <th>location</th>\n",
       "      <th>phone</th>\n",
       "      <th>display_phone</th>\n",
       "      <th>distance</th>\n",
       "    </tr>\n",
       "  </thead>\n",
       "  <tbody>\n",
       "    <tr>\n",
       "      <th>0</th>\n",
       "      <td>zj8Lq1T8KIC5zwFief15jg</td>\n",
       "      <td>prince-street-pizza-new-york-2</td>\n",
       "      <td>Prince Street Pizza</td>\n",
       "      <td>https://s3-media4.fl.yelpcdn.com/bphoto/PfI8oV...</td>\n",
       "      <td>False</td>\n",
       "      <td>https://www.yelp.com/biz/prince-street-pizza-n...</td>\n",
       "      <td>4865</td>\n",
       "      <td>[{'alias': 'pizza', 'title': 'Pizza'}, {'alias...</td>\n",
       "      <td>4.5</td>\n",
       "      <td>{'latitude': 40.72308755605564, 'longitude': -...</td>\n",
       "      <td>[delivery, pickup]</td>\n",
       "      <td>$</td>\n",
       "      <td>{'address1': '27 Prince St', 'address2': None,...</td>\n",
       "      <td>+12129664100</td>\n",
       "      <td>(212) 966-4100</td>\n",
       "      <td>2209.311618</td>\n",
       "    </tr>\n",
       "    <tr>\n",
       "      <th>1</th>\n",
       "      <td>ysqgdbSrezXgVwER2kQWKA</td>\n",
       "      <td>julianas-brooklyn-3</td>\n",
       "      <td>Juliana's</td>\n",
       "      <td>https://s3-media2.fl.yelpcdn.com/bphoto/NVoLFl...</td>\n",
       "      <td>False</td>\n",
       "      <td>https://www.yelp.com/biz/julianas-brooklyn-3?a...</td>\n",
       "      <td>2634</td>\n",
       "      <td>[{'alias': 'pizza', 'title': 'Pizza'}]</td>\n",
       "      <td>4.5</td>\n",
       "      <td>{'latitude': 40.70274718768062, 'longitude': -...</td>\n",
       "      <td>[delivery]</td>\n",
       "      <td>$$</td>\n",
       "      <td>{'address1': '19 Old Fulton St', 'address2': '...</td>\n",
       "      <td>+17185966700</td>\n",
       "      <td>(718) 596-6700</td>\n",
       "      <td>1289.857286</td>\n",
       "    </tr>\n",
       "    <tr>\n",
       "      <th>2</th>\n",
       "      <td>WG639VkTjmK5dzydd1BBJA</td>\n",
       "      <td>rubirosa-new-york-2</td>\n",
       "      <td>Rubirosa</td>\n",
       "      <td>https://s3-media3.fl.yelpcdn.com/bphoto/F65qqO...</td>\n",
       "      <td>False</td>\n",
       "      <td>https://www.yelp.com/biz/rubirosa-new-york-2?a...</td>\n",
       "      <td>2985</td>\n",
       "      <td>[{'alias': 'italian', 'title': 'Italian'}, {'a...</td>\n",
       "      <td>4.5</td>\n",
       "      <td>{'latitude': 40.722766, 'longitude': -73.996233}</td>\n",
       "      <td>[pickup]</td>\n",
       "      <td>$$</td>\n",
       "      <td>{'address1': '235 Mulberry St', 'address2': ''...</td>\n",
       "      <td>+12129650500</td>\n",
       "      <td>(212) 965-0500</td>\n",
       "      <td>2268.491950</td>\n",
       "    </tr>\n",
       "  </tbody>\n",
       "</table>\n",
       "</div>"
      ],
      "text/plain": [
       "                       id                           alias  \\\n",
       "0  zj8Lq1T8KIC5zwFief15jg  prince-street-pizza-new-york-2   \n",
       "1  ysqgdbSrezXgVwER2kQWKA             julianas-brooklyn-3   \n",
       "2  WG639VkTjmK5dzydd1BBJA             rubirosa-new-york-2   \n",
       "\n",
       "                  name                                          image_url  \\\n",
       "0  Prince Street Pizza  https://s3-media4.fl.yelpcdn.com/bphoto/PfI8oV...   \n",
       "1            Juliana's  https://s3-media2.fl.yelpcdn.com/bphoto/NVoLFl...   \n",
       "2             Rubirosa  https://s3-media3.fl.yelpcdn.com/bphoto/F65qqO...   \n",
       "\n",
       "   is_closed                                                url  review_count  \\\n",
       "0      False  https://www.yelp.com/biz/prince-street-pizza-n...          4865   \n",
       "1      False  https://www.yelp.com/biz/julianas-brooklyn-3?a...          2634   \n",
       "2      False  https://www.yelp.com/biz/rubirosa-new-york-2?a...          2985   \n",
       "\n",
       "                                          categories  rating  \\\n",
       "0  [{'alias': 'pizza', 'title': 'Pizza'}, {'alias...     4.5   \n",
       "1             [{'alias': 'pizza', 'title': 'Pizza'}]     4.5   \n",
       "2  [{'alias': 'italian', 'title': 'Italian'}, {'a...     4.5   \n",
       "\n",
       "                                         coordinates        transactions  \\\n",
       "0  {'latitude': 40.72308755605564, 'longitude': -...  [delivery, pickup]   \n",
       "1  {'latitude': 40.70274718768062, 'longitude': -...          [delivery]   \n",
       "2   {'latitude': 40.722766, 'longitude': -73.996233}            [pickup]   \n",
       "\n",
       "  price                                           location         phone  \\\n",
       "0     $  {'address1': '27 Prince St', 'address2': None,...  +12129664100   \n",
       "1    $$  {'address1': '19 Old Fulton St', 'address2': '...  +17185966700   \n",
       "2    $$  {'address1': '235 Mulberry St', 'address2': ''...  +12129650500   \n",
       "\n",
       "    display_phone     distance  \n",
       "0  (212) 966-4100  2209.311618  \n",
       "1  (718) 596-6700  1289.857286  \n",
       "2  (212) 965-0500  2268.491950  "
      ]
     },
     "metadata": {},
     "output_type": "display_data"
    },
    {
     "data": {
      "text/html": [
       "<div>\n",
       "<style scoped>\n",
       "    .dataframe tbody tr th:only-of-type {\n",
       "        vertical-align: middle;\n",
       "    }\n",
       "\n",
       "    .dataframe tbody tr th {\n",
       "        vertical-align: top;\n",
       "    }\n",
       "\n",
       "    .dataframe thead th {\n",
       "        text-align: right;\n",
       "    }\n",
       "</style>\n",
       "<table border=\"1\" class=\"dataframe\">\n",
       "  <thead>\n",
       "    <tr style=\"text-align: right;\">\n",
       "      <th></th>\n",
       "      <th>id</th>\n",
       "      <th>alias</th>\n",
       "      <th>name</th>\n",
       "      <th>image_url</th>\n",
       "      <th>is_closed</th>\n",
       "      <th>url</th>\n",
       "      <th>review_count</th>\n",
       "      <th>categories</th>\n",
       "      <th>rating</th>\n",
       "      <th>coordinates</th>\n",
       "      <th>transactions</th>\n",
       "      <th>price</th>\n",
       "      <th>location</th>\n",
       "      <th>phone</th>\n",
       "      <th>display_phone</th>\n",
       "      <th>distance</th>\n",
       "    </tr>\n",
       "  </thead>\n",
       "  <tbody>\n",
       "    <tr>\n",
       "      <th>37</th>\n",
       "      <td>vVVmHacu2YAxKfpIjhfd1g</td>\n",
       "      <td>norma-new-york-5</td>\n",
       "      <td>Norma</td>\n",
       "      <td>https://s3-media3.fl.yelpcdn.com/bphoto/qJKt5l...</td>\n",
       "      <td>False</td>\n",
       "      <td>https://www.yelp.com/biz/norma-new-york-5?adju...</td>\n",
       "      <td>604</td>\n",
       "      <td>[{'alias': 'italian', 'title': 'Italian'}, {'a...</td>\n",
       "      <td>4.5</td>\n",
       "      <td>{'latitude': 40.743553, 'longitude': -73.980026}</td>\n",
       "      <td>[delivery, pickup]</td>\n",
       "      <td>$$</td>\n",
       "      <td>{'address1': '438 3rd Ave', 'address2': None, ...</td>\n",
       "      <td>+12128890600</td>\n",
       "      <td>(212) 889-0600</td>\n",
       "      <td>4071.516986</td>\n",
       "    </tr>\n",
       "    <tr>\n",
       "      <th>38</th>\n",
       "      <td>2-GsvFaQpVpbaIdwb9lSeQ</td>\n",
       "      <td>andiamo-pizza-new-york-2</td>\n",
       "      <td>Andiamo Pizza</td>\n",
       "      <td>https://s3-media2.fl.yelpcdn.com/bphoto/0SPjEd...</td>\n",
       "      <td>False</td>\n",
       "      <td>https://www.yelp.com/biz/andiamo-pizza-new-yor...</td>\n",
       "      <td>75</td>\n",
       "      <td>[{'alias': 'pizza', 'title': 'Pizza'}, {'alias...</td>\n",
       "      <td>4.5</td>\n",
       "      <td>{'latitude': 40.74613, 'longitude': -73.99015}</td>\n",
       "      <td>[delivery, pickup]</td>\n",
       "      <td>NaN</td>\n",
       "      <td>{'address1': '818 6th Ave', 'address2': None, ...</td>\n",
       "      <td>+12122542860</td>\n",
       "      <td>(212) 254-2860</td>\n",
       "      <td>4453.713536</td>\n",
       "    </tr>\n",
       "    <tr>\n",
       "      <th>39</th>\n",
       "      <td>S4uozcDEieoaXxIJ6TsUoQ</td>\n",
       "      <td>dellaroccos-brick-oven-pizza-brooklyn-2</td>\n",
       "      <td>Dellarocco's Brick Oven Pizza</td>\n",
       "      <td>https://s3-media2.fl.yelpcdn.com/bphoto/9oqFYb...</td>\n",
       "      <td>False</td>\n",
       "      <td>https://www.yelp.com/biz/dellaroccos-brick-ove...</td>\n",
       "      <td>349</td>\n",
       "      <td>[{'alias': 'pizza', 'title': 'Pizza'}, {'alias...</td>\n",
       "      <td>4.0</td>\n",
       "      <td>{'latitude': 40.6950309, 'longitude': -73.9961...</td>\n",
       "      <td>[delivery, pickup]</td>\n",
       "      <td>$$</td>\n",
       "      <td>{'address1': '214 Hicks St', 'address2': None,...</td>\n",
       "      <td>+17188581010</td>\n",
       "      <td>(718) 858-1010</td>\n",
       "      <td>1950.750202</td>\n",
       "    </tr>\n",
       "  </tbody>\n",
       "</table>\n",
       "</div>"
      ],
      "text/plain": [
       "                        id                                    alias  \\\n",
       "37  vVVmHacu2YAxKfpIjhfd1g                         norma-new-york-5   \n",
       "38  2-GsvFaQpVpbaIdwb9lSeQ                 andiamo-pizza-new-york-2   \n",
       "39  S4uozcDEieoaXxIJ6TsUoQ  dellaroccos-brick-oven-pizza-brooklyn-2   \n",
       "\n",
       "                             name  \\\n",
       "37                          Norma   \n",
       "38                  Andiamo Pizza   \n",
       "39  Dellarocco's Brick Oven Pizza   \n",
       "\n",
       "                                            image_url  is_closed  \\\n",
       "37  https://s3-media3.fl.yelpcdn.com/bphoto/qJKt5l...      False   \n",
       "38  https://s3-media2.fl.yelpcdn.com/bphoto/0SPjEd...      False   \n",
       "39  https://s3-media2.fl.yelpcdn.com/bphoto/9oqFYb...      False   \n",
       "\n",
       "                                                  url  review_count  \\\n",
       "37  https://www.yelp.com/biz/norma-new-york-5?adju...           604   \n",
       "38  https://www.yelp.com/biz/andiamo-pizza-new-yor...            75   \n",
       "39  https://www.yelp.com/biz/dellaroccos-brick-ove...           349   \n",
       "\n",
       "                                           categories  rating  \\\n",
       "37  [{'alias': 'italian', 'title': 'Italian'}, {'a...     4.5   \n",
       "38  [{'alias': 'pizza', 'title': 'Pizza'}, {'alias...     4.5   \n",
       "39  [{'alias': 'pizza', 'title': 'Pizza'}, {'alias...     4.0   \n",
       "\n",
       "                                          coordinates        transactions  \\\n",
       "37   {'latitude': 40.743553, 'longitude': -73.980026}  [delivery, pickup]   \n",
       "38     {'latitude': 40.74613, 'longitude': -73.99015}  [delivery, pickup]   \n",
       "39  {'latitude': 40.6950309, 'longitude': -73.9961...  [delivery, pickup]   \n",
       "\n",
       "   price                                           location         phone  \\\n",
       "37    $$  {'address1': '438 3rd Ave', 'address2': None, ...  +12128890600   \n",
       "38   NaN  {'address1': '818 6th Ave', 'address2': None, ...  +12122542860   \n",
       "39    $$  {'address1': '214 Hicks St', 'address2': None,...  +17188581010   \n",
       "\n",
       "     display_phone     distance  \n",
       "37  (212) 889-0600  4071.516986  \n",
       "38  (212) 254-2860  4453.713536  \n",
       "39  (718) 858-1010  1950.750202  "
      ]
     },
     "metadata": {},
     "output_type": "display_data"
    }
   ],
   "source": [
    "## concatenate the previous results and new results. \n",
    "businesses = pd.concat([biz, biz20],\n",
    "                      ignore_index=True)\n",
    "display(businesses.head(3), businesses.tail(3))"
   ]
  },
  {
   "cell_type": "code",
   "execution_count": null,
   "id": "1613322b",
   "metadata": {},
   "outputs": [],
   "source": []
  }
 ],
 "metadata": {
  "kernelspec": {
   "display_name": "Python (dojo-env)",
   "language": "python",
   "name": "dojo-env"
  },
  "language_info": {
   "codemirror_mode": {
    "name": "ipython",
    "version": 3
   },
   "file_extension": ".py",
   "mimetype": "text/x-python",
   "name": "python",
   "nbconvert_exporter": "python",
   "pygments_lexer": "ipython3",
   "version": "3.9.15"
  },
  "toc": {
   "base_numbering": 1,
   "nav_menu": {},
   "number_sections": false,
   "sideBar": true,
   "skip_h1_title": false,
   "title_cell": "Table of Contents",
   "title_sidebar": "Contents",
   "toc_cell": false,
   "toc_position": {},
   "toc_section_display": true,
   "toc_window_display": false
  }
 },
 "nbformat": 4,
 "nbformat_minor": 5
}
