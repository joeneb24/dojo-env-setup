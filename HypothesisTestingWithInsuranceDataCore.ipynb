{
 "cells": [
  {
   "cell_type": "code",
   "execution_count": 1,
   "id": "74d7ceb6",
   "metadata": {
    "ExecuteTime": {
     "end_time": "2023-05-12T01:16:46.376292Z",
     "start_time": "2023-05-12T01:16:45.490927Z"
    }
   },
   "outputs": [],
   "source": [
    "import pandas as pd\n",
    "import numpy as np\n",
    "import matplotlib.pyplot as plt\n",
    "import seaborn as sns\n",
    "import scipy.stats as stats"
   ]
  },
  {
   "cell_type": "code",
   "execution_count": 2,
   "id": "eaaea2fd",
   "metadata": {
    "ExecuteTime": {
     "end_time": "2023-05-12T01:16:47.710906Z",
     "start_time": "2023-05-12T01:16:46.377293Z"
    }
   },
   "outputs": [
    {
     "data": {
      "text/html": [
       "<div>\n",
       "<style scoped>\n",
       "    .dataframe tbody tr th:only-of-type {\n",
       "        vertical-align: middle;\n",
       "    }\n",
       "\n",
       "    .dataframe tbody tr th {\n",
       "        vertical-align: top;\n",
       "    }\n",
       "\n",
       "    .dataframe thead th {\n",
       "        text-align: right;\n",
       "    }\n",
       "</style>\n",
       "<table border=\"1\" class=\"dataframe\">\n",
       "  <thead>\n",
       "    <tr style=\"text-align: right;\">\n",
       "      <th></th>\n",
       "      <th>age</th>\n",
       "      <th>sex</th>\n",
       "      <th>bmi</th>\n",
       "      <th>children</th>\n",
       "      <th>smoker</th>\n",
       "      <th>region</th>\n",
       "      <th>charges</th>\n",
       "    </tr>\n",
       "  </thead>\n",
       "  <tbody>\n",
       "    <tr>\n",
       "      <th>0</th>\n",
       "      <td>19</td>\n",
       "      <td>female</td>\n",
       "      <td>27.900</td>\n",
       "      <td>0</td>\n",
       "      <td>yes</td>\n",
       "      <td>southwest</td>\n",
       "      <td>16884.92400</td>\n",
       "    </tr>\n",
       "    <tr>\n",
       "      <th>1</th>\n",
       "      <td>18</td>\n",
       "      <td>male</td>\n",
       "      <td>33.770</td>\n",
       "      <td>1</td>\n",
       "      <td>no</td>\n",
       "      <td>southeast</td>\n",
       "      <td>1725.55230</td>\n",
       "    </tr>\n",
       "    <tr>\n",
       "      <th>2</th>\n",
       "      <td>28</td>\n",
       "      <td>male</td>\n",
       "      <td>33.000</td>\n",
       "      <td>3</td>\n",
       "      <td>no</td>\n",
       "      <td>southeast</td>\n",
       "      <td>4449.46200</td>\n",
       "    </tr>\n",
       "    <tr>\n",
       "      <th>3</th>\n",
       "      <td>33</td>\n",
       "      <td>male</td>\n",
       "      <td>22.705</td>\n",
       "      <td>0</td>\n",
       "      <td>no</td>\n",
       "      <td>northwest</td>\n",
       "      <td>21984.47061</td>\n",
       "    </tr>\n",
       "    <tr>\n",
       "      <th>4</th>\n",
       "      <td>32</td>\n",
       "      <td>male</td>\n",
       "      <td>28.880</td>\n",
       "      <td>0</td>\n",
       "      <td>no</td>\n",
       "      <td>northwest</td>\n",
       "      <td>3866.85520</td>\n",
       "    </tr>\n",
       "  </tbody>\n",
       "</table>\n",
       "</div>"
      ],
      "text/plain": [
       "   age     sex     bmi  children smoker     region      charges\n",
       "0   19  female  27.900         0    yes  southwest  16884.92400\n",
       "1   18    male  33.770         1     no  southeast   1725.55230\n",
       "2   28    male  33.000         3     no  southeast   4449.46200\n",
       "3   33    male  22.705         0     no  northwest  21984.47061\n",
       "4   32    male  28.880         0     no  northwest   3866.85520"
      ]
     },
     "execution_count": 2,
     "metadata": {},
     "output_type": "execute_result"
    }
   ],
   "source": [
    "df = pd.read_csv('https://docs.google.com/spreadsheets/d/e/2PACX-1vRicJhfB4KqN803y8BnApB987GWGRohnqnfu3U08IT7ahFeQgx8mHIoQNQ1CTbTLlcXDCSF_24Fw9Jl/pub?gid=89785152&single=true&output=csv')\n",
    "df.head()"
   ]
  },
  {
   "cell_type": "markdown",
   "id": "57c80332",
   "metadata": {},
   "source": [
    "# Q1. Do smokers have higher insurance charges than non-smokers?"
   ]
  },
  {
   "cell_type": "markdown",
   "id": "9b1ce662",
   "metadata": {},
   "source": [
    "* Null Hypothesis: There is no difference between insurance charges for people who smoke and those who do not smoke. \n",
    "* Alternative Hypothesis:There are higher insurance charges for people that smoke than those who do not smoke. "
   ]
  },
  {
   "cell_type": "markdown",
   "id": "431d9ed1",
   "metadata": {},
   "source": [
    "* Select the correct test according to the data type and number of samples: 2 sample T-Tests"
   ]
  },
  {
   "cell_type": "code",
   "execution_count": 3,
   "id": "b4128217",
   "metadata": {
    "ExecuteTime": {
     "end_time": "2023-05-12T01:16:47.726926Z",
     "start_time": "2023-05-12T01:16:47.710906Z"
    }
   },
   "outputs": [
    {
     "data": {
      "text/plain": [
       "no     1064\n",
       "yes     274\n",
       "Name: smoker, dtype: int64"
      ]
     },
     "execution_count": 3,
     "metadata": {},
     "output_type": "execute_result"
    }
   ],
   "source": [
    "df['smoker'].value_counts()"
   ]
  },
  {
   "cell_type": "code",
   "execution_count": 4,
   "id": "34d277ef",
   "metadata": {
    "ExecuteTime": {
     "end_time": "2023-05-12T01:16:47.742436Z",
     "start_time": "2023-05-12T01:16:47.727926Z"
    }
   },
   "outputs": [
    {
     "data": {
      "text/plain": [
       "count     1338.000000\n",
       "mean     13270.422265\n",
       "std      12110.011237\n",
       "min       1121.873900\n",
       "25%       4740.287150\n",
       "50%       9382.033000\n",
       "75%      16639.912515\n",
       "max      63770.428010\n",
       "Name: charges, dtype: float64"
      ]
     },
     "execution_count": 4,
     "metadata": {},
     "output_type": "execute_result"
    }
   ],
   "source": [
    "df['charges'].describe()"
   ]
  },
  {
   "cell_type": "code",
   "execution_count": 5,
   "id": "e913db8c",
   "metadata": {
    "ExecuteTime": {
     "end_time": "2023-05-12T01:16:47.757734Z",
     "start_time": "2023-05-12T01:16:47.743572Z"
    }
   },
   "outputs": [],
   "source": [
    "smoker_charge = df.loc[df['smoker']=='yes', \"charges\"].copy()\n",
    "no_smoker_charge = df.loc[df['smoker']=='no', \"charges\"].copy()"
   ]
  },
  {
   "cell_type": "code",
   "execution_count": 6,
   "id": "5715840b",
   "metadata": {
    "ExecuteTime": {
     "end_time": "2023-05-12T01:16:47.773329Z",
     "start_time": "2023-05-12T01:16:47.758735Z"
    },
    "scrolled": true
   },
   "outputs": [
    {
     "data": {
      "text/plain": [
       "0"
      ]
     },
     "execution_count": 6,
     "metadata": {},
     "output_type": "execute_result"
    }
   ],
   "source": [
    "zscores_smoker = stats.zscore(smoker_charge)\n",
    "outliers_smoker = abs(zscores_smoker)>3\n",
    "np.sum(outliers_smoker)"
   ]
  },
  {
   "cell_type": "code",
   "execution_count": 7,
   "id": "1f0b51f1",
   "metadata": {
    "ExecuteTime": {
     "end_time": "2023-05-12T01:16:47.788524Z",
     "start_time": "2023-05-12T01:16:47.774329Z"
    },
    "scrolled": true
   },
   "outputs": [
    {
     "data": {
      "text/plain": [
       "24"
      ]
     },
     "execution_count": 7,
     "metadata": {},
     "output_type": "execute_result"
    }
   ],
   "source": [
    "zscores_no_smoker = stats.zscore(no_smoker_charge)\n",
    "outliers_no_smoker = abs(zscores_no_smoker)>3\n",
    "np.sum(outliers_no_smoker)"
   ]
  },
  {
   "cell_type": "code",
   "execution_count": 8,
   "id": "99b3f06d",
   "metadata": {
    "ExecuteTime": {
     "end_time": "2023-05-12T01:16:47.804226Z",
     "start_time": "2023-05-12T01:16:47.789525Z"
    }
   },
   "outputs": [],
   "source": [
    "# remove outliers from female group\n",
    "no_smoker_charge = no_smoker_charge[(np.abs(stats.zscore(no_smoker_charge)) < 3)]"
   ]
  },
  {
   "cell_type": "code",
   "execution_count": 9,
   "id": "7a18461b",
   "metadata": {
    "ExecuteTime": {
     "end_time": "2023-05-12T01:16:47.819743Z",
     "start_time": "2023-05-12T01:16:47.805227Z"
    }
   },
   "outputs": [
    {
     "data": {
      "text/plain": [
       "NormaltestResult(statistic=61.03941356533816, pvalue=5.564930630036463e-14)"
      ]
     },
     "execution_count": 9,
     "metadata": {},
     "output_type": "execute_result"
    }
   ],
   "source": [
    "# test the male group for normality\n",
    "norm_result_smoker = stats.normaltest(smoker_charge)\n",
    "norm_result_smoker"
   ]
  },
  {
   "cell_type": "code",
   "execution_count": 10,
   "id": "753b53aa",
   "metadata": {
    "ExecuteTime": {
     "end_time": "2023-05-12T01:16:47.835277Z",
     "start_time": "2023-05-12T01:16:47.820745Z"
    }
   },
   "outputs": [
    {
     "data": {
      "text/plain": [
       "NormaltestResult(statistic=163.80367047789198, pvalue=2.6945416315543976e-36)"
      ]
     },
     "execution_count": 10,
     "metadata": {},
     "output_type": "execute_result"
    }
   ],
   "source": [
    "# test the male group for normality\n",
    "norm_result_no_smoker = stats.normaltest(no_smoker_charge)\n",
    "norm_result_no_smoker"
   ]
  },
  {
   "cell_type": "code",
   "execution_count": 11,
   "id": "5a48ed83",
   "metadata": {
    "ExecuteTime": {
     "end_time": "2023-05-12T01:16:47.850706Z",
     "start_time": "2023-05-12T01:16:47.836278Z"
    }
   },
   "outputs": [
    {
     "data": {
      "text/plain": [
       "LeveneResult(statistic=520.7468821724297, pvalue=2.4247238784347824e-97)"
      ]
     },
     "execution_count": 11,
     "metadata": {},
     "output_type": "execute_result"
    }
   ],
   "source": [
    "# Test for equal variance\n",
    "variance_result = stats.levene(smoker_charge, no_smoker_charge)\n",
    "variance_result"
   ]
  },
  {
   "cell_type": "code",
   "execution_count": 12,
   "id": "8ee8693a",
   "metadata": {
    "ExecuteTime": {
     "end_time": "2023-05-12T01:16:47.865403Z",
     "start_time": "2023-05-12T01:16:47.851706Z"
    }
   },
   "outputs": [
    {
     "data": {
      "text/plain": [
       "Ttest_indResult(statistic=0.0, pvalue=1.0)"
      ]
     },
     "execution_count": 12,
     "metadata": {},
     "output_type": "execute_result"
    }
   ],
   "source": [
    "# Independent t-test with equal_var set to False\n",
    "ttest_result = stats.ttest_ind(smoker_charge, smoker_charge, equal_var = False)\n",
    "ttest_result"
   ]
  },
  {
   "cell_type": "markdown",
   "id": "d72ceff2",
   "metadata": {},
   "source": [
    "* The T-Test pvalue is < 0.05, so we reject the null hypothesis and accept that there is a significant difference between the charges for people who smoke and those who do not smoke. "
   ]
  },
  {
   "cell_type": "code",
   "execution_count": 13,
   "id": "ebf603fe",
   "metadata": {
    "ExecuteTime": {
     "end_time": "2023-05-12T01:16:48.238608Z",
     "start_time": "2023-05-12T01:16:47.866404Z"
    },
    "scrolled": true
   },
   "outputs": [
    {
     "data": {
      "image/png": "[encoded data removed]",
      "text/plain": [
       "<Figure size 1000x500 with 2 Axes>"
      ]
     },
     "metadata": {},
     "output_type": "display_data"
    }
   ],
   "source": [
    "smoker_palette={'yes':'dodgerblue', \"no\":'salmon'}\n",
    "## Visualizing Sample means\n",
    "fig, (ax,ax_bar) = plt.subplots(figsize= (10,5), ncols=2, \n",
    "                                constrained_layout=True,\n",
    "                                gridspec_kw={'width_ratios':[0.8,0.2]})\n",
    "\n",
    "\n",
    "# Histogram\n",
    "ax = sns.histplot(data=df, x='charges',fill=True,hue='smoker',kde=True,\n",
    "                  stat='density',common_norm=False,ax=ax,\n",
    "                  palette=smoker_palette)\n",
    "\n",
    "ax.axvline(np.mean(smoker_charge), ls='--',lw=3, \n",
    "           label=f\"Smoker (Mean={np.mean(smoker_charge):.2f})\",color=smoker_palette['yes'])\n",
    "\n",
    "ax.axvline(np.mean(no_smoker_charge), ls='--', lw=3, \n",
    "           label=f\"Non-Smoker (Mean={np.mean(no_smoker_charge):.2f})\",color=smoker_palette['no'])\n",
    "\n",
    "ax.legend(prop={\"size\":14}, loc='upper right')#bbox_to_anchor=[1,1])\n",
    "## Barplot\n",
    "sns.barplot(data=df, x='smoker',y='charges',ax = ax_bar,palette=smoker_palette)\n",
    "fig.suptitle('Comparison of Height by Smoking Status',fontsize='xx-large');"
   ]
  },
  {
   "cell_type": "markdown",
   "id": "c7d522e4",
   "metadata": {},
   "source": [
    "# Q2: Are men more likely to smoke than women?"
   ]
  },
  {
   "cell_type": "markdown",
   "id": "48473515",
   "metadata": {},
   "source": [
    "* Null Hypothesis: There is no relationship between sex and if someone smokes\n",
    "* Alternative Hypothesis: A person's sex influences whether or not a person smokes. "
   ]
  },
  {
   "cell_type": "markdown",
   "id": "8d7806b9",
   "metadata": {},
   "source": [
    "* Select the correct test according to the data type and number of samples: Chi-Square"
   ]
  },
  {
   "cell_type": "code",
   "execution_count": 14,
   "id": "41550c31",
   "metadata": {
    "ExecuteTime": {
     "end_time": "2023-05-12T01:16:48.254629Z",
     "start_time": "2023-05-12T01:16:48.239608Z"
    }
   },
   "outputs": [
    {
     "data": {
      "text/plain": [
       "male      676\n",
       "female    662\n",
       "Name: sex, dtype: int64"
      ]
     },
     "execution_count": 14,
     "metadata": {},
     "output_type": "execute_result"
    }
   ],
   "source": [
    "df['sex'].value_counts()"
   ]
  },
  {
   "cell_type": "code",
   "execution_count": 15,
   "id": "fcc3825f",
   "metadata": {
    "ExecuteTime": {
     "end_time": "2023-05-12T01:16:48.270141Z",
     "start_time": "2023-05-12T01:16:48.255630Z"
    }
   },
   "outputs": [
    {
     "data": {
      "text/html": [
       "<div>\n",
       "<style scoped>\n",
       "    .dataframe tbody tr th:only-of-type {\n",
       "        vertical-align: middle;\n",
       "    }\n",
       "\n",
       "    .dataframe tbody tr th {\n",
       "        vertical-align: top;\n",
       "    }\n",
       "\n",
       "    .dataframe thead th {\n",
       "        text-align: right;\n",
       "    }\n",
       "</style>\n",
       "<table border=\"1\" class=\"dataframe\">\n",
       "  <thead>\n",
       "    <tr style=\"text-align: right;\">\n",
       "      <th>smoker</th>\n",
       "      <th>no</th>\n",
       "      <th>yes</th>\n",
       "    </tr>\n",
       "    <tr>\n",
       "      <th>sex</th>\n",
       "      <th></th>\n",
       "      <th></th>\n",
       "    </tr>\n",
       "  </thead>\n",
       "  <tbody>\n",
       "    <tr>\n",
       "      <th>female</th>\n",
       "      <td>547</td>\n",
       "      <td>115</td>\n",
       "    </tr>\n",
       "    <tr>\n",
       "      <th>male</th>\n",
       "      <td>517</td>\n",
       "      <td>159</td>\n",
       "    </tr>\n",
       "  </tbody>\n",
       "</table>\n",
       "</div>"
      ],
      "text/plain": [
       "smoker   no  yes\n",
       "sex             \n",
       "female  547  115\n",
       "male    517  159"
      ]
     },
     "execution_count": 15,
     "metadata": {},
     "output_type": "execute_result"
    }
   ],
   "source": [
    "smoke_table = pd.crosstab(df['sex'], df['smoker'])\n",
    "smoke_table"
   ]
  },
  {
   "cell_type": "code",
   "execution_count": 16,
   "id": "95c56b69",
   "metadata": {
    "ExecuteTime": {
     "end_time": "2023-05-12T01:16:48.285731Z",
     "start_time": "2023-05-12T01:16:48.271142Z"
    }
   },
   "outputs": [],
   "source": [
    "# Run the Test and Save the Output\n",
    "smoke_result = stats.chi2_contingency(smoke_table)\n",
    "chi2, p, deg_free, expected_vals = smoke_result #this labels the results"
   ]
  },
  {
   "cell_type": "code",
   "execution_count": 17,
   "id": "beae06b0",
   "metadata": {
    "ExecuteTime": {
     "end_time": "2023-05-12T01:16:48.301243Z",
     "start_time": "2023-05-12T01:16:48.286732Z"
    }
   },
   "outputs": [
    {
     "name": "stdout",
     "output_type": "stream",
     "text": [
      "0.006548143503580696\n"
     ]
    },
    {
     "data": {
      "text/plain": [
       "True"
      ]
     },
     "execution_count": 17,
     "metadata": {},
     "output_type": "execute_result"
    }
   ],
   "source": [
    "# What was our p-value?\n",
    "print(p)\n",
    "p<.05"
   ]
  },
  {
   "cell_type": "markdown",
   "id": "0ae574bd",
   "metadata": {},
   "source": [
    "* The p-value is less than 0.05 in our chi-square test, we reject the null hypothesis. There is a relationship between a person's sex and whether or not they smoke. "
   ]
  },
  {
   "cell_type": "code",
   "execution_count": 18,
   "id": "68ccc314",
   "metadata": {
    "ExecuteTime": {
     "end_time": "2023-05-12T01:16:48.379288Z",
     "start_time": "2023-05-12T01:16:48.302245Z"
    },
    "scrolled": false
   },
   "outputs": [
    {
     "data": {
      "image/png": "[encoded data removed]",
      "text/plain": [
       "<Figure size 640x480 with 1 Axes>"
      ]
     },
     "metadata": {},
     "output_type": "display_data"
    }
   ],
   "source": [
    "ax = sns.countplot(data=df, x='sex',hue='smoker',)\n",
    "ax.set_title(\"Number of Smokers by Sex\");"
   ]
  },
  {
   "cell_type": "markdown",
   "id": "1bbc7e60",
   "metadata": {},
   "source": [
    "# Q3. Do different regions have different charges, on average?"
   ]
  },
  {
   "cell_type": "markdown",
   "id": "75bc6cf5",
   "metadata": {},
   "source": [
    "* Null Hypothesis: Different regions all have the same charges on average. \n",
    "* Alternative Hypothesis: Different regions have different charges. "
   ]
  },
  {
   "cell_type": "markdown",
   "id": "f64a1378",
   "metadata": {},
   "source": [
    "* Select the correct test according to the data type and number of samples: ANOVA"
   ]
  },
  {
   "cell_type": "code",
   "execution_count": 19,
   "id": "e72391f3",
   "metadata": {
    "ExecuteTime": {
     "end_time": "2023-05-12T01:16:48.394550Z",
     "start_time": "2023-05-12T01:16:48.380289Z"
    }
   },
   "outputs": [
    {
     "data": {
      "text/plain": [
       "southeast    364\n",
       "southwest    325\n",
       "northwest    325\n",
       "northeast    324\n",
       "Name: region, dtype: int64"
      ]
     },
     "execution_count": 19,
     "metadata": {},
     "output_type": "execute_result"
    }
   ],
   "source": [
    "df['region'].value_counts()"
   ]
  },
  {
   "cell_type": "code",
   "execution_count": 20,
   "id": "7d3712d9",
   "metadata": {
    "ExecuteTime": {
     "end_time": "2023-05-12T01:16:48.410445Z",
     "start_time": "2023-05-12T01:16:48.395550Z"
    }
   },
   "outputs": [
    {
     "data": {
      "text/plain": [
       "dict_keys(['southwest', 'southeast', 'northwest', 'northeast'])"
      ]
     },
     "execution_count": 20,
     "metadata": {},
     "output_type": "execute_result"
    }
   ],
   "source": [
    "## Create groups dictionary. There are only 3 groups, but this is even more helpful when there are many groups\n",
    "regions = {}\n",
    "## Loop through all unique categories\n",
    "for i in df['region'].unique():\n",
    "    ## Get series for group and rename\n",
    "    data = df.loc[df['region']==i,'charges'].copy()\n",
    "    \n",
    "    # save into the dictionary\n",
    "    regions[i] = data\n",
    "regions.keys()"
   ]
  },
  {
   "cell_type": "code",
   "execution_count": 21,
   "id": "53c94eb3",
   "metadata": {
    "ExecuteTime": {
     "end_time": "2023-05-12T01:16:48.425469Z",
     "start_time": "2023-05-12T01:16:48.411446Z"
    }
   },
   "outputs": [
    {
     "data": {
      "text/html": [
       "<div>\n",
       "<style scoped>\n",
       "    .dataframe tbody tr th:only-of-type {\n",
       "        vertical-align: middle;\n",
       "    }\n",
       "\n",
       "    .dataframe tbody tr th {\n",
       "        vertical-align: top;\n",
       "    }\n",
       "\n",
       "    .dataframe thead th {\n",
       "        text-align: right;\n",
       "    }\n",
       "</style>\n",
       "<table border=\"1\" class=\"dataframe\">\n",
       "  <thead>\n",
       "    <tr style=\"text-align: right;\">\n",
       "      <th></th>\n",
       "      <th>n</th>\n",
       "      <th>p</th>\n",
       "      <th>test stat</th>\n",
       "    </tr>\n",
       "  </thead>\n",
       "  <tbody>\n",
       "    <tr>\n",
       "      <th>southwest</th>\n",
       "      <td>325.0</td>\n",
       "      <td>6.125298e-23</td>\n",
       "      <td>102.294059</td>\n",
       "    </tr>\n",
       "    <tr>\n",
       "      <th>southeast</th>\n",
       "      <td>364.0</td>\n",
       "      <td>4.953297e-15</td>\n",
       "      <td>65.877446</td>\n",
       "    </tr>\n",
       "    <tr>\n",
       "      <th>northwest</th>\n",
       "      <td>325.0</td>\n",
       "      <td>5.184209e-24</td>\n",
       "      <td>107.232850</td>\n",
       "    </tr>\n",
       "    <tr>\n",
       "      <th>northeast</th>\n",
       "      <td>324.0</td>\n",
       "      <td>1.455431e-19</td>\n",
       "      <td>86.747629</td>\n",
       "    </tr>\n",
       "  </tbody>\n",
       "</table>\n",
       "</div>"
      ],
      "text/plain": [
       "               n             p   test stat\n",
       "southwest  325.0  6.125298e-23  102.294059\n",
       "southeast  364.0  4.953297e-15   65.877446\n",
       "northwest  325.0  5.184209e-24  107.232850\n",
       "northeast  324.0  1.455431e-19   86.747629"
      ]
     },
     "execution_count": 21,
     "metadata": {},
     "output_type": "execute_result"
    }
   ],
   "source": [
    "## Running normal test on each group and confirming there are >20 in each group\n",
    "norm_results = {}\n",
    "for i, data in regions.items():\n",
    "    stat, p = stats.normaltest(data)\n",
    "    ## save the p val, test statistic, and the size of the group\n",
    "    norm_results[i] = {'n': len(data),\n",
    "                             'p':p,\n",
    "                             'test stat':stat,}\n",
    "## convert to a dataframe\n",
    "norm_results_df = pd.DataFrame(norm_results).T\n",
    "norm_results_df"
   ]
  },
  {
   "cell_type": "code",
   "execution_count": 22,
   "id": "e5cb0ab3",
   "metadata": {
    "ExecuteTime": {
     "end_time": "2023-05-12T01:16:48.440292Z",
     "start_time": "2023-05-12T01:16:48.425469Z"
    }
   },
   "outputs": [
    {
     "data": {
      "text/html": [
       "<div>\n",
       "<style scoped>\n",
       "    .dataframe tbody tr th:only-of-type {\n",
       "        vertical-align: middle;\n",
       "    }\n",
       "\n",
       "    .dataframe tbody tr th {\n",
       "        vertical-align: top;\n",
       "    }\n",
       "\n",
       "    .dataframe thead th {\n",
       "        text-align: right;\n",
       "    }\n",
       "</style>\n",
       "<table border=\"1\" class=\"dataframe\">\n",
       "  <thead>\n",
       "    <tr style=\"text-align: right;\">\n",
       "      <th></th>\n",
       "      <th>n</th>\n",
       "      <th>p</th>\n",
       "      <th>test stat</th>\n",
       "      <th>sig</th>\n",
       "    </tr>\n",
       "  </thead>\n",
       "  <tbody>\n",
       "    <tr>\n",
       "      <th>southwest</th>\n",
       "      <td>325.0</td>\n",
       "      <td>6.125298e-23</td>\n",
       "      <td>102.294059</td>\n",
       "      <td>True</td>\n",
       "    </tr>\n",
       "    <tr>\n",
       "      <th>southeast</th>\n",
       "      <td>364.0</td>\n",
       "      <td>4.953297e-15</td>\n",
       "      <td>65.877446</td>\n",
       "      <td>True</td>\n",
       "    </tr>\n",
       "    <tr>\n",
       "      <th>northwest</th>\n",
       "      <td>325.0</td>\n",
       "      <td>5.184209e-24</td>\n",
       "      <td>107.232850</td>\n",
       "      <td>True</td>\n",
       "    </tr>\n",
       "    <tr>\n",
       "      <th>northeast</th>\n",
       "      <td>324.0</td>\n",
       "      <td>1.455431e-19</td>\n",
       "      <td>86.747629</td>\n",
       "      <td>True</td>\n",
       "    </tr>\n",
       "  </tbody>\n",
       "</table>\n",
       "</div>"
      ],
      "text/plain": [
       "               n             p   test stat   sig\n",
       "southwest  325.0  6.125298e-23  102.294059  True\n",
       "southeast  364.0  4.953297e-15   65.877446  True\n",
       "northwest  325.0  5.184209e-24  107.232850  True\n",
       "northeast  324.0  1.455431e-19   86.747629  True"
      ]
     },
     "execution_count": 22,
     "metadata": {},
     "output_type": "execute_result"
    }
   ],
   "source": [
    "### checking sig with pandas \n",
    "norm_results_df['sig'] = norm_results_df['p'] < .05 \n",
    "norm_results_df"
   ]
  },
  {
   "cell_type": "markdown",
   "id": "dba5ab7a",
   "metadata": {},
   "source": [
    "* The data is not normally distributed, but since we have a large enough sample we can ignore this assumption. We will continue with the ANOVA test. "
   ]
  },
  {
   "cell_type": "code",
   "execution_count": 23,
   "id": "6bc25ff0",
   "metadata": {
    "ExecuteTime": {
     "end_time": "2023-05-12T01:16:48.456401Z",
     "start_time": "2023-05-12T01:16:48.441292Z"
    }
   },
   "outputs": [
    {
     "data": {
      "text/plain": [
       "LeveneResult(statistic=5.559966758410606, pvalue=0.0008610590250786703)"
      ]
     },
     "execution_count": 23,
     "metadata": {},
     "output_type": "execute_result"
    }
   ],
   "source": [
    "# with the * operator \n",
    "stats.levene(*regions.values())"
   ]
  },
  {
   "cell_type": "markdown",
   "id": "bb7afa6a",
   "metadata": {},
   "source": [
    "* The pvalue is less than 0.05, so use Kruskal_wallis"
   ]
  },
  {
   "cell_type": "code",
   "execution_count": 24,
   "id": "0e838b45",
   "metadata": {
    "ExecuteTime": {
     "end_time": "2023-05-12T01:16:48.472468Z",
     "start_time": "2023-05-12T01:16:48.457402Z"
    }
   },
   "outputs": [
    {
     "data": {
      "text/plain": [
       "KruskalResult(statistic=4.734181215658743, pvalue=0.19232908072121002)"
      ]
     },
     "execution_count": 24,
     "metadata": {},
     "output_type": "execute_result"
    }
   ],
   "source": [
    "# perform the correct hypothesis test\n",
    "# note again the use of the * operator for convenience\n",
    "result = stats.kruskal( *regions.values())\n",
    "result"
   ]
  },
  {
   "cell_type": "markdown",
   "id": "02feb3ef",
   "metadata": {},
   "source": [
    "* We fail to reject the null hypothesis. There is no significant difference between regions and their charges. In this case pvalue is greater than the alpha. "
   ]
  },
  {
   "cell_type": "code",
   "execution_count": 25,
   "id": "1a6a92e3",
   "metadata": {
    "ExecuteTime": {
     "end_time": "2023-05-12T01:16:48.582413Z",
     "start_time": "2023-05-12T01:16:48.473905Z"
    }
   },
   "outputs": [
    {
     "data": {
      "image/png": "[encoded data removed]",
      "text/plain": [
       "<Figure size 640x480 with 1 Axes>"
      ]
     },
     "metadata": {},
     "output_type": "display_data"
    }
   ],
   "source": [
    "sns.barplot(data=df, x='region',y='charges');"
   ]
  }
 ],
 "metadata": {
  "kernelspec": {
   "display_name": "Python (dojo-env)",
   "language": "python",
   "name": "dojo-env"
  },
  "language_info": {
   "codemirror_mode": {
    "name": "ipython",
    "version": 3
   },
   "file_extension": ".py",
   "mimetype": "text/x-python",
   "name": "python",
   "nbconvert_exporter": "python",
   "pygments_lexer": "ipython3",
   "version": "3.9.15"
  },
  "toc": {
   "base_numbering": 1,
   "nav_menu": {},
   "number_sections": false,
   "sideBar": true,
   "skip_h1_title": false,
   "title_cell": "Table of Contents",
   "title_sidebar": "Contents",
   "toc_cell": false,
   "toc_position": {},
   "toc_section_display": true,
   "toc_window_display": false
  }
 },
 "nbformat": 4,
 "nbformat_minor": 5
}
