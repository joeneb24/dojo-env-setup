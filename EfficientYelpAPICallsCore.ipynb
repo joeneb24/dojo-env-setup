{
 "cells": [
  {
   "cell_type": "code",
   "execution_count": 1,
   "id": "4876d33d",
   "metadata": {
    "ExecuteTime": {
     "end_time": "2023-05-04T19:21:07.807690Z",
     "start_time": "2023-05-04T19:21:06.825010Z"
    }
   },
   "outputs": [],
   "source": [
    "# Standard Imports\n",
    "import numpy as np\n",
    "import pandas as pd\n",
    "import matplotlib.pyplot as plt\n",
    "import seaborn as sns\n",
    "# Additional Imports\n",
    "import os, json, math, time\n",
    "from yelpapi import YelpAPI\n",
    "from tqdm.notebook import tqdm_notebook"
   ]
  },
  {
   "cell_type": "code",
   "execution_count": 2,
   "id": "044f0302",
   "metadata": {
    "ExecuteTime": {
     "end_time": "2023-05-04T19:21:09.678218Z",
     "start_time": "2023-05-04T19:21:09.671585Z"
    }
   },
   "outputs": [],
   "source": [
    "# Load API Credentials\n",
    "with open('/Users/Joene/.secret/yelp_api.json') as f:   #use your path here!\n",
    "    login = json.load(f)\n",
    "# Instantiate YelpAPI Variable\n",
    "yelp_api = YelpAPI(login['api-key'], timeout_s=5.0)"
   ]
  },
  {
   "cell_type": "code",
   "execution_count": 10,
   "id": "04c88726",
   "metadata": {
    "ExecuteTime": {
     "end_time": "2023-05-04T19:22:30.303551Z",
     "start_time": "2023-05-04T19:22:30.294550Z"
    }
   },
   "outputs": [],
   "source": [
    "# set our API call parameters \n",
    "LOCATION = 'Vancouver, Wa'\n",
    "TERM = 'Pho'"
   ]
  },
  {
   "cell_type": "code",
   "execution_count": 4,
   "id": "9c79dc1a",
   "metadata": {
    "ExecuteTime": {
     "end_time": "2023-05-04T19:21:13.150221Z",
     "start_time": "2023-05-04T19:21:13.133701Z"
    }
   },
   "outputs": [
    {
     "data": {
      "text/plain": [
       "'Data/results_in_progress_vancouver_pho.json'"
      ]
     },
     "execution_count": 4,
     "metadata": {},
     "output_type": "execute_result"
    }
   ],
   "source": [
    "# Specifying JSON_FILE filename (can include a folder)\n",
    "# include the search terms in the filename\n",
    "JSON_FILE = \"Data/results_in_progress_vancouver_pho.json\"\n",
    "JSON_FILE"
   ]
  },
  {
   "cell_type": "code",
   "execution_count": 5,
   "id": "00b299fa",
   "metadata": {
    "ExecuteTime": {
     "end_time": "2023-05-04T19:21:18.593969Z",
     "start_time": "2023-05-04T19:21:18.572942Z"
    }
   },
   "outputs": [
    {
     "name": "stdout",
     "output_type": "stream",
     "text": [
      "[i] Data/results_in_progress_vancouver_pho.json already exists.\n"
     ]
    }
   ],
   "source": [
    "## Check if JSON_FILE exists\n",
    "file_exists = os.path.isfile(JSON_FILE)\n",
    "## If it does not exist: \n",
    "if file_exists == False:\n",
    "    \n",
    "    ## CREATE ANY NEEDED FOLDERS\n",
    "    # Get the Folder Name only\n",
    "    folder = os.path.dirname(JSON_FILE)\n",
    "    ## If JSON_FILE included a folder:\n",
    "    if len(folder)>0:\n",
    "        # create the folder\n",
    "        os.makedirs(folder,exist_ok=True)\n",
    "        \n",
    "        \n",
    "    ## INFORM USER AND SAVE EMPTY LIST\n",
    "    print(f'[i] {JSON_FILE} not found. Saving empty list to file.')\n",
    "    \n",
    "    \n",
    "    # save an empty list\n",
    "    with open(JSON_FILE,'w') as f:\n",
    "        json.dump([],f)  \n",
    "# If it exists, inform user\n",
    "else:\n",
    "    print(f\"[i] {JSON_FILE} already exists.\")"
   ]
  },
  {
   "cell_type": "code",
   "execution_count": 6,
   "id": "20abf2c8",
   "metadata": {
    "ExecuteTime": {
     "end_time": "2023-05-04T19:21:22.694935Z",
     "start_time": "2023-05-04T19:21:22.685264Z"
    }
   },
   "outputs": [
    {
     "name": "stdout",
     "output_type": "stream",
     "text": [
      "- 0 previous results found.\n"
     ]
    }
   ],
   "source": [
    "## Load previous results and use len of results for offset\n",
    "with open(JSON_FILE,'r') as f:\n",
    "    previous_results = json.load(f)\n",
    "    \n",
    "## set offset based on previous results\n",
    "n_results = len(previous_results)\n",
    "print(f'- {n_results} previous results found.')"
   ]
  },
  {
   "cell_type": "code",
   "execution_count": 11,
   "id": "2053e7d7",
   "metadata": {
    "ExecuteTime": {
     "end_time": "2023-05-04T19:22:37.618285Z",
     "start_time": "2023-05-04T19:22:37.075816Z"
    }
   },
   "outputs": [
    {
     "data": {
      "text/plain": [
       "dict_keys(['businesses', 'total', 'region'])"
      ]
     },
     "execution_count": 11,
     "metadata": {},
     "output_type": "execute_result"
    }
   ],
   "source": [
    "# use our yelp_api variable's search_query method to perform our API call\n",
    "results = yelp_api.search_query(location=LOCATION,\n",
    "                                term=TERM,\n",
    "                               offset=n_results)\n",
    "results.keys()"
   ]
  },
  {
   "cell_type": "code",
   "execution_count": 12,
   "id": "f3563ac8",
   "metadata": {
    "ExecuteTime": {
     "end_time": "2023-05-04T19:22:41.043612Z",
     "start_time": "2023-05-04T19:22:41.028580Z"
    }
   },
   "outputs": [
    {
     "data": {
      "text/plain": [
       "320"
      ]
     },
     "execution_count": 12,
     "metadata": {},
     "output_type": "execute_result"
    }
   ],
   "source": [
    "## How many results total?\n",
    "total_results = results['total']\n",
    "total_results"
   ]
  },
  {
   "cell_type": "code",
   "execution_count": 13,
   "id": "1399109d",
   "metadata": {
    "ExecuteTime": {
     "end_time": "2023-05-04T19:22:44.768200Z",
     "start_time": "2023-05-04T19:22:44.750896Z"
    }
   },
   "outputs": [
    {
     "data": {
      "text/plain": [
       "20"
      ]
     },
     "execution_count": 13,
     "metadata": {},
     "output_type": "execute_result"
    }
   ],
   "source": [
    "## How many did we get the details for?\n",
    "results_per_page = len(results['businesses'])\n",
    "results_per_page"
   ]
  },
  {
   "cell_type": "code",
   "execution_count": 14,
   "id": "efafb635",
   "metadata": {
    "ExecuteTime": {
     "end_time": "2023-05-04T19:22:52.155966Z",
     "start_time": "2023-05-04T19:22:52.140936Z"
    }
   },
   "outputs": [
    {
     "data": {
      "text/plain": [
       "16"
      ]
     },
     "execution_count": 14,
     "metadata": {},
     "output_type": "execute_result"
    }
   ],
   "source": [
    "# Import additional packages for controlling our loop\n",
    "import time, math\n",
    "# Use math.ceil to round up for the total number of pages of results.\n",
    "n_pages = math.ceil((results['total']-n_results)/ results_per_page)\n",
    "n_pages"
   ]
  },
  {
   "cell_type": "code",
   "execution_count": 15,
   "id": "e5cbb7dd",
   "metadata": {
    "ExecuteTime": {
     "end_time": "2023-05-04T19:23:05.179830Z",
     "start_time": "2023-05-04T19:23:05.158913Z"
    }
   },
   "outputs": [],
   "source": [
    "# join new results with old list with extend and save to file\n",
    "previous_results.extend(results['businesses'])  \n",
    "with open(JSON_FILE,'w') as f:\n",
    "     json.dump(previous_results,f)"
   ]
  },
  {
   "cell_type": "code",
   "execution_count": 16,
   "id": "2e6d97e6",
   "metadata": {
    "ExecuteTime": {
     "end_time": "2023-05-04T19:23:22.359332Z",
     "start_time": "2023-05-04T19:23:18.873987Z"
    }
   },
   "outputs": [
    {
     "data": {
      "application/vnd.jupyter.widget-view+json": {
       "model_id": "a8d1916e57b4441a9df4ff449925e70c",
       "version_major": 2,
       "version_minor": 0
      },
      "text/plain": [
       "  0%|          | 0/16 [00:00<?, ?it/s]"
      ]
     },
     "metadata": {},
     "output_type": "display_data"
    }
   ],
   "source": [
    "from tqdm.notebook import tqdm_notebook\n",
    "import time\n",
    "for i in tqdm_notebook(range(n_pages)):\n",
    "    # adds 200 ms pause\n",
    "    time.sleep(.2) "
   ]
  },
  {
   "cell_type": "code",
   "execution_count": 17,
   "id": "4ea07a8e",
   "metadata": {
    "ExecuteTime": {
     "end_time": "2023-05-04T19:23:37.349878Z",
     "start_time": "2023-05-04T19:23:37.337316Z"
    }
   },
   "outputs": [
    {
     "data": {
      "text/plain": [
       "False"
      ]
     },
     "execution_count": 17,
     "metadata": {},
     "output_type": "execute_result"
    }
   ],
   "source": [
    "## delete file and confirm it no longer exits.\n",
    "os.remove(JSON_FILE)\n",
    "os.path.isfile(JSON_FILE)"
   ]
  },
  {
   "cell_type": "code",
   "execution_count": 18,
   "id": "4363ab86",
   "metadata": {
    "ExecuteTime": {
     "end_time": "2023-05-04T19:23:44.394652Z",
     "start_time": "2023-05-04T19:23:44.379416Z"
    }
   },
   "outputs": [],
   "source": [
    "def create_json_file(JSON_FILE,  delete_if_exists=False):\n",
    "    \n",
    "    ## Check if JSON_FILE exists\n",
    "    file_exists = os.path.isfile(JSON_FILE)\n",
    "    \n",
    "    ## If it DOES exist:\n",
    "    if file_exists == True:\n",
    "        \n",
    "        ## Check if user wants to delete if exists\n",
    "        if delete_if_exists==True:\n",
    "            \n",
    "            print(f\"[!] {JSON_FILE} already exists. Deleting previous file...\")\n",
    "            ## delete file and confirm it no longer exits.\n",
    "            os.remove(JSON_FILE)\n",
    "            ## Recursive call to function after old file deleted\n",
    "            create_json_file(JSON_FILE,delete_if_exists=False)\n",
    "        else:\n",
    "            print(f\"[i] {JSON_FILE} already exists.\")            \n",
    "            \n",
    "            \n",
    "    ## If it does NOT exist:\n",
    "    else:\n",
    "        \n",
    "        ## INFORM USER AND SAVE EMPTY LIST\n",
    "        print(f\"[i] {JSON_FILE} not found. Saving empty list to new file.\")\n",
    "        \n",
    "        ## CREATE ANY NEEDED FOLDERS\n",
    "        # Get the Folder Name only\n",
    "        folder = os.path.dirname(JSON_FILE)\n",
    "        \n",
    "        ## If JSON_FILE included a folder:\n",
    "        if len(folder)>0:\n",
    "            # create the folder\n",
    "            os.makedirs(folder,exist_ok=True)\n",
    "        ## Save empty list to start the json file\n",
    "        with open(JSON_FILE,'w') as f:\n",
    "            json.dump([],f)  "
   ]
  },
  {
   "cell_type": "code",
   "execution_count": 19,
   "id": "17931b99",
   "metadata": {
    "ExecuteTime": {
     "end_time": "2023-05-04T19:23:52.315537Z",
     "start_time": "2023-05-04T19:23:51.847037Z"
    }
   },
   "outputs": [
    {
     "name": "stdout",
     "output_type": "stream",
     "text": [
      "[i] Data/results_in_progress_vancouver_pho.json not found. Saving empty list to new file.\n",
      "- 0 previous results found.\n"
     ]
    },
    {
     "data": {
      "text/plain": [
       "16"
      ]
     },
     "execution_count": 19,
     "metadata": {},
     "output_type": "execute_result"
    }
   ],
   "source": [
    "## Create a new empty json file (exist the previous if it exists)\n",
    "create_json_file(JSON_FILE, delete_if_exists=True)\n",
    "## Load previous results and use len of results for offset\n",
    "with open(JSON_FILE,'r') as f:\n",
    "    previous_results = json.load(f)\n",
    "    \n",
    "## set offset based on previous results\n",
    "n_results = len(previous_results)\n",
    "print(f'- {n_results} previous results found.')\n",
    "# use our yelp_api variable's search_query method to perform our API call\n",
    "results = yelp_api.search_query(location=LOCATION,\n",
    "                                term=TERM,\n",
    "                               offset=n_results)\n",
    "## How many results total?\n",
    "total_results = results['total']\n",
    "## How many did we get the details for?\n",
    "results_per_page = len(results['businesses'])\n",
    "# Use math.ceil to round up for the total number of pages of results.\n",
    "n_pages = math.ceil((results['total']-n_results)/ results_per_page)\n",
    "n_pages"
   ]
  },
  {
   "cell_type": "code",
   "execution_count": 20,
   "id": "270b362f",
   "metadata": {
    "ExecuteTime": {
     "end_time": "2023-05-04T19:24:14.090553Z",
     "start_time": "2023-05-04T19:23:59.815281Z"
    }
   },
   "outputs": [
    {
     "data": {
      "application/vnd.jupyter.widget-view+json": {
       "model_id": "ac76268e4e944e67a906966077826cef",
       "version_major": 2,
       "version_minor": 0
      },
      "text/plain": [
       "  0%|          | 0/16 [00:00<?, ?it/s]"
      ]
     },
     "metadata": {},
     "output_type": "display_data"
    }
   ],
   "source": [
    "for i in tqdm_notebook( range(1,n_pages+1)):\n",
    "    \n",
    "    ## Read in results in progress file and check the length\n",
    "    with open(JSON_FILE, 'r') as f:\n",
    "        previous_results = json.load(f)\n",
    "    ## save number of results for to use as offset\n",
    "    n_results = len(previous_results)\n",
    "    \n",
    "    if (n_results + results_per_page) > 1000:\n",
    "        print('Exceeded 1000 api calls. Stopping loop.')\n",
    "        break\n",
    "    \n",
    "    ## use n_results as the OFFSET \n",
    "    results = yelp_api.search_query(location=LOCATION,\n",
    "                                    term=TERM, \n",
    "                                    offset=n_results)\n",
    "    \n",
    "    \n",
    "    \n",
    "    ## append new results and save to file\n",
    "    previous_results.extend(results['businesses'])\n",
    "    \n",
    "    # display(previous_results)\n",
    "    with open(JSON_FILE,'w') as f:\n",
    "        json.dump(previous_results,f)\n",
    "    \n",
    "    time.sleep(.2)"
   ]
  },
  {
   "cell_type": "code",
   "execution_count": 21,
   "id": "87593a97",
   "metadata": {
    "ExecuteTime": {
     "end_time": "2023-05-04T19:24:18.602848Z",
     "start_time": "2023-05-04T19:24:18.539778Z"
    }
   },
   "outputs": [
    {
     "data": {
      "text/html": [
       "<div>\n",
       "<style scoped>\n",
       "    .dataframe tbody tr th:only-of-type {\n",
       "        vertical-align: middle;\n",
       "    }\n",
       "\n",
       "    .dataframe tbody tr th {\n",
       "        vertical-align: top;\n",
       "    }\n",
       "\n",
       "    .dataframe thead th {\n",
       "        text-align: right;\n",
       "    }\n",
       "</style>\n",
       "<table border=\"1\" class=\"dataframe\">\n",
       "  <thead>\n",
       "    <tr style=\"text-align: right;\">\n",
       "      <th></th>\n",
       "      <th>id</th>\n",
       "      <th>alias</th>\n",
       "      <th>name</th>\n",
       "      <th>image_url</th>\n",
       "      <th>is_closed</th>\n",
       "      <th>url</th>\n",
       "      <th>review_count</th>\n",
       "      <th>categories</th>\n",
       "      <th>rating</th>\n",
       "      <th>coordinates</th>\n",
       "      <th>transactions</th>\n",
       "      <th>price</th>\n",
       "      <th>location</th>\n",
       "      <th>phone</th>\n",
       "      <th>display_phone</th>\n",
       "      <th>distance</th>\n",
       "    </tr>\n",
       "  </thead>\n",
       "  <tbody>\n",
       "    <tr>\n",
       "      <th>0</th>\n",
       "      <td>JpiPjhEAQByKNgaHtK_FCA</td>\n",
       "      <td>pho-family-vancouver-2</td>\n",
       "      <td>Pho Family</td>\n",
       "      <td>https://s3-media2.fl.yelpcdn.com/bphoto/LVCTb0...</td>\n",
       "      <td>False</td>\n",
       "      <td>https://www.yelp.com/biz/pho-family-vancouver-...</td>\n",
       "      <td>29</td>\n",
       "      <td>[{'alias': 'vietnamese', 'title': 'Vietnamese'}]</td>\n",
       "      <td>5.0</td>\n",
       "      <td>{'latitude': 45.617293, 'longitude': -122.555781}</td>\n",
       "      <td>[delivery, restaurant_reservation, pickup]</td>\n",
       "      <td>$$</td>\n",
       "      <td>{'address1': '516 SE Chkalov Dr', 'address2': ...</td>\n",
       "      <td>+13602549305</td>\n",
       "      <td>(360) 254-9305</td>\n",
       "      <td>5402.031728</td>\n",
       "    </tr>\n",
       "    <tr>\n",
       "      <th>1</th>\n",
       "      <td>EfY85ruGuo6i8oo0v2dBTw</td>\n",
       "      <td>pho-ton-1-vancouver</td>\n",
       "      <td>Pho Ton 1</td>\n",
       "      <td>https://s3-media1.fl.yelpcdn.com/bphoto/tTGzD5...</td>\n",
       "      <td>False</td>\n",
       "      <td>https://www.yelp.com/biz/pho-ton-1-vancouver?a...</td>\n",
       "      <td>202</td>\n",
       "      <td>[{'alias': 'vietnamese', 'title': 'Vietnamese'...</td>\n",
       "      <td>4.5</td>\n",
       "      <td>{'latitude': 45.64345, 'longitude': -122.61035}</td>\n",
       "      <td>[delivery, pickup]</td>\n",
       "      <td>$$</td>\n",
       "      <td>{'address1': '6000 NE 4th Plain Blvd', 'addres...</td>\n",
       "      <td>+13609935484</td>\n",
       "      <td>(360) 993-5484</td>\n",
       "      <td>1108.281651</td>\n",
       "    </tr>\n",
       "    <tr>\n",
       "      <th>2</th>\n",
       "      <td>wMtKDseD-2U39vae_Ym2Yg</td>\n",
       "      <td>pho-hong-phat-vancouver-2</td>\n",
       "      <td>Pho Hong Phat</td>\n",
       "      <td>https://s3-media2.fl.yelpcdn.com/bphoto/yGCEf5...</td>\n",
       "      <td>False</td>\n",
       "      <td>https://www.yelp.com/biz/pho-hong-phat-vancouv...</td>\n",
       "      <td>130</td>\n",
       "      <td>[{'alias': 'vietnamese', 'title': 'Vietnamese'...</td>\n",
       "      <td>4.0</td>\n",
       "      <td>{'latitude': 45.6380399, 'longitude': -122.63984}</td>\n",
       "      <td>[delivery, pickup]</td>\n",
       "      <td>$</td>\n",
       "      <td>{'address1': '2904 E 4th Plain Blvd', 'address...</td>\n",
       "      <td>+13606938570</td>\n",
       "      <td>(360) 693-8570</td>\n",
       "      <td>1570.119314</td>\n",
       "    </tr>\n",
       "    <tr>\n",
       "      <th>3</th>\n",
       "      <td>j2nS1D5DjuJl5zcNkwPjQA</td>\n",
       "      <td>pho-divine-vancouver-2</td>\n",
       "      <td>Pho Divine</td>\n",
       "      <td>https://s3-media3.fl.yelpcdn.com/bphoto/p3OufC...</td>\n",
       "      <td>False</td>\n",
       "      <td>https://www.yelp.com/biz/pho-divine-vancouver-...</td>\n",
       "      <td>14</td>\n",
       "      <td>[{'alias': 'vietnamese', 'title': 'Vietnamese'}]</td>\n",
       "      <td>4.5</td>\n",
       "      <td>{'latitude': 45.63718583664865, 'longitude': -...</td>\n",
       "      <td>[]</td>\n",
       "      <td>$$</td>\n",
       "      <td>{'address1': '2014 Main St', 'address2': '', '...</td>\n",
       "      <td>+13603144599</td>\n",
       "      <td>(360) 314-4599</td>\n",
       "      <td>4045.016622</td>\n",
       "    </tr>\n",
       "    <tr>\n",
       "      <th>4</th>\n",
       "      <td>nU-S7XRc14kT1wNM3rc_Yg</td>\n",
       "      <td>pho-star-in-vancouver-vancouver</td>\n",
       "      <td>Pho Star in Vancouver</td>\n",
       "      <td>https://s3-media2.fl.yelpcdn.com/bphoto/VY7om-...</td>\n",
       "      <td>False</td>\n",
       "      <td>https://www.yelp.com/biz/pho-star-in-vancouver...</td>\n",
       "      <td>147</td>\n",
       "      <td>[{'alias': 'vietnamese', 'title': 'Vietnamese'}]</td>\n",
       "      <td>4.5</td>\n",
       "      <td>{'latitude': 45.62127, 'longitude': -122.56769}</td>\n",
       "      <td>[delivery, pickup]</td>\n",
       "      <td>$$</td>\n",
       "      <td>{'address1': '10204 SE Mill Plain Blvd', 'addr...</td>\n",
       "      <td>+13602564002</td>\n",
       "      <td>(360) 256-4002</td>\n",
       "      <td>4369.686440</td>\n",
       "    </tr>\n",
       "  </tbody>\n",
       "</table>\n",
       "</div>"
      ],
      "text/plain": [
       "                       id                            alias  \\\n",
       "0  JpiPjhEAQByKNgaHtK_FCA           pho-family-vancouver-2   \n",
       "1  EfY85ruGuo6i8oo0v2dBTw              pho-ton-1-vancouver   \n",
       "2  wMtKDseD-2U39vae_Ym2Yg        pho-hong-phat-vancouver-2   \n",
       "3  j2nS1D5DjuJl5zcNkwPjQA           pho-divine-vancouver-2   \n",
       "4  nU-S7XRc14kT1wNM3rc_Yg  pho-star-in-vancouver-vancouver   \n",
       "\n",
       "                    name                                          image_url  \\\n",
       "0             Pho Family  https://s3-media2.fl.yelpcdn.com/bphoto/LVCTb0...   \n",
       "1              Pho Ton 1  https://s3-media1.fl.yelpcdn.com/bphoto/tTGzD5...   \n",
       "2          Pho Hong Phat  https://s3-media2.fl.yelpcdn.com/bphoto/yGCEf5...   \n",
       "3             Pho Divine  https://s3-media3.fl.yelpcdn.com/bphoto/p3OufC...   \n",
       "4  Pho Star in Vancouver  https://s3-media2.fl.yelpcdn.com/bphoto/VY7om-...   \n",
       "\n",
       "   is_closed                                                url  review_count  \\\n",
       "0      False  https://www.yelp.com/biz/pho-family-vancouver-...            29   \n",
       "1      False  https://www.yelp.com/biz/pho-ton-1-vancouver?a...           202   \n",
       "2      False  https://www.yelp.com/biz/pho-hong-phat-vancouv...           130   \n",
       "3      False  https://www.yelp.com/biz/pho-divine-vancouver-...            14   \n",
       "4      False  https://www.yelp.com/biz/pho-star-in-vancouver...           147   \n",
       "\n",
       "                                          categories  rating  \\\n",
       "0   [{'alias': 'vietnamese', 'title': 'Vietnamese'}]     5.0   \n",
       "1  [{'alias': 'vietnamese', 'title': 'Vietnamese'...     4.5   \n",
       "2  [{'alias': 'vietnamese', 'title': 'Vietnamese'...     4.0   \n",
       "3   [{'alias': 'vietnamese', 'title': 'Vietnamese'}]     4.5   \n",
       "4   [{'alias': 'vietnamese', 'title': 'Vietnamese'}]     4.5   \n",
       "\n",
       "                                         coordinates  \\\n",
       "0  {'latitude': 45.617293, 'longitude': -122.555781}   \n",
       "1    {'latitude': 45.64345, 'longitude': -122.61035}   \n",
       "2  {'latitude': 45.6380399, 'longitude': -122.63984}   \n",
       "3  {'latitude': 45.63718583664865, 'longitude': -...   \n",
       "4    {'latitude': 45.62127, 'longitude': -122.56769}   \n",
       "\n",
       "                                 transactions price  \\\n",
       "0  [delivery, restaurant_reservation, pickup]    $$   \n",
       "1                          [delivery, pickup]    $$   \n",
       "2                          [delivery, pickup]     $   \n",
       "3                                          []    $$   \n",
       "4                          [delivery, pickup]    $$   \n",
       "\n",
       "                                            location         phone  \\\n",
       "0  {'address1': '516 SE Chkalov Dr', 'address2': ...  +13602549305   \n",
       "1  {'address1': '6000 NE 4th Plain Blvd', 'addres...  +13609935484   \n",
       "2  {'address1': '2904 E 4th Plain Blvd', 'address...  +13606938570   \n",
       "3  {'address1': '2014 Main St', 'address2': '', '...  +13603144599   \n",
       "4  {'address1': '10204 SE Mill Plain Blvd', 'addr...  +13602564002   \n",
       "\n",
       "    display_phone     distance  \n",
       "0  (360) 254-9305  5402.031728  \n",
       "1  (360) 993-5484  1108.281651  \n",
       "2  (360) 693-8570  1570.119314  \n",
       "3  (360) 314-4599  4045.016622  \n",
       "4  (360) 256-4002  4369.686440  "
      ]
     },
     "metadata": {},
     "output_type": "display_data"
    },
    {
     "data": {
      "text/html": [
       "<div>\n",
       "<style scoped>\n",
       "    .dataframe tbody tr th:only-of-type {\n",
       "        vertical-align: middle;\n",
       "    }\n",
       "\n",
       "    .dataframe tbody tr th {\n",
       "        vertical-align: top;\n",
       "    }\n",
       "\n",
       "    .dataframe thead th {\n",
       "        text-align: right;\n",
       "    }\n",
       "</style>\n",
       "<table border=\"1\" class=\"dataframe\">\n",
       "  <thead>\n",
       "    <tr style=\"text-align: right;\">\n",
       "      <th></th>\n",
       "      <th>id</th>\n",
       "      <th>alias</th>\n",
       "      <th>name</th>\n",
       "      <th>image_url</th>\n",
       "      <th>is_closed</th>\n",
       "      <th>url</th>\n",
       "      <th>review_count</th>\n",
       "      <th>categories</th>\n",
       "      <th>rating</th>\n",
       "      <th>coordinates</th>\n",
       "      <th>transactions</th>\n",
       "      <th>price</th>\n",
       "      <th>location</th>\n",
       "      <th>phone</th>\n",
       "      <th>display_phone</th>\n",
       "      <th>distance</th>\n",
       "    </tr>\n",
       "  </thead>\n",
       "  <tbody>\n",
       "    <tr>\n",
       "      <th>315</th>\n",
       "      <td>fsKFkh6_TBnhdTmXQuk-gg</td>\n",
       "      <td>nicholas-restaurant-portland-6</td>\n",
       "      <td>Nicholas Restaurant</td>\n",
       "      <td>https://s3-media1.fl.yelpcdn.com/bphoto/40ZpWL...</td>\n",
       "      <td>False</td>\n",
       "      <td>https://www.yelp.com/biz/nicholas-restaurant-p...</td>\n",
       "      <td>1332</td>\n",
       "      <td>[{'alias': 'mediterranean', 'title': 'Mediterr...</td>\n",
       "      <td>4.0</td>\n",
       "      <td>{'latitude': 45.51329547724797, 'longitude': -...</td>\n",
       "      <td>[delivery, pickup]</td>\n",
       "      <td>$$</td>\n",
       "      <td>{'address1': '1109 SE Madison St', 'address2':...</td>\n",
       "      <td>+15032355123</td>\n",
       "      <td>(503) 235-5123</td>\n",
       "      <td>13902.436516</td>\n",
       "    </tr>\n",
       "    <tr>\n",
       "      <th>316</th>\n",
       "      <td>88wLRYub7GQ70X1K1IICUA</td>\n",
       "      <td>migration-brewing-portland</td>\n",
       "      <td>Migration Brewing</td>\n",
       "      <td>https://s3-media1.fl.yelpcdn.com/bphoto/6TKk_D...</td>\n",
       "      <td>False</td>\n",
       "      <td>https://www.yelp.com/biz/migration-brewing-por...</td>\n",
       "      <td>312</td>\n",
       "      <td>[{'alias': 'brewpubs', 'title': 'Brewpubs'}]</td>\n",
       "      <td>3.5</td>\n",
       "      <td>{'latitude': 45.52623, 'longitude': -122.63635}</td>\n",
       "      <td>[delivery, pickup]</td>\n",
       "      <td>$$</td>\n",
       "      <td>{'address1': '2828 NE Glisan St', 'address2': ...</td>\n",
       "      <td>+15032065221</td>\n",
       "      <td>(503) 206-5221</td>\n",
       "      <td>12272.069135</td>\n",
       "    </tr>\n",
       "    <tr>\n",
       "      <th>317</th>\n",
       "      <td>vBe0AOTcCn-EQmNksXtlew</td>\n",
       "      <td>fubonn-supermarket-portland</td>\n",
       "      <td>Fubonn Supermarket</td>\n",
       "      <td>https://s3-media4.fl.yelpcdn.com/bphoto/6B8aZR...</td>\n",
       "      <td>False</td>\n",
       "      <td>https://www.yelp.com/biz/fubonn-supermarket-po...</td>\n",
       "      <td>163</td>\n",
       "      <td>[{'alias': 'intlgrocery', 'title': 'Internatio...</td>\n",
       "      <td>3.5</td>\n",
       "      <td>{'latitude': 45.50165, 'longitude': -122.5768}</td>\n",
       "      <td>[]</td>\n",
       "      <td>$$</td>\n",
       "      <td>{'address1': '2850 SE 82nd Ave', 'address2': N...</td>\n",
       "      <td>+15035178877</td>\n",
       "      <td>(503) 517-8877</td>\n",
       "      <td>15285.058031</td>\n",
       "    </tr>\n",
       "    <tr>\n",
       "      <th>318</th>\n",
       "      <td>zkz1nksuZJwmtYeQTgLYUQ</td>\n",
       "      <td>toast-la-tea-portland</td>\n",
       "      <td>Toast La Tea</td>\n",
       "      <td>https://s3-media2.fl.yelpcdn.com/bphoto/zhlejF...</td>\n",
       "      <td>False</td>\n",
       "      <td>https://www.yelp.com/biz/toast-la-tea-portland...</td>\n",
       "      <td>97</td>\n",
       "      <td>[{'alias': 'bubbletea', 'title': 'Bubble Tea'}...</td>\n",
       "      <td>3.5</td>\n",
       "      <td>{'latitude': 45.5049705505371, 'longitude': -1...</td>\n",
       "      <td>[delivery, pickup]</td>\n",
       "      <td>$</td>\n",
       "      <td>{'address1': '2446 SE 87th Ave', 'address2': '...</td>\n",
       "      <td>+19712797789</td>\n",
       "      <td>(971) 279-7789</td>\n",
       "      <td>14979.781683</td>\n",
       "    </tr>\n",
       "    <tr>\n",
       "      <th>319</th>\n",
       "      <td>VGn8veH_xI91nkcOAk7xiw</td>\n",
       "      <td>rose-city-liquor-portland-2</td>\n",
       "      <td>Rose City Liquor</td>\n",
       "      <td>https://s3-media1.fl.yelpcdn.com/bphoto/vFy-bw...</td>\n",
       "      <td>False</td>\n",
       "      <td>https://www.yelp.com/biz/rose-city-liquor-port...</td>\n",
       "      <td>56</td>\n",
       "      <td>[{'alias': 'beer_and_wine', 'title': 'Beer, Wi...</td>\n",
       "      <td>4.5</td>\n",
       "      <td>{'latitude': 45.5487873, 'longitude': -122.588...</td>\n",
       "      <td>[]</td>\n",
       "      <td>$$</td>\n",
       "      <td>{'address1': '7253 NE Sandy Blvd', 'address2':...</td>\n",
       "      <td>+15032847591</td>\n",
       "      <td>(503) 284-7591</td>\n",
       "      <td>9998.130687</td>\n",
       "    </tr>\n",
       "  </tbody>\n",
       "</table>\n",
       "</div>"
      ],
      "text/plain": [
       "                         id                           alias  \\\n",
       "315  fsKFkh6_TBnhdTmXQuk-gg  nicholas-restaurant-portland-6   \n",
       "316  88wLRYub7GQ70X1K1IICUA      migration-brewing-portland   \n",
       "317  vBe0AOTcCn-EQmNksXtlew     fubonn-supermarket-portland   \n",
       "318  zkz1nksuZJwmtYeQTgLYUQ           toast-la-tea-portland   \n",
       "319  VGn8veH_xI91nkcOAk7xiw     rose-city-liquor-portland-2   \n",
       "\n",
       "                    name                                          image_url  \\\n",
       "315  Nicholas Restaurant  https://s3-media1.fl.yelpcdn.com/bphoto/40ZpWL...   \n",
       "316    Migration Brewing  https://s3-media1.fl.yelpcdn.com/bphoto/6TKk_D...   \n",
       "317   Fubonn Supermarket  https://s3-media4.fl.yelpcdn.com/bphoto/6B8aZR...   \n",
       "318         Toast La Tea  https://s3-media2.fl.yelpcdn.com/bphoto/zhlejF...   \n",
       "319     Rose City Liquor  https://s3-media1.fl.yelpcdn.com/bphoto/vFy-bw...   \n",
       "\n",
       "     is_closed                                                url  \\\n",
       "315      False  https://www.yelp.com/biz/nicholas-restaurant-p...   \n",
       "316      False  https://www.yelp.com/biz/migration-brewing-por...   \n",
       "317      False  https://www.yelp.com/biz/fubonn-supermarket-po...   \n",
       "318      False  https://www.yelp.com/biz/toast-la-tea-portland...   \n",
       "319      False  https://www.yelp.com/biz/rose-city-liquor-port...   \n",
       "\n",
       "     review_count                                         categories  rating  \\\n",
       "315          1332  [{'alias': 'mediterranean', 'title': 'Mediterr...     4.0   \n",
       "316           312       [{'alias': 'brewpubs', 'title': 'Brewpubs'}]     3.5   \n",
       "317           163  [{'alias': 'intlgrocery', 'title': 'Internatio...     3.5   \n",
       "318            97  [{'alias': 'bubbletea', 'title': 'Bubble Tea'}...     3.5   \n",
       "319            56  [{'alias': 'beer_and_wine', 'title': 'Beer, Wi...     4.5   \n",
       "\n",
       "                                           coordinates        transactions  \\\n",
       "315  {'latitude': 45.51329547724797, 'longitude': -...  [delivery, pickup]   \n",
       "316    {'latitude': 45.52623, 'longitude': -122.63635}  [delivery, pickup]   \n",
       "317     {'latitude': 45.50165, 'longitude': -122.5768}                  []   \n",
       "318  {'latitude': 45.5049705505371, 'longitude': -1...  [delivery, pickup]   \n",
       "319  {'latitude': 45.5487873, 'longitude': -122.588...                  []   \n",
       "\n",
       "    price                                           location         phone  \\\n",
       "315    $$  {'address1': '1109 SE Madison St', 'address2':...  +15032355123   \n",
       "316    $$  {'address1': '2828 NE Glisan St', 'address2': ...  +15032065221   \n",
       "317    $$  {'address1': '2850 SE 82nd Ave', 'address2': N...  +15035178877   \n",
       "318     $  {'address1': '2446 SE 87th Ave', 'address2': '...  +19712797789   \n",
       "319    $$  {'address1': '7253 NE Sandy Blvd', 'address2':...  +15032847591   \n",
       "\n",
       "      display_phone      distance  \n",
       "315  (503) 235-5123  13902.436516  \n",
       "316  (503) 206-5221  12272.069135  \n",
       "317  (503) 517-8877  15285.058031  \n",
       "318  (971) 279-7789  14979.781683  \n",
       "319  (503) 284-7591   9998.130687  "
      ]
     },
     "metadata": {},
     "output_type": "display_data"
    }
   ],
   "source": [
    "# load final results\n",
    "final_df = pd.read_json(JSON_FILE)\n",
    "display(final_df.head(), final_df.tail())"
   ]
  },
  {
   "cell_type": "code",
   "execution_count": 22,
   "id": "4901306c",
   "metadata": {
    "ExecuteTime": {
     "end_time": "2023-05-04T19:24:23.778445Z",
     "start_time": "2023-05-04T19:24:23.765441Z"
    }
   },
   "outputs": [
    {
     "data": {
      "text/plain": [
       "0"
      ]
     },
     "execution_count": 22,
     "metadata": {},
     "output_type": "execute_result"
    }
   ],
   "source": [
    "# check for duplicate ID's \n",
    "final_df.duplicated(subset='id').sum()"
   ]
  },
  {
   "cell_type": "code",
   "execution_count": 23,
   "id": "4e26515e",
   "metadata": {
    "ExecuteTime": {
     "end_time": "2023-05-04T19:24:52.854354Z",
     "start_time": "2023-05-04T19:24:52.816919Z"
    }
   },
   "outputs": [],
   "source": [
    "# save the final results to a compressed csv\n",
    "final_df.to_csv('Data/final_results_vancouver_pho.csv.gz', compression='gzip',index=False)\n",
    " "
   ]
  }
 ],
 "metadata": {
  "kernelspec": {
   "display_name": "Python (dojo-env)",
   "language": "python",
   "name": "dojo-env"
  },
  "language_info": {
   "codemirror_mode": {
    "name": "ipython",
    "version": 3
   },
   "file_extension": ".py",
   "mimetype": "text/x-python",
   "name": "python",
   "nbconvert_exporter": "python",
   "pygments_lexer": "ipython3",
   "version": "3.9.15"
  },
  "toc": {
   "base_numbering": 1,
   "nav_menu": {},
   "number_sections": false,
   "sideBar": true,
   "skip_h1_title": false,
   "title_cell": "Table of Contents",
   "title_sidebar": "Contents",
   "toc_cell": false,
   "toc_position": {},
   "toc_section_display": true,
   "toc_window_display": false
  }
 },
 "nbformat": 4,
 "nbformat_minor": 5
}
