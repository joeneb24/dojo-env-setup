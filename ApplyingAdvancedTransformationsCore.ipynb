{
 "cells": [
  {
   "cell_type": "code",
   "execution_count": 1,
   "id": "4a5bbf3f",
   "metadata": {
    "ExecuteTime": {
     "end_time": "2023-05-05T08:28:54.403667Z",
     "start_time": "2023-05-05T08:28:53.496594Z"
    }
   },
   "outputs": [],
   "source": [
    "## Standard Imports\n",
    "import numpy as np\n",
    "import pandas as pd\n",
    "import matplotlib.pyplot as plt\n",
    "import seaborn as sns\n",
    "## Importing the OS and JSON Modules\n",
    "import os,json"
   ]
  },
  {
   "cell_type": "code",
   "execution_count": 2,
   "id": "b2781d96",
   "metadata": {
    "ExecuteTime": {
     "end_time": "2023-05-05T08:28:54.434884Z",
     "start_time": "2023-05-05T08:28:54.404864Z"
    }
   },
   "outputs": [
    {
     "data": {
      "text/html": [
       "<div>\n",
       "<style scoped>\n",
       "    .dataframe tbody tr th:only-of-type {\n",
       "        vertical-align: middle;\n",
       "    }\n",
       "\n",
       "    .dataframe tbody tr th {\n",
       "        vertical-align: top;\n",
       "    }\n",
       "\n",
       "    .dataframe thead th {\n",
       "        text-align: right;\n",
       "    }\n",
       "</style>\n",
       "<table border=\"1\" class=\"dataframe\">\n",
       "  <thead>\n",
       "    <tr style=\"text-align: right;\">\n",
       "      <th></th>\n",
       "      <th>Hero|Publisher</th>\n",
       "      <th>Gender</th>\n",
       "      <th>Race</th>\n",
       "      <th>Alignment</th>\n",
       "      <th>Hair color</th>\n",
       "      <th>Eye color</th>\n",
       "      <th>Skin color</th>\n",
       "      <th>Measurements</th>\n",
       "    </tr>\n",
       "  </thead>\n",
       "  <tbody>\n",
       "    <tr>\n",
       "      <th>0</th>\n",
       "      <td>A-Bomb|Marvel Comics</td>\n",
       "      <td>Male</td>\n",
       "      <td>Human</td>\n",
       "      <td>good</td>\n",
       "      <td>No Hair</td>\n",
       "      <td>yellow</td>\n",
       "      <td>Unknown</td>\n",
       "      <td>{'Height': '203.0 cm', 'Weight': '441.0 kg'}</td>\n",
       "    </tr>\n",
       "    <tr>\n",
       "      <th>1</th>\n",
       "      <td>Abe Sapien|Dark Horse Comics</td>\n",
       "      <td>Male</td>\n",
       "      <td>Icthyo Sapien</td>\n",
       "      <td>good</td>\n",
       "      <td>No Hair</td>\n",
       "      <td>blue</td>\n",
       "      <td>blue</td>\n",
       "      <td>{'Height': '191.0 cm', 'Weight': '65.0 kg'}</td>\n",
       "    </tr>\n",
       "    <tr>\n",
       "      <th>2</th>\n",
       "      <td>Abin Sur|DC Comics</td>\n",
       "      <td>Male</td>\n",
       "      <td>Ungaran</td>\n",
       "      <td>good</td>\n",
       "      <td>No Hair</td>\n",
       "      <td>blue</td>\n",
       "      <td>red</td>\n",
       "      <td>{'Height': '185.0 cm', 'Weight': '90.0 kg'}</td>\n",
       "    </tr>\n",
       "  </tbody>\n",
       "</table>\n",
       "</div>"
      ],
      "text/plain": [
       "                 Hero|Publisher Gender           Race Alignment Hair color  \\\n",
       "0          A-Bomb|Marvel Comics   Male          Human      good    No Hair   \n",
       "1  Abe Sapien|Dark Horse Comics   Male  Icthyo Sapien      good    No Hair   \n",
       "2            Abin Sur|DC Comics   Male        Ungaran      good    No Hair   \n",
       "\n",
       "  Eye color Skin color                                  Measurements  \n",
       "0    yellow    Unknown  {'Height': '203.0 cm', 'Weight': '441.0 kg'}  \n",
       "1      blue       blue   {'Height': '191.0 cm', 'Weight': '65.0 kg'}  \n",
       "2      blue        red   {'Height': '185.0 cm', 'Weight': '90.0 kg'}  "
      ]
     },
     "execution_count": 2,
     "metadata": {},
     "output_type": "execute_result"
    }
   ],
   "source": [
    "superhero_info_df = pd.read_csv('superhero_info.csv')\n",
    "superhero_info_df.head(3)"
   ]
  },
  {
   "cell_type": "code",
   "execution_count": 3,
   "id": "7d493879",
   "metadata": {
    "ExecuteTime": {
     "end_time": "2023-05-05T08:28:54.450902Z",
     "start_time": "2023-05-05T08:28:54.436389Z"
    }
   },
   "outputs": [
    {
     "data": {
      "text/html": [
       "<div>\n",
       "<style scoped>\n",
       "    .dataframe tbody tr th:only-of-type {\n",
       "        vertical-align: middle;\n",
       "    }\n",
       "\n",
       "    .dataframe tbody tr th {\n",
       "        vertical-align: top;\n",
       "    }\n",
       "\n",
       "    .dataframe thead th {\n",
       "        text-align: right;\n",
       "    }\n",
       "</style>\n",
       "<table border=\"1\" class=\"dataframe\">\n",
       "  <thead>\n",
       "    <tr style=\"text-align: right;\">\n",
       "      <th></th>\n",
       "      <th>hero_names</th>\n",
       "      <th>Powers</th>\n",
       "    </tr>\n",
       "  </thead>\n",
       "  <tbody>\n",
       "    <tr>\n",
       "      <th>0</th>\n",
       "      <td>3-D Man</td>\n",
       "      <td>Agility,Super Strength,Stamina,Super Speed</td>\n",
       "    </tr>\n",
       "    <tr>\n",
       "      <th>1</th>\n",
       "      <td>A-Bomb</td>\n",
       "      <td>Accelerated Healing,Durability,Longevity,Super...</td>\n",
       "    </tr>\n",
       "    <tr>\n",
       "      <th>2</th>\n",
       "      <td>Abe Sapien</td>\n",
       "      <td>Agility,Accelerated Healing,Cold Resistance,Du...</td>\n",
       "    </tr>\n",
       "  </tbody>\n",
       "</table>\n",
       "</div>"
      ],
      "text/plain": [
       "   hero_names                                             Powers\n",
       "0     3-D Man         Agility,Super Strength,Stamina,Super Speed\n",
       "1      A-Bomb  Accelerated Healing,Durability,Longevity,Super...\n",
       "2  Abe Sapien  Agility,Accelerated Healing,Cold Resistance,Du..."
      ]
     },
     "execution_count": 3,
     "metadata": {},
     "output_type": "execute_result"
    }
   ],
   "source": [
    "superhero_powers_df = pd.read_csv('superhero_powers.csv')\n",
    "superhero_powers_df.head(3)"
   ]
  },
  {
   "cell_type": "code",
   "execution_count": 4,
   "id": "b435fe37",
   "metadata": {
    "ExecuteTime": {
     "end_time": "2023-05-05T08:28:54.466399Z",
     "start_time": "2023-05-05T08:28:54.451903Z"
    },
    "scrolled": true
   },
   "outputs": [],
   "source": [
    "superhero_info_df[['Hero', 'Publisher']] = superhero_info_df['Hero|Publisher'].str.split('|', expand = True)"
   ]
  },
  {
   "cell_type": "code",
   "execution_count": 5,
   "id": "f121c234",
   "metadata": {
    "ExecuteTime": {
     "end_time": "2023-05-05T08:28:54.481930Z",
     "start_time": "2023-05-05T08:28:54.467903Z"
    }
   },
   "outputs": [
    {
     "data": {
      "text/html": [
       "<div>\n",
       "<style scoped>\n",
       "    .dataframe tbody tr th:only-of-type {\n",
       "        vertical-align: middle;\n",
       "    }\n",
       "\n",
       "    .dataframe tbody tr th {\n",
       "        vertical-align: top;\n",
       "    }\n",
       "\n",
       "    .dataframe thead th {\n",
       "        text-align: right;\n",
       "    }\n",
       "</style>\n",
       "<table border=\"1\" class=\"dataframe\">\n",
       "  <thead>\n",
       "    <tr style=\"text-align: right;\">\n",
       "      <th></th>\n",
       "      <th>Hero|Publisher</th>\n",
       "      <th>Gender</th>\n",
       "      <th>Race</th>\n",
       "      <th>Alignment</th>\n",
       "      <th>Hair color</th>\n",
       "      <th>Eye color</th>\n",
       "      <th>Skin color</th>\n",
       "      <th>Measurements</th>\n",
       "      <th>Hero</th>\n",
       "      <th>Publisher</th>\n",
       "    </tr>\n",
       "  </thead>\n",
       "  <tbody>\n",
       "    <tr>\n",
       "      <th>0</th>\n",
       "      <td>A-Bomb|Marvel Comics</td>\n",
       "      <td>Male</td>\n",
       "      <td>Human</td>\n",
       "      <td>good</td>\n",
       "      <td>No Hair</td>\n",
       "      <td>yellow</td>\n",
       "      <td>Unknown</td>\n",
       "      <td>{'Height': '203.0 cm', 'Weight': '441.0 kg'}</td>\n",
       "      <td>A-Bomb</td>\n",
       "      <td>Marvel Comics</td>\n",
       "    </tr>\n",
       "    <tr>\n",
       "      <th>1</th>\n",
       "      <td>Abe Sapien|Dark Horse Comics</td>\n",
       "      <td>Male</td>\n",
       "      <td>Icthyo Sapien</td>\n",
       "      <td>good</td>\n",
       "      <td>No Hair</td>\n",
       "      <td>blue</td>\n",
       "      <td>blue</td>\n",
       "      <td>{'Height': '191.0 cm', 'Weight': '65.0 kg'}</td>\n",
       "      <td>Abe Sapien</td>\n",
       "      <td>Dark Horse Comics</td>\n",
       "    </tr>\n",
       "    <tr>\n",
       "      <th>2</th>\n",
       "      <td>Abin Sur|DC Comics</td>\n",
       "      <td>Male</td>\n",
       "      <td>Ungaran</td>\n",
       "      <td>good</td>\n",
       "      <td>No Hair</td>\n",
       "      <td>blue</td>\n",
       "      <td>red</td>\n",
       "      <td>{'Height': '185.0 cm', 'Weight': '90.0 kg'}</td>\n",
       "      <td>Abin Sur</td>\n",
       "      <td>DC Comics</td>\n",
       "    </tr>\n",
       "  </tbody>\n",
       "</table>\n",
       "</div>"
      ],
      "text/plain": [
       "                 Hero|Publisher Gender           Race Alignment Hair color  \\\n",
       "0          A-Bomb|Marvel Comics   Male          Human      good    No Hair   \n",
       "1  Abe Sapien|Dark Horse Comics   Male  Icthyo Sapien      good    No Hair   \n",
       "2            Abin Sur|DC Comics   Male        Ungaran      good    No Hair   \n",
       "\n",
       "  Eye color Skin color                                  Measurements  \\\n",
       "0    yellow    Unknown  {'Height': '203.0 cm', 'Weight': '441.0 kg'}   \n",
       "1      blue       blue   {'Height': '191.0 cm', 'Weight': '65.0 kg'}   \n",
       "2      blue        red   {'Height': '185.0 cm', 'Weight': '90.0 kg'}   \n",
       "\n",
       "         Hero          Publisher  \n",
       "0      A-Bomb      Marvel Comics  \n",
       "1  Abe Sapien  Dark Horse Comics  \n",
       "2    Abin Sur          DC Comics  "
      ]
     },
     "execution_count": 5,
     "metadata": {},
     "output_type": "execute_result"
    }
   ],
   "source": [
    "superhero_info_df.head(3)"
   ]
  },
  {
   "cell_type": "code",
   "execution_count": 6,
   "id": "89dc2d6a",
   "metadata": {
    "ExecuteTime": {
     "end_time": "2023-05-05T08:28:54.497229Z",
     "start_time": "2023-05-05T08:28:54.484076Z"
    }
   },
   "outputs": [
    {
     "data": {
      "text/html": [
       "<div>\n",
       "<style scoped>\n",
       "    .dataframe tbody tr th:only-of-type {\n",
       "        vertical-align: middle;\n",
       "    }\n",
       "\n",
       "    .dataframe tbody tr th {\n",
       "        vertical-align: top;\n",
       "    }\n",
       "\n",
       "    .dataframe thead th {\n",
       "        text-align: right;\n",
       "    }\n",
       "</style>\n",
       "<table border=\"1\" class=\"dataframe\">\n",
       "  <thead>\n",
       "    <tr style=\"text-align: right;\">\n",
       "      <th></th>\n",
       "      <th>Gender</th>\n",
       "      <th>Race</th>\n",
       "      <th>Alignment</th>\n",
       "      <th>Hair color</th>\n",
       "      <th>Eye color</th>\n",
       "      <th>Skin color</th>\n",
       "      <th>Measurements</th>\n",
       "      <th>Hero</th>\n",
       "      <th>Publisher</th>\n",
       "    </tr>\n",
       "  </thead>\n",
       "  <tbody>\n",
       "    <tr>\n",
       "      <th>0</th>\n",
       "      <td>Male</td>\n",
       "      <td>Human</td>\n",
       "      <td>good</td>\n",
       "      <td>No Hair</td>\n",
       "      <td>yellow</td>\n",
       "      <td>Unknown</td>\n",
       "      <td>{'Height': '203.0 cm', 'Weight': '441.0 kg'}</td>\n",
       "      <td>A-Bomb</td>\n",
       "      <td>Marvel Comics</td>\n",
       "    </tr>\n",
       "    <tr>\n",
       "      <th>1</th>\n",
       "      <td>Male</td>\n",
       "      <td>Icthyo Sapien</td>\n",
       "      <td>good</td>\n",
       "      <td>No Hair</td>\n",
       "      <td>blue</td>\n",
       "      <td>blue</td>\n",
       "      <td>{'Height': '191.0 cm', 'Weight': '65.0 kg'}</td>\n",
       "      <td>Abe Sapien</td>\n",
       "      <td>Dark Horse Comics</td>\n",
       "    </tr>\n",
       "    <tr>\n",
       "      <th>2</th>\n",
       "      <td>Male</td>\n",
       "      <td>Ungaran</td>\n",
       "      <td>good</td>\n",
       "      <td>No Hair</td>\n",
       "      <td>blue</td>\n",
       "      <td>red</td>\n",
       "      <td>{'Height': '185.0 cm', 'Weight': '90.0 kg'}</td>\n",
       "      <td>Abin Sur</td>\n",
       "      <td>DC Comics</td>\n",
       "    </tr>\n",
       "  </tbody>\n",
       "</table>\n",
       "</div>"
      ],
      "text/plain": [
       "  Gender           Race Alignment Hair color Eye color Skin color  \\\n",
       "0   Male          Human      good    No Hair    yellow    Unknown   \n",
       "1   Male  Icthyo Sapien      good    No Hair      blue       blue   \n",
       "2   Male        Ungaran      good    No Hair      blue        red   \n",
       "\n",
       "                                   Measurements        Hero          Publisher  \n",
       "0  {'Height': '203.0 cm', 'Weight': '441.0 kg'}      A-Bomb      Marvel Comics  \n",
       "1   {'Height': '191.0 cm', 'Weight': '65.0 kg'}  Abe Sapien  Dark Horse Comics  \n",
       "2   {'Height': '185.0 cm', 'Weight': '90.0 kg'}    Abin Sur          DC Comics  "
      ]
     },
     "execution_count": 6,
     "metadata": {},
     "output_type": "execute_result"
    }
   ],
   "source": [
    "superhero_info_df = superhero_info_df.drop(columns = ['Hero|Publisher'])\n",
    "superhero_info_df.head(3)"
   ]
  },
  {
   "cell_type": "code",
   "execution_count": 7,
   "id": "b3342545",
   "metadata": {
    "ExecuteTime": {
     "end_time": "2023-05-05T08:28:54.512285Z",
     "start_time": "2023-05-05T08:28:54.498229Z"
    }
   },
   "outputs": [
    {
     "name": "stdout",
     "output_type": "stream",
     "text": [
      "<class 'str'>\n"
     ]
    },
    {
     "data": {
      "text/plain": [
       "\"{'Height': '203.0 cm', 'Weight': '441.0 kg'}\""
      ]
     },
     "execution_count": 7,
     "metadata": {},
     "output_type": "execute_result"
    }
   ],
   "source": [
    "measurements = superhero_info_df.loc[0, \"Measurements\"]\n",
    "print(type(measurements))\n",
    "measurements"
   ]
  },
  {
   "cell_type": "code",
   "execution_count": 8,
   "id": "3515a293",
   "metadata": {
    "ExecuteTime": {
     "end_time": "2023-05-05T08:28:54.527502Z",
     "start_time": "2023-05-05T08:28:54.512991Z"
    }
   },
   "outputs": [
    {
     "data": {
      "text/plain": [
       "0    {'Height': '203.0 cm', 'Weight': '441.0 kg'}\n",
       "1     {'Height': '191.0 cm', 'Weight': '65.0 kg'}\n",
       "2     {'Height': '185.0 cm', 'Weight': '90.0 kg'}\n",
       "Name: Measurements, dtype: object"
      ]
     },
     "execution_count": 8,
     "metadata": {},
     "output_type": "execute_result"
    }
   ],
   "source": [
    "## use .str.replace to replace all single quotes\n",
    "superhero_info_df['Measurements'] = superhero_info_df['Measurements'].str.replace(\"'\",'\"')\n",
    "## Apply the json.loads to the full column\n",
    "superhero_info_df['Measurements'] = superhero_info_df['Measurements'].apply(json.loads)\n",
    "superhero_info_df['Measurements'].head(3)"
   ]
  },
  {
   "cell_type": "code",
   "execution_count": 9,
   "id": "5e44ed1f",
   "metadata": {
    "ExecuteTime": {
     "end_time": "2023-05-05T08:28:54.622147Z",
     "start_time": "2023-05-05T08:28:54.528502Z"
    }
   },
   "outputs": [
    {
     "data": {
      "text/html": [
       "<div>\n",
       "<style scoped>\n",
       "    .dataframe tbody tr th:only-of-type {\n",
       "        vertical-align: middle;\n",
       "    }\n",
       "\n",
       "    .dataframe tbody tr th {\n",
       "        vertical-align: top;\n",
       "    }\n",
       "\n",
       "    .dataframe thead th {\n",
       "        text-align: right;\n",
       "    }\n",
       "</style>\n",
       "<table border=\"1\" class=\"dataframe\">\n",
       "  <thead>\n",
       "    <tr style=\"text-align: right;\">\n",
       "      <th></th>\n",
       "      <th>Height</th>\n",
       "      <th>Weight</th>\n",
       "    </tr>\n",
       "  </thead>\n",
       "  <tbody>\n",
       "    <tr>\n",
       "      <th>0</th>\n",
       "      <td>203.0 cm</td>\n",
       "      <td>441.0 kg</td>\n",
       "    </tr>\n",
       "    <tr>\n",
       "      <th>1</th>\n",
       "      <td>191.0 cm</td>\n",
       "      <td>65.0 kg</td>\n",
       "    </tr>\n",
       "    <tr>\n",
       "      <th>2</th>\n",
       "      <td>185.0 cm</td>\n",
       "      <td>90.0 kg</td>\n",
       "    </tr>\n",
       "    <tr>\n",
       "      <th>3</th>\n",
       "      <td>203.0 cm</td>\n",
       "      <td>441.0 kg</td>\n",
       "    </tr>\n",
       "    <tr>\n",
       "      <th>4</th>\n",
       "      <td>193.0 cm</td>\n",
       "      <td>122.0 kg</td>\n",
       "    </tr>\n",
       "    <tr>\n",
       "      <th>...</th>\n",
       "      <td>...</td>\n",
       "      <td>...</td>\n",
       "    </tr>\n",
       "    <tr>\n",
       "      <th>458</th>\n",
       "      <td>183.0 cm</td>\n",
       "      <td>83.0 kg</td>\n",
       "    </tr>\n",
       "    <tr>\n",
       "      <th>459</th>\n",
       "      <td>165.0 cm</td>\n",
       "      <td>52.0 kg</td>\n",
       "    </tr>\n",
       "    <tr>\n",
       "      <th>460</th>\n",
       "      <td>66.0 cm</td>\n",
       "      <td>17.0 kg</td>\n",
       "    </tr>\n",
       "    <tr>\n",
       "      <th>461</th>\n",
       "      <td>170.0 cm</td>\n",
       "      <td>57.0 kg</td>\n",
       "    </tr>\n",
       "    <tr>\n",
       "      <th>462</th>\n",
       "      <td>185.0 cm</td>\n",
       "      <td>81.0 kg</td>\n",
       "    </tr>\n",
       "  </tbody>\n",
       "</table>\n",
       "<p>463 rows × 2 columns</p>\n",
       "</div>"
      ],
      "text/plain": [
       "       Height    Weight\n",
       "0    203.0 cm  441.0 kg\n",
       "1    191.0 cm   65.0 kg\n",
       "2    185.0 cm   90.0 kg\n",
       "3    203.0 cm  441.0 kg\n",
       "4    193.0 cm  122.0 kg\n",
       "..        ...       ...\n",
       "458  183.0 cm   83.0 kg\n",
       "459  165.0 cm   52.0 kg\n",
       "460   66.0 cm   17.0 kg\n",
       "461  170.0 cm   57.0 kg\n",
       "462  185.0 cm   81.0 kg\n",
       "\n",
       "[463 rows x 2 columns]"
      ]
     },
     "execution_count": 9,
     "metadata": {},
     "output_type": "execute_result"
    }
   ],
   "source": [
    "height_weight = superhero_info_df['Measurements'].apply(pd.Series)\n",
    "height_weight"
   ]
  },
  {
   "cell_type": "code",
   "execution_count": 10,
   "id": "9d222246",
   "metadata": {
    "ExecuteTime": {
     "end_time": "2023-05-05T08:28:54.637487Z",
     "start_time": "2023-05-05T08:28:54.624148Z"
    }
   },
   "outputs": [
    {
     "data": {
      "text/html": [
       "<div>\n",
       "<style scoped>\n",
       "    .dataframe tbody tr th:only-of-type {\n",
       "        vertical-align: middle;\n",
       "    }\n",
       "\n",
       "    .dataframe tbody tr th {\n",
       "        vertical-align: top;\n",
       "    }\n",
       "\n",
       "    .dataframe thead th {\n",
       "        text-align: right;\n",
       "    }\n",
       "</style>\n",
       "<table border=\"1\" class=\"dataframe\">\n",
       "  <thead>\n",
       "    <tr style=\"text-align: right;\">\n",
       "      <th></th>\n",
       "      <th>Gender</th>\n",
       "      <th>Race</th>\n",
       "      <th>Alignment</th>\n",
       "      <th>Hair color</th>\n",
       "      <th>Eye color</th>\n",
       "      <th>Skin color</th>\n",
       "      <th>Measurements</th>\n",
       "      <th>Hero</th>\n",
       "      <th>Publisher</th>\n",
       "      <th>Height</th>\n",
       "      <th>Weight</th>\n",
       "    </tr>\n",
       "  </thead>\n",
       "  <tbody>\n",
       "    <tr>\n",
       "      <th>0</th>\n",
       "      <td>Male</td>\n",
       "      <td>Human</td>\n",
       "      <td>good</td>\n",
       "      <td>No Hair</td>\n",
       "      <td>yellow</td>\n",
       "      <td>Unknown</td>\n",
       "      <td>{'Height': '203.0 cm', 'Weight': '441.0 kg'}</td>\n",
       "      <td>A-Bomb</td>\n",
       "      <td>Marvel Comics</td>\n",
       "      <td>203.0 cm</td>\n",
       "      <td>441.0 kg</td>\n",
       "    </tr>\n",
       "    <tr>\n",
       "      <th>1</th>\n",
       "      <td>Male</td>\n",
       "      <td>Icthyo Sapien</td>\n",
       "      <td>good</td>\n",
       "      <td>No Hair</td>\n",
       "      <td>blue</td>\n",
       "      <td>blue</td>\n",
       "      <td>{'Height': '191.0 cm', 'Weight': '65.0 kg'}</td>\n",
       "      <td>Abe Sapien</td>\n",
       "      <td>Dark Horse Comics</td>\n",
       "      <td>191.0 cm</td>\n",
       "      <td>65.0 kg</td>\n",
       "    </tr>\n",
       "    <tr>\n",
       "      <th>2</th>\n",
       "      <td>Male</td>\n",
       "      <td>Ungaran</td>\n",
       "      <td>good</td>\n",
       "      <td>No Hair</td>\n",
       "      <td>blue</td>\n",
       "      <td>red</td>\n",
       "      <td>{'Height': '185.0 cm', 'Weight': '90.0 kg'}</td>\n",
       "      <td>Abin Sur</td>\n",
       "      <td>DC Comics</td>\n",
       "      <td>185.0 cm</td>\n",
       "      <td>90.0 kg</td>\n",
       "    </tr>\n",
       "  </tbody>\n",
       "</table>\n",
       "</div>"
      ],
      "text/plain": [
       "  Gender           Race Alignment Hair color Eye color Skin color  \\\n",
       "0   Male          Human      good    No Hair    yellow    Unknown   \n",
       "1   Male  Icthyo Sapien      good    No Hair      blue       blue   \n",
       "2   Male        Ungaran      good    No Hair      blue        red   \n",
       "\n",
       "                                   Measurements        Hero  \\\n",
       "0  {'Height': '203.0 cm', 'Weight': '441.0 kg'}      A-Bomb   \n",
       "1   {'Height': '191.0 cm', 'Weight': '65.0 kg'}  Abe Sapien   \n",
       "2   {'Height': '185.0 cm', 'Weight': '90.0 kg'}    Abin Sur   \n",
       "\n",
       "           Publisher    Height    Weight  \n",
       "0      Marvel Comics  203.0 cm  441.0 kg  \n",
       "1  Dark Horse Comics  191.0 cm   65.0 kg  \n",
       "2          DC Comics  185.0 cm   90.0 kg  "
      ]
     },
     "execution_count": 10,
     "metadata": {},
     "output_type": "execute_result"
    }
   ],
   "source": [
    "# concat long_lat with original dataframe\n",
    "superhero_info_df = pd.concat((superhero_info_df, height_weight), axis = 1)\n",
    "superhero_info_df.head(3)"
   ]
  },
  {
   "cell_type": "code",
   "execution_count": 11,
   "id": "bf6bbd24",
   "metadata": {
    "ExecuteTime": {
     "end_time": "2023-05-05T08:28:54.653155Z",
     "start_time": "2023-05-05T08:28:54.638683Z"
    }
   },
   "outputs": [
    {
     "data": {
      "text/html": [
       "<div>\n",
       "<style scoped>\n",
       "    .dataframe tbody tr th:only-of-type {\n",
       "        vertical-align: middle;\n",
       "    }\n",
       "\n",
       "    .dataframe tbody tr th {\n",
       "        vertical-align: top;\n",
       "    }\n",
       "\n",
       "    .dataframe thead th {\n",
       "        text-align: right;\n",
       "    }\n",
       "</style>\n",
       "<table border=\"1\" class=\"dataframe\">\n",
       "  <thead>\n",
       "    <tr style=\"text-align: right;\">\n",
       "      <th></th>\n",
       "      <th>Gender</th>\n",
       "      <th>Race</th>\n",
       "      <th>Alignment</th>\n",
       "      <th>Hair color</th>\n",
       "      <th>Eye color</th>\n",
       "      <th>Skin color</th>\n",
       "      <th>Hero</th>\n",
       "      <th>Publisher</th>\n",
       "      <th>Height</th>\n",
       "      <th>Weight</th>\n",
       "    </tr>\n",
       "  </thead>\n",
       "  <tbody>\n",
       "    <tr>\n",
       "      <th>0</th>\n",
       "      <td>Male</td>\n",
       "      <td>Human</td>\n",
       "      <td>good</td>\n",
       "      <td>No Hair</td>\n",
       "      <td>yellow</td>\n",
       "      <td>Unknown</td>\n",
       "      <td>A-Bomb</td>\n",
       "      <td>Marvel Comics</td>\n",
       "      <td>203.0 cm</td>\n",
       "      <td>441.0 kg</td>\n",
       "    </tr>\n",
       "    <tr>\n",
       "      <th>1</th>\n",
       "      <td>Male</td>\n",
       "      <td>Icthyo Sapien</td>\n",
       "      <td>good</td>\n",
       "      <td>No Hair</td>\n",
       "      <td>blue</td>\n",
       "      <td>blue</td>\n",
       "      <td>Abe Sapien</td>\n",
       "      <td>Dark Horse Comics</td>\n",
       "      <td>191.0 cm</td>\n",
       "      <td>65.0 kg</td>\n",
       "    </tr>\n",
       "    <tr>\n",
       "      <th>2</th>\n",
       "      <td>Male</td>\n",
       "      <td>Ungaran</td>\n",
       "      <td>good</td>\n",
       "      <td>No Hair</td>\n",
       "      <td>blue</td>\n",
       "      <td>red</td>\n",
       "      <td>Abin Sur</td>\n",
       "      <td>DC Comics</td>\n",
       "      <td>185.0 cm</td>\n",
       "      <td>90.0 kg</td>\n",
       "    </tr>\n",
       "  </tbody>\n",
       "</table>\n",
       "</div>"
      ],
      "text/plain": [
       "  Gender           Race Alignment Hair color Eye color Skin color        Hero  \\\n",
       "0   Male          Human      good    No Hair    yellow    Unknown      A-Bomb   \n",
       "1   Male  Icthyo Sapien      good    No Hair      blue       blue  Abe Sapien   \n",
       "2   Male        Ungaran      good    No Hair      blue        red    Abin Sur   \n",
       "\n",
       "           Publisher    Height    Weight  \n",
       "0      Marvel Comics  203.0 cm  441.0 kg  \n",
       "1  Dark Horse Comics  191.0 cm   65.0 kg  \n",
       "2          DC Comics  185.0 cm   90.0 kg  "
      ]
     },
     "execution_count": 11,
     "metadata": {},
     "output_type": "execute_result"
    }
   ],
   "source": [
    "superhero_info_df = superhero_info_df.drop(columns = ['Measurements'])\n",
    "superhero_info_df.head(3)"
   ]
  },
  {
   "cell_type": "code",
   "execution_count": 12,
   "id": "8121e485",
   "metadata": {
    "ExecuteTime": {
     "end_time": "2023-05-05T08:28:54.668667Z",
     "start_time": "2023-05-05T08:28:54.654155Z"
    }
   },
   "outputs": [
    {
     "name": "stdout",
     "output_type": "stream",
     "text": [
      "<class 'str'>\n"
     ]
    },
    {
     "data": {
      "text/plain": [
       "'203.0 cm'"
      ]
     },
     "execution_count": 12,
     "metadata": {},
     "output_type": "execute_result"
    }
   ],
   "source": [
    "## check a single value after transformation\n",
    "test_height = superhero_info_df.loc[0, 'Height']\n",
    "print(type(test_height))\n",
    "test_height"
   ]
  },
  {
   "cell_type": "code",
   "execution_count": 13,
   "id": "da9965a9",
   "metadata": {
    "ExecuteTime": {
     "end_time": "2023-05-05T08:28:54.684327Z",
     "start_time": "2023-05-05T08:28:54.669787Z"
    }
   },
   "outputs": [],
   "source": [
    "superhero_info_df['Height'] = superhero_info_df['Height'].str.replace(\"'\",\"\")\n",
    "superhero_info_df['Height'] = superhero_info_df['Height'].str.replace(\" cm\",\"\")"
   ]
  },
  {
   "cell_type": "code",
   "execution_count": 14,
   "id": "91631c03",
   "metadata": {
    "ExecuteTime": {
     "end_time": "2023-05-05T08:28:54.699834Z",
     "start_time": "2023-05-05T08:28:54.685328Z"
    }
   },
   "outputs": [
    {
     "name": "stdout",
     "output_type": "stream",
     "text": [
      "<class 'str'>\n"
     ]
    },
    {
     "data": {
      "text/plain": [
       "'203.0'"
      ]
     },
     "execution_count": 14,
     "metadata": {},
     "output_type": "execute_result"
    }
   ],
   "source": [
    "## check a single value after transformation\n",
    "test_height2 = superhero_info_df.loc[0, 'Height']\n",
    "print(type(test_height2))\n",
    "test_height2"
   ]
  },
  {
   "cell_type": "code",
   "execution_count": 15,
   "id": "732f5b96",
   "metadata": {
    "ExecuteTime": {
     "end_time": "2023-05-05T08:28:54.715505Z",
     "start_time": "2023-05-05T08:28:54.700992Z"
    }
   },
   "outputs": [
    {
     "name": "stdout",
     "output_type": "stream",
     "text": [
      "<class 'str'>\n"
     ]
    },
    {
     "data": {
      "text/plain": [
       "'441.0 kg'"
      ]
     },
     "execution_count": 15,
     "metadata": {},
     "output_type": "execute_result"
    }
   ],
   "source": [
    "## check a single value after transformation\n",
    "test_weight = superhero_info_df.loc[0, 'Weight']\n",
    "print(type(test_weight))\n",
    "test_weight"
   ]
  },
  {
   "cell_type": "code",
   "execution_count": 16,
   "id": "e01aa08b",
   "metadata": {
    "ExecuteTime": {
     "end_time": "2023-05-05T08:28:54.731012Z",
     "start_time": "2023-05-05T08:28:54.716505Z"
    }
   },
   "outputs": [],
   "source": [
    "superhero_info_df['Weight'] = superhero_info_df['Weight'].str.replace(\"'\",\"\")\n",
    "superhero_info_df['Weight'] = superhero_info_df['Weight'].str.replace(\" kg\",\"\")"
   ]
  },
  {
   "cell_type": "code",
   "execution_count": 17,
   "id": "b7c9ce68",
   "metadata": {
    "ExecuteTime": {
     "end_time": "2023-05-05T08:28:54.747028Z",
     "start_time": "2023-05-05T08:28:54.732516Z"
    }
   },
   "outputs": [
    {
     "name": "stdout",
     "output_type": "stream",
     "text": [
      "<class 'str'>\n"
     ]
    },
    {
     "data": {
      "text/plain": [
       "'441.0'"
      ]
     },
     "execution_count": 17,
     "metadata": {},
     "output_type": "execute_result"
    }
   ],
   "source": [
    "## check a single value after transformation\n",
    "test_weight2 = superhero_info_df.loc[0, 'Weight']\n",
    "print(type(test_weight2))\n",
    "test_weight2"
   ]
  },
  {
   "cell_type": "code",
   "execution_count": 18,
   "id": "787b9781",
   "metadata": {
    "ExecuteTime": {
     "end_time": "2023-05-05T08:28:54.762537Z",
     "start_time": "2023-05-05T08:28:54.748028Z"
    }
   },
   "outputs": [],
   "source": [
    "superhero_info_df.Height = superhero_info_df.Height.astype(float)"
   ]
  },
  {
   "cell_type": "code",
   "execution_count": 19,
   "id": "ccba045a",
   "metadata": {
    "ExecuteTime": {
     "end_time": "2023-05-05T08:28:54.778071Z",
     "start_time": "2023-05-05T08:28:54.762537Z"
    }
   },
   "outputs": [],
   "source": [
    "superhero_info_df.Weight = superhero_info_df.Weight.astype(float)"
   ]
  },
  {
   "cell_type": "code",
   "execution_count": 20,
   "id": "ec5e65a3",
   "metadata": {
    "ExecuteTime": {
     "end_time": "2023-05-05T08:28:54.793581Z",
     "start_time": "2023-05-05T08:28:54.779071Z"
    }
   },
   "outputs": [
    {
     "name": "stdout",
     "output_type": "stream",
     "text": [
      "<class 'pandas.core.frame.DataFrame'>\n",
      "RangeIndex: 463 entries, 0 to 462\n",
      "Data columns (total 10 columns):\n",
      " #   Column      Non-Null Count  Dtype  \n",
      "---  ------      --------------  -----  \n",
      " 0   Gender      463 non-null    object \n",
      " 1   Race        463 non-null    object \n",
      " 2   Alignment   463 non-null    object \n",
      " 3   Hair color  463 non-null    object \n",
      " 4   Eye color   463 non-null    object \n",
      " 5   Skin color  463 non-null    object \n",
      " 6   Hero        463 non-null    object \n",
      " 7   Publisher   463 non-null    object \n",
      " 8   Height      463 non-null    float64\n",
      " 9   Weight      463 non-null    float64\n",
      "dtypes: float64(2), object(8)\n",
      "memory usage: 36.3+ KB\n"
     ]
    }
   ],
   "source": [
    "superhero_info_df.info()"
   ]
  },
  {
   "cell_type": "code",
   "execution_count": 21,
   "id": "6b7e3135",
   "metadata": {
    "ExecuteTime": {
     "end_time": "2023-05-05T08:28:54.809600Z",
     "start_time": "2023-05-05T08:28:54.794582Z"
    }
   },
   "outputs": [
    {
     "data": {
      "text/html": [
       "<div>\n",
       "<style scoped>\n",
       "    .dataframe tbody tr th:only-of-type {\n",
       "        vertical-align: middle;\n",
       "    }\n",
       "\n",
       "    .dataframe tbody tr th {\n",
       "        vertical-align: top;\n",
       "    }\n",
       "\n",
       "    .dataframe thead th {\n",
       "        text-align: right;\n",
       "    }\n",
       "</style>\n",
       "<table border=\"1\" class=\"dataframe\">\n",
       "  <thead>\n",
       "    <tr style=\"text-align: right;\">\n",
       "      <th></th>\n",
       "      <th>hero_names</th>\n",
       "      <th>Powers</th>\n",
       "    </tr>\n",
       "  </thead>\n",
       "  <tbody>\n",
       "    <tr>\n",
       "      <th>0</th>\n",
       "      <td>3-D Man</td>\n",
       "      <td>Agility,Super Strength,Stamina,Super Speed</td>\n",
       "    </tr>\n",
       "    <tr>\n",
       "      <th>1</th>\n",
       "      <td>A-Bomb</td>\n",
       "      <td>Accelerated Healing,Durability,Longevity,Super...</td>\n",
       "    </tr>\n",
       "    <tr>\n",
       "      <th>2</th>\n",
       "      <td>Abe Sapien</td>\n",
       "      <td>Agility,Accelerated Healing,Cold Resistance,Du...</td>\n",
       "    </tr>\n",
       "  </tbody>\n",
       "</table>\n",
       "</div>"
      ],
      "text/plain": [
       "   hero_names                                             Powers\n",
       "0     3-D Man         Agility,Super Strength,Stamina,Super Speed\n",
       "1      A-Bomb  Accelerated Healing,Durability,Longevity,Super...\n",
       "2  Abe Sapien  Agility,Accelerated Healing,Cold Resistance,Du..."
      ]
     },
     "execution_count": 21,
     "metadata": {},
     "output_type": "execute_result"
    }
   ],
   "source": [
    "superhero_powers_df.head(3)"
   ]
  },
  {
   "cell_type": "code",
   "execution_count": 22,
   "id": "40413534",
   "metadata": {
    "ExecuteTime": {
     "end_time": "2023-05-05T08:28:54.825106Z",
     "start_time": "2023-05-05T08:28:54.810600Z"
    }
   },
   "outputs": [],
   "source": [
    "superhero_powers_df.rename(columns = {'hero_names':'Hero'}, inplace = True)"
   ]
  },
  {
   "cell_type": "code",
   "execution_count": 23,
   "id": "e53d041c",
   "metadata": {
    "ExecuteTime": {
     "end_time": "2023-05-05T08:28:54.841123Z",
     "start_time": "2023-05-05T08:28:54.826106Z"
    }
   },
   "outputs": [
    {
     "name": "stdout",
     "output_type": "stream",
     "text": [
      "<class 'pandas.core.frame.DataFrame'>\n",
      "RangeIndex: 667 entries, 0 to 666\n",
      "Data columns (total 2 columns):\n",
      " #   Column  Non-Null Count  Dtype \n",
      "---  ------  --------------  ----- \n",
      " 0   Hero    667 non-null    object\n",
      " 1   Powers  667 non-null    object\n",
      "dtypes: object(2)\n",
      "memory usage: 10.5+ KB\n"
     ]
    }
   ],
   "source": [
    "superhero_powers_df.info()"
   ]
  },
  {
   "cell_type": "code",
   "execution_count": 24,
   "id": "0aba406b",
   "metadata": {
    "ExecuteTime": {
     "end_time": "2023-05-05T08:28:54.856632Z",
     "start_time": "2023-05-05T08:28:54.842123Z"
    }
   },
   "outputs": [
    {
     "name": "stdout",
     "output_type": "stream",
     "text": [
      "<class 'str'>\n"
     ]
    },
    {
     "data": {
      "text/plain": [
       "'Agility,Super Strength,Stamina,Super Speed'"
      ]
     },
     "execution_count": 24,
     "metadata": {},
     "output_type": "execute_result"
    }
   ],
   "source": [
    "## check a single value after transformation\n",
    "test_powers = superhero_powers_df.loc[0, 'Powers']\n",
    "print(type(test_powers))\n",
    "test_powers"
   ]
  },
  {
   "cell_type": "code",
   "execution_count": 25,
   "id": "c9e41af2",
   "metadata": {
    "ExecuteTime": {
     "end_time": "2023-05-05T08:28:54.872649Z",
     "start_time": "2023-05-05T08:28:54.857633Z"
    }
   },
   "outputs": [],
   "source": [
    "superhero_powers_df['Powers_split'] = superhero_powers_df.Powers.str.split(\",\")"
   ]
  },
  {
   "cell_type": "code",
   "execution_count": 26,
   "id": "26d24c01",
   "metadata": {
    "ExecuteTime": {
     "end_time": "2023-05-05T08:28:54.888049Z",
     "start_time": "2023-05-05T08:28:54.873650Z"
    }
   },
   "outputs": [
    {
     "name": "stdout",
     "output_type": "stream",
     "text": [
      "<class 'str'>\n"
     ]
    },
    {
     "data": {
      "text/plain": [
       "'Agility,Super Strength,Stamina,Super Speed'"
      ]
     },
     "execution_count": 26,
     "metadata": {},
     "output_type": "execute_result"
    }
   ],
   "source": [
    "## check a single value after transformation\n",
    "test_powers = superhero_powers_df.loc[0, 'Powers']\n",
    "print(type(test_powers))\n",
    "test_powers"
   ]
  },
  {
   "cell_type": "code",
   "execution_count": 27,
   "id": "c2c9aaf8",
   "metadata": {
    "ExecuteTime": {
     "end_time": "2023-05-05T08:28:54.903868Z",
     "start_time": "2023-05-05T08:28:54.889003Z"
    }
   },
   "outputs": [
    {
     "data": {
      "text/plain": [
       "0      [Agility, Super Strength, Stamina, Super Speed]\n",
       "1    [Accelerated Healing, Durability, Longevity, S...\n",
       "2    [Agility, Accelerated Healing, Cold Resistance...\n",
       "3                                 [Lantern Power Ring]\n",
       "4    [Accelerated Healing, Intelligence, Super Stre...\n",
       "Name: Powers_split, dtype: object"
      ]
     },
     "execution_count": 27,
     "metadata": {},
     "output_type": "execute_result"
    }
   ],
   "source": [
    "superhero_powers_df['Powers_split'].head()"
   ]
  },
  {
   "cell_type": "code",
   "execution_count": 28,
   "id": "65542f83",
   "metadata": {
    "ExecuteTime": {
     "end_time": "2023-05-05T08:29:39.312348Z",
     "start_time": "2023-05-05T08:29:39.291290Z"
    }
   },
   "outputs": [
    {
     "data": {
      "text/plain": [
       "[Intelligence]                                                                                                                                                                                                                                                                          8\n",
       "[Durability, Super Strength]                                                                                                                                                                                                                                                            5\n",
       "[Agility, Stealth, Marksmanship, Weapons Master, Stamina]                                                                                                                                                                                                                               4\n",
       "[Marksmanship]                                                                                                                                                                                                                                                                          4\n",
       "[Teleportation]                                                                                                                                                                                                                                                                         4\n",
       "                                                                                                                                                                                                                                                                                       ..\n",
       "[Accelerated Healing, Flight, Telepathy, Energy Blasts, Teleportation, Telekinesis, Astral Projection, Psionic Powers, Mind Blast, Regeneration, Illusions, Resurrection]                                                                                                               1\n",
       "[Flight, Telepathy, Animal Oriented Powers, Gliding]                                                                                                                                                                                                                                    1\n",
       "[Accelerated Healing, Durability, Energy Absorption, Flight, Super Strength, Telepathy, Energy Blasts, Size Changing, Super Speed, Darkforce Manipulation, Enhanced Senses, Phasing, Invulnerability, Self-Sustenance, Gravity Control, Energy Manipulation, Time Travel, Illusions]    1\n",
       "[Agility, Accelerated Healing, Super Strength, Super Speed, Animal Oriented Powers, Enhanced Senses, Jump, Reflexes, Natural Weapons]                                                                                                                                                   1\n",
       "[Super Speed, Intangibility, Time Travel, Time Manipulation]                                                                                                                                                                                                                            1\n",
       "Name: Powers_split, Length: 608, dtype: int64"
      ]
     },
     "execution_count": 28,
     "metadata": {},
     "output_type": "execute_result"
    }
   ],
   "source": [
    "superhero_powers_df['Powers_split'].value_counts()"
   ]
  },
  {
   "cell_type": "markdown",
   "id": "4b6fd921",
   "metadata": {},
   "source": [
    "# FIX Above"
   ]
  },
  {
   "cell_type": "code",
   "execution_count": 29,
   "id": "4a0873ab",
   "metadata": {
    "ExecuteTime": {
     "end_time": "2023-05-05T08:32:17.626394Z",
     "start_time": "2023-05-05T08:32:17.604350Z"
    }
   },
   "outputs": [
    {
     "data": {
      "text/html": [
       "<div>\n",
       "<style scoped>\n",
       "    .dataframe tbody tr th:only-of-type {\n",
       "        vertical-align: middle;\n",
       "    }\n",
       "\n",
       "    .dataframe tbody tr th {\n",
       "        vertical-align: top;\n",
       "    }\n",
       "\n",
       "    .dataframe thead th {\n",
       "        text-align: right;\n",
       "    }\n",
       "</style>\n",
       "<table border=\"1\" class=\"dataframe\">\n",
       "  <thead>\n",
       "    <tr style=\"text-align: right;\">\n",
       "      <th></th>\n",
       "      <th>Hero</th>\n",
       "      <th>Powers</th>\n",
       "      <th>Powers_split</th>\n",
       "    </tr>\n",
       "  </thead>\n",
       "  <tbody>\n",
       "    <tr>\n",
       "      <th>0</th>\n",
       "      <td>3-D Man</td>\n",
       "      <td>Agility,Super Strength,Stamina,Super Speed</td>\n",
       "      <td>Agility</td>\n",
       "    </tr>\n",
       "    <tr>\n",
       "      <th>0</th>\n",
       "      <td>3-D Man</td>\n",
       "      <td>Agility,Super Strength,Stamina,Super Speed</td>\n",
       "      <td>Super Strength</td>\n",
       "    </tr>\n",
       "    <tr>\n",
       "      <th>0</th>\n",
       "      <td>3-D Man</td>\n",
       "      <td>Agility,Super Strength,Stamina,Super Speed</td>\n",
       "      <td>Stamina</td>\n",
       "    </tr>\n",
       "    <tr>\n",
       "      <th>0</th>\n",
       "      <td>3-D Man</td>\n",
       "      <td>Agility,Super Strength,Stamina,Super Speed</td>\n",
       "      <td>Super Speed</td>\n",
       "    </tr>\n",
       "    <tr>\n",
       "      <th>1</th>\n",
       "      <td>A-Bomb</td>\n",
       "      <td>Accelerated Healing,Durability,Longevity,Super...</td>\n",
       "      <td>Accelerated Healing</td>\n",
       "    </tr>\n",
       "  </tbody>\n",
       "</table>\n",
       "</div>"
      ],
      "text/plain": [
       "      Hero                                             Powers  \\\n",
       "0  3-D Man         Agility,Super Strength,Stamina,Super Speed   \n",
       "0  3-D Man         Agility,Super Strength,Stamina,Super Speed   \n",
       "0  3-D Man         Agility,Super Strength,Stamina,Super Speed   \n",
       "0  3-D Man         Agility,Super Strength,Stamina,Super Speed   \n",
       "1   A-Bomb  Accelerated Healing,Durability,Longevity,Super...   \n",
       "\n",
       "          Powers_split  \n",
       "0              Agility  \n",
       "0       Super Strength  \n",
       "0              Stamina  \n",
       "0          Super Speed  \n",
       "1  Accelerated Healing  "
      ]
     },
     "execution_count": 29,
     "metadata": {},
     "output_type": "execute_result"
    }
   ],
   "source": [
    "exploded = superhero_powers_df.explode('Powers_split')\n",
    "exploded[['Hero', 'Powers', 'Powers_split']].head()"
   ]
  },
  {
   "cell_type": "code",
   "execution_count": 30,
   "id": "23aba59e",
   "metadata": {
    "ExecuteTime": {
     "end_time": "2023-05-05T08:33:30.499284Z",
     "start_time": "2023-05-05T08:33:30.479139Z"
    }
   },
   "outputs": [
    {
     "data": {
      "text/plain": [
       "array(['Agility', 'Super Strength', 'Stamina', 'Super Speed',\n",
       "       'Accelerated Healing', 'Durability', 'Longevity', 'Camouflage',\n",
       "       'Self-Sustenance', 'Cold Resistance', 'Underwater breathing',\n",
       "       'Marksmanship', 'Weapons Master', 'Intelligence', 'Telepathy',\n",
       "       'Immortality', 'Reflexes', 'Enhanced Sight', 'Sub-Mariner',\n",
       "       'Lantern Power Ring', 'Invulnerability', 'Animation',\n",
       "       'Super Breath', 'Dimensional Awareness', 'Flight', 'Size Changing',\n",
       "       'Teleportation', 'Magic', 'Dimensional Travel',\n",
       "       'Molecular Manipulation', 'Energy Manipulation', 'Power Cosmic',\n",
       "       'Energy Absorption', 'Elemental Transmogrification',\n",
       "       'Fire Resistance', 'Natural Armor', 'Heat Resistance',\n",
       "       'Matter Absorption', 'Regeneration', 'Stealth', 'Power Suit',\n",
       "       'Energy Blasts', 'Energy Beams', 'Heat Generation', 'Danger Sense',\n",
       "       'Phasing', 'Force Fields', 'Hypnokinesis', 'Invisibility',\n",
       "       'Enhanced Senses', 'Jump', 'Shapeshifting', 'Elasticity',\n",
       "       'Substance Secretion', 'Enhanced Hearing', 'Adaptation', 'Gliding',\n",
       "       'Natural Weapons', 'Wallcrawling', 'Vision - Thermal',\n",
       "       'Power Augmentation', 'Cryokinesis', 'Duplication',\n",
       "       'Weapon-based Powers', 'Fire Control', 'Enhanced Memory',\n",
       "       'Energy Constructs', 'Power Absorption', 'Time Travel',\n",
       "       'Enhanced Smell', 'Water Control', 'Vision - Telescopic',\n",
       "       'Magnetism', 'Vision - Microscopic', 'Vision - Night',\n",
       "       'Vision - Heat', 'Vision - X-Ray', 'Psionic Powers',\n",
       "       'Toxin and Disease Resistance', 'Animal Attributes',\n",
       "       'Animal Oriented Powers', 'Toxin and Disease Control', 'Empathy',\n",
       "       'Animal Control', 'Darkforce Manipulation', 'Time Manipulation',\n",
       "       'Reality Warping', 'Web Creation', 'Symbiote Costume',\n",
       "       'Telekinesis', 'Levitation', 'Biokinesis', 'Sonar',\n",
       "       'Enhanced Touch', 'Seismic Power', 'Energy Armor',\n",
       "       'Omnilingualism', 'Radiation Immunity', 'Density Control',\n",
       "       'Light Control', 'Illumination', 'Molecular Combustion',\n",
       "       'Astral Travel', 'Precognition', 'Intangibility', 'Illusions',\n",
       "       'Audio Control', 'Sonic Scream', 'Peak Human Condition',\n",
       "       'Vision - Infrared', 'Dexterity', 'Omnitrix', 'Omnipotent',\n",
       "       'Possession', 'Energy Resistance', 'Vision - Cryo', 'Mind Control',\n",
       "       'Mind Blast', 'Clairvoyance', 'Probability Manipulation',\n",
       "       'Death Touch', 'Electrokinesis', 'Gravity Control',\n",
       "       'Technopath/Cyberpath', 'Radar Sense', 'Astral Projection',\n",
       "       'Cloaking', 'Telepathy Resistance', 'Mind Control Resistance',\n",
       "       'Hyperkinesis', 'Spatial Awareness', 'Radiation Control',\n",
       "       'Radiation Absorption', 'Magic Resistance', 'Element Control',\n",
       "       'Plant Control', 'Terrakinesis', 'Power Sense', 'Wind Control',\n",
       "       'Qwardian Power Ring', 'Echolocation', 'Resurrection', 'The Force',\n",
       "       'Summoning', 'Banish', 'Molecular Dissipation',\n",
       "       'Electrical Transport', 'Speed Force', 'Grim Reaping',\n",
       "       'Portal Creation', 'Vitakinesis', 'Projection', 'Insanity',\n",
       "       'Photographic Reflexes', 'Anti-Gravity', 'Thirstokinesis',\n",
       "       'Power Nullifier', 'Weather Control', 'Omnipresent', 'Omniscient',\n",
       "       'Hair Manipulation', 'Nova Force', 'Odin Force', 'Phoenix Force',\n",
       "       'Intuitive aptitude', 'Melting', 'Changing Armor'], dtype=object)"
      ]
     },
     "execution_count": 30,
     "metadata": {},
     "output_type": "execute_result"
    }
   ],
   "source": [
    "## saving the unique values from the exploded column\n",
    "cols_to_make = exploded['Powers_split'].dropna().unique()\n",
    "cols_to_make"
   ]
  },
  {
   "cell_type": "code",
   "execution_count": 31,
   "id": "68f47a10",
   "metadata": {
    "ExecuteTime": {
     "end_time": "2023-05-05T08:37:41.969486Z",
     "start_time": "2023-05-05T08:37:41.880778Z"
    }
   },
   "outputs": [
    {
     "name": "stderr",
     "output_type": "stream",
     "text": [
      "C:\\Users\\Joene\\AppData\\Local\\Temp\\ipykernel_39124\\2857483144.py:2: PerformanceWarning: DataFrame is highly fragmented.  This is usually the result of calling `frame.insert` many times, which has poor performance.  Consider joining all columns at once using pd.concat(axis=1) instead. To get a de-fragmented frame, use `newframe = frame.copy()`\n",
      "  superhero_powers_df[col] = superhero_powers_df['Powers'].str.contains(col)\n",
      "C:\\Users\\Joene\\AppData\\Local\\Temp\\ipykernel_39124\\2857483144.py:2: PerformanceWarning: DataFrame is highly fragmented.  This is usually the result of calling `frame.insert` many times, which has poor performance.  Consider joining all columns at once using pd.concat(axis=1) instead. To get a de-fragmented frame, use `newframe = frame.copy()`\n",
      "  superhero_powers_df[col] = superhero_powers_df['Powers'].str.contains(col)\n",
      "C:\\Users\\Joene\\AppData\\Local\\Temp\\ipykernel_39124\\2857483144.py:2: PerformanceWarning: DataFrame is highly fragmented.  This is usually the result of calling `frame.insert` many times, which has poor performance.  Consider joining all columns at once using pd.concat(axis=1) instead. To get a de-fragmented frame, use `newframe = frame.copy()`\n",
      "  superhero_powers_df[col] = superhero_powers_df['Powers'].str.contains(col)\n",
      "C:\\Users\\Joene\\AppData\\Local\\Temp\\ipykernel_39124\\2857483144.py:2: PerformanceWarning: DataFrame is highly fragmented.  This is usually the result of calling `frame.insert` many times, which has poor performance.  Consider joining all columns at once using pd.concat(axis=1) instead. To get a de-fragmented frame, use `newframe = frame.copy()`\n",
      "  superhero_powers_df[col] = superhero_powers_df['Powers'].str.contains(col)\n",
      "C:\\Users\\Joene\\AppData\\Local\\Temp\\ipykernel_39124\\2857483144.py:2: PerformanceWarning: DataFrame is highly fragmented.  This is usually the result of calling `frame.insert` many times, which has poor performance.  Consider joining all columns at once using pd.concat(axis=1) instead. To get a de-fragmented frame, use `newframe = frame.copy()`\n",
      "  superhero_powers_df[col] = superhero_powers_df['Powers'].str.contains(col)\n",
      "C:\\Users\\Joene\\AppData\\Local\\Temp\\ipykernel_39124\\2857483144.py:2: PerformanceWarning: DataFrame is highly fragmented.  This is usually the result of calling `frame.insert` many times, which has poor performance.  Consider joining all columns at once using pd.concat(axis=1) instead. To get a de-fragmented frame, use `newframe = frame.copy()`\n",
      "  superhero_powers_df[col] = superhero_powers_df['Powers'].str.contains(col)\n",
      "C:\\Users\\Joene\\AppData\\Local\\Temp\\ipykernel_39124\\2857483144.py:2: PerformanceWarning: DataFrame is highly fragmented.  This is usually the result of calling `frame.insert` many times, which has poor performance.  Consider joining all columns at once using pd.concat(axis=1) instead. To get a de-fragmented frame, use `newframe = frame.copy()`\n",
      "  superhero_powers_df[col] = superhero_powers_df['Powers'].str.contains(col)\n",
      "C:\\Users\\Joene\\AppData\\Local\\Temp\\ipykernel_39124\\2857483144.py:2: PerformanceWarning: DataFrame is highly fragmented.  This is usually the result of calling `frame.insert` many times, which has poor performance.  Consider joining all columns at once using pd.concat(axis=1) instead. To get a de-fragmented frame, use `newframe = frame.copy()`\n",
      "  superhero_powers_df[col] = superhero_powers_df['Powers'].str.contains(col)\n",
      "C:\\Users\\Joene\\AppData\\Local\\Temp\\ipykernel_39124\\2857483144.py:2: PerformanceWarning: DataFrame is highly fragmented.  This is usually the result of calling `frame.insert` many times, which has poor performance.  Consider joining all columns at once using pd.concat(axis=1) instead. To get a de-fragmented frame, use `newframe = frame.copy()`\n",
      "  superhero_powers_df[col] = superhero_powers_df['Powers'].str.contains(col)\n",
      "C:\\Users\\Joene\\AppData\\Local\\Temp\\ipykernel_39124\\2857483144.py:2: PerformanceWarning: DataFrame is highly fragmented.  This is usually the result of calling `frame.insert` many times, which has poor performance.  Consider joining all columns at once using pd.concat(axis=1) instead. To get a de-fragmented frame, use `newframe = frame.copy()`\n",
      "  superhero_powers_df[col] = superhero_powers_df['Powers'].str.contains(col)\n",
      "C:\\Users\\Joene\\AppData\\Local\\Temp\\ipykernel_39124\\2857483144.py:2: PerformanceWarning: DataFrame is highly fragmented.  This is usually the result of calling `frame.insert` many times, which has poor performance.  Consider joining all columns at once using pd.concat(axis=1) instead. To get a de-fragmented frame, use `newframe = frame.copy()`\n",
      "  superhero_powers_df[col] = superhero_powers_df['Powers'].str.contains(col)\n",
      "C:\\Users\\Joene\\AppData\\Local\\Temp\\ipykernel_39124\\2857483144.py:2: PerformanceWarning: DataFrame is highly fragmented.  This is usually the result of calling `frame.insert` many times, which has poor performance.  Consider joining all columns at once using pd.concat(axis=1) instead. To get a de-fragmented frame, use `newframe = frame.copy()`\n",
      "  superhero_powers_df[col] = superhero_powers_df['Powers'].str.contains(col)\n",
      "C:\\Users\\Joene\\AppData\\Local\\Temp\\ipykernel_39124\\2857483144.py:2: PerformanceWarning: DataFrame is highly fragmented.  This is usually the result of calling `frame.insert` many times, which has poor performance.  Consider joining all columns at once using pd.concat(axis=1) instead. To get a de-fragmented frame, use `newframe = frame.copy()`\n",
      "  superhero_powers_df[col] = superhero_powers_df['Powers'].str.contains(col)\n",
      "C:\\Users\\Joene\\AppData\\Local\\Temp\\ipykernel_39124\\2857483144.py:2: PerformanceWarning: DataFrame is highly fragmented.  This is usually the result of calling `frame.insert` many times, which has poor performance.  Consider joining all columns at once using pd.concat(axis=1) instead. To get a de-fragmented frame, use `newframe = frame.copy()`\n",
      "  superhero_powers_df[col] = superhero_powers_df['Powers'].str.contains(col)\n",
      "C:\\Users\\Joene\\AppData\\Local\\Temp\\ipykernel_39124\\2857483144.py:2: PerformanceWarning: DataFrame is highly fragmented.  This is usually the result of calling `frame.insert` many times, which has poor performance.  Consider joining all columns at once using pd.concat(axis=1) instead. To get a de-fragmented frame, use `newframe = frame.copy()`\n",
      "  superhero_powers_df[col] = superhero_powers_df['Powers'].str.contains(col)\n",
      "C:\\Users\\Joene\\AppData\\Local\\Temp\\ipykernel_39124\\2857483144.py:2: PerformanceWarning: DataFrame is highly fragmented.  This is usually the result of calling `frame.insert` many times, which has poor performance.  Consider joining all columns at once using pd.concat(axis=1) instead. To get a de-fragmented frame, use `newframe = frame.copy()`\n",
      "  superhero_powers_df[col] = superhero_powers_df['Powers'].str.contains(col)\n",
      "C:\\Users\\Joene\\AppData\\Local\\Temp\\ipykernel_39124\\2857483144.py:2: PerformanceWarning: DataFrame is highly fragmented.  This is usually the result of calling `frame.insert` many times, which has poor performance.  Consider joining all columns at once using pd.concat(axis=1) instead. To get a de-fragmented frame, use `newframe = frame.copy()`\n",
      "  superhero_powers_df[col] = superhero_powers_df['Powers'].str.contains(col)\n",
      "C:\\Users\\Joene\\AppData\\Local\\Temp\\ipykernel_39124\\2857483144.py:2: PerformanceWarning: DataFrame is highly fragmented.  This is usually the result of calling `frame.insert` many times, which has poor performance.  Consider joining all columns at once using pd.concat(axis=1) instead. To get a de-fragmented frame, use `newframe = frame.copy()`\n",
      "  superhero_powers_df[col] = superhero_powers_df['Powers'].str.contains(col)\n",
      "C:\\Users\\Joene\\AppData\\Local\\Temp\\ipykernel_39124\\2857483144.py:2: PerformanceWarning: DataFrame is highly fragmented.  This is usually the result of calling `frame.insert` many times, which has poor performance.  Consider joining all columns at once using pd.concat(axis=1) instead. To get a de-fragmented frame, use `newframe = frame.copy()`\n",
      "  superhero_powers_df[col] = superhero_powers_df['Powers'].str.contains(col)\n",
      "C:\\Users\\Joene\\AppData\\Local\\Temp\\ipykernel_39124\\2857483144.py:2: PerformanceWarning: DataFrame is highly fragmented.  This is usually the result of calling `frame.insert` many times, which has poor performance.  Consider joining all columns at once using pd.concat(axis=1) instead. To get a de-fragmented frame, use `newframe = frame.copy()`\n",
      "  superhero_powers_df[col] = superhero_powers_df['Powers'].str.contains(col)\n",
      "C:\\Users\\Joene\\AppData\\Local\\Temp\\ipykernel_39124\\2857483144.py:2: PerformanceWarning: DataFrame is highly fragmented.  This is usually the result of calling `frame.insert` many times, which has poor performance.  Consider joining all columns at once using pd.concat(axis=1) instead. To get a de-fragmented frame, use `newframe = frame.copy()`\n",
      "  superhero_powers_df[col] = superhero_powers_df['Powers'].str.contains(col)\n",
      "C:\\Users\\Joene\\AppData\\Local\\Temp\\ipykernel_39124\\2857483144.py:2: PerformanceWarning: DataFrame is highly fragmented.  This is usually the result of calling `frame.insert` many times, which has poor performance.  Consider joining all columns at once using pd.concat(axis=1) instead. To get a de-fragmented frame, use `newframe = frame.copy()`\n",
      "  superhero_powers_df[col] = superhero_powers_df['Powers'].str.contains(col)\n",
      "C:\\Users\\Joene\\AppData\\Local\\Temp\\ipykernel_39124\\2857483144.py:2: PerformanceWarning: DataFrame is highly fragmented.  This is usually the result of calling `frame.insert` many times, which has poor performance.  Consider joining all columns at once using pd.concat(axis=1) instead. To get a de-fragmented frame, use `newframe = frame.copy()`\n",
      "  superhero_powers_df[col] = superhero_powers_df['Powers'].str.contains(col)\n",
      "C:\\Users\\Joene\\AppData\\Local\\Temp\\ipykernel_39124\\2857483144.py:2: PerformanceWarning: DataFrame is highly fragmented.  This is usually the result of calling `frame.insert` many times, which has poor performance.  Consider joining all columns at once using pd.concat(axis=1) instead. To get a de-fragmented frame, use `newframe = frame.copy()`\n",
      "  superhero_powers_df[col] = superhero_powers_df['Powers'].str.contains(col)\n",
      "C:\\Users\\Joene\\AppData\\Local\\Temp\\ipykernel_39124\\2857483144.py:2: PerformanceWarning: DataFrame is highly fragmented.  This is usually the result of calling `frame.insert` many times, which has poor performance.  Consider joining all columns at once using pd.concat(axis=1) instead. To get a de-fragmented frame, use `newframe = frame.copy()`\n",
      "  superhero_powers_df[col] = superhero_powers_df['Powers'].str.contains(col)\n",
      "C:\\Users\\Joene\\AppData\\Local\\Temp\\ipykernel_39124\\2857483144.py:2: PerformanceWarning: DataFrame is highly fragmented.  This is usually the result of calling `frame.insert` many times, which has poor performance.  Consider joining all columns at once using pd.concat(axis=1) instead. To get a de-fragmented frame, use `newframe = frame.copy()`\n",
      "  superhero_powers_df[col] = superhero_powers_df['Powers'].str.contains(col)\n",
      "C:\\Users\\Joene\\AppData\\Local\\Temp\\ipykernel_39124\\2857483144.py:2: PerformanceWarning: DataFrame is highly fragmented.  This is usually the result of calling `frame.insert` many times, which has poor performance.  Consider joining all columns at once using pd.concat(axis=1) instead. To get a de-fragmented frame, use `newframe = frame.copy()`\n",
      "  superhero_powers_df[col] = superhero_powers_df['Powers'].str.contains(col)\n",
      "C:\\Users\\Joene\\AppData\\Local\\Temp\\ipykernel_39124\\2857483144.py:2: PerformanceWarning: DataFrame is highly fragmented.  This is usually the result of calling `frame.insert` many times, which has poor performance.  Consider joining all columns at once using pd.concat(axis=1) instead. To get a de-fragmented frame, use `newframe = frame.copy()`\n",
      "  superhero_powers_df[col] = superhero_powers_df['Powers'].str.contains(col)\n",
      "C:\\Users\\Joene\\AppData\\Local\\Temp\\ipykernel_39124\\2857483144.py:2: PerformanceWarning: DataFrame is highly fragmented.  This is usually the result of calling `frame.insert` many times, which has poor performance.  Consider joining all columns at once using pd.concat(axis=1) instead. To get a de-fragmented frame, use `newframe = frame.copy()`\n",
      "  superhero_powers_df[col] = superhero_powers_df['Powers'].str.contains(col)\n",
      "C:\\Users\\Joene\\AppData\\Local\\Temp\\ipykernel_39124\\2857483144.py:2: PerformanceWarning: DataFrame is highly fragmented.  This is usually the result of calling `frame.insert` many times, which has poor performance.  Consider joining all columns at once using pd.concat(axis=1) instead. To get a de-fragmented frame, use `newframe = frame.copy()`\n",
      "  superhero_powers_df[col] = superhero_powers_df['Powers'].str.contains(col)\n",
      "C:\\Users\\Joene\\AppData\\Local\\Temp\\ipykernel_39124\\2857483144.py:2: PerformanceWarning: DataFrame is highly fragmented.  This is usually the result of calling `frame.insert` many times, which has poor performance.  Consider joining all columns at once using pd.concat(axis=1) instead. To get a de-fragmented frame, use `newframe = frame.copy()`\n",
      "  superhero_powers_df[col] = superhero_powers_df['Powers'].str.contains(col)\n",
      "C:\\Users\\Joene\\AppData\\Local\\Temp\\ipykernel_39124\\2857483144.py:2: PerformanceWarning: DataFrame is highly fragmented.  This is usually the result of calling `frame.insert` many times, which has poor performance.  Consider joining all columns at once using pd.concat(axis=1) instead. To get a de-fragmented frame, use `newframe = frame.copy()`\n",
      "  superhero_powers_df[col] = superhero_powers_df['Powers'].str.contains(col)\n",
      "C:\\Users\\Joene\\AppData\\Local\\Temp\\ipykernel_39124\\2857483144.py:2: PerformanceWarning: DataFrame is highly fragmented.  This is usually the result of calling `frame.insert` many times, which has poor performance.  Consider joining all columns at once using pd.concat(axis=1) instead. To get a de-fragmented frame, use `newframe = frame.copy()`\n",
      "  superhero_powers_df[col] = superhero_powers_df['Powers'].str.contains(col)\n",
      "C:\\Users\\Joene\\AppData\\Local\\Temp\\ipykernel_39124\\2857483144.py:2: PerformanceWarning: DataFrame is highly fragmented.  This is usually the result of calling `frame.insert` many times, which has poor performance.  Consider joining all columns at once using pd.concat(axis=1) instead. To get a de-fragmented frame, use `newframe = frame.copy()`\n",
      "  superhero_powers_df[col] = superhero_powers_df['Powers'].str.contains(col)\n",
      "C:\\Users\\Joene\\AppData\\Local\\Temp\\ipykernel_39124\\2857483144.py:2: PerformanceWarning: DataFrame is highly fragmented.  This is usually the result of calling `frame.insert` many times, which has poor performance.  Consider joining all columns at once using pd.concat(axis=1) instead. To get a de-fragmented frame, use `newframe = frame.copy()`\n",
      "  superhero_powers_df[col] = superhero_powers_df['Powers'].str.contains(col)\n",
      "C:\\Users\\Joene\\AppData\\Local\\Temp\\ipykernel_39124\\2857483144.py:2: PerformanceWarning: DataFrame is highly fragmented.  This is usually the result of calling `frame.insert` many times, which has poor performance.  Consider joining all columns at once using pd.concat(axis=1) instead. To get a de-fragmented frame, use `newframe = frame.copy()`\n",
      "  superhero_powers_df[col] = superhero_powers_df['Powers'].str.contains(col)\n",
      "C:\\Users\\Joene\\AppData\\Local\\Temp\\ipykernel_39124\\2857483144.py:2: PerformanceWarning: DataFrame is highly fragmented.  This is usually the result of calling `frame.insert` many times, which has poor performance.  Consider joining all columns at once using pd.concat(axis=1) instead. To get a de-fragmented frame, use `newframe = frame.copy()`\n",
      "  superhero_powers_df[col] = superhero_powers_df['Powers'].str.contains(col)\n",
      "C:\\Users\\Joene\\AppData\\Local\\Temp\\ipykernel_39124\\2857483144.py:2: PerformanceWarning: DataFrame is highly fragmented.  This is usually the result of calling `frame.insert` many times, which has poor performance.  Consider joining all columns at once using pd.concat(axis=1) instead. To get a de-fragmented frame, use `newframe = frame.copy()`\n",
      "  superhero_powers_df[col] = superhero_powers_df['Powers'].str.contains(col)\n",
      "C:\\Users\\Joene\\AppData\\Local\\Temp\\ipykernel_39124\\2857483144.py:2: PerformanceWarning: DataFrame is highly fragmented.  This is usually the result of calling `frame.insert` many times, which has poor performance.  Consider joining all columns at once using pd.concat(axis=1) instead. To get a de-fragmented frame, use `newframe = frame.copy()`\n",
      "  superhero_powers_df[col] = superhero_powers_df['Powers'].str.contains(col)\n",
      "C:\\Users\\Joene\\AppData\\Local\\Temp\\ipykernel_39124\\2857483144.py:2: PerformanceWarning: DataFrame is highly fragmented.  This is usually the result of calling `frame.insert` many times, which has poor performance.  Consider joining all columns at once using pd.concat(axis=1) instead. To get a de-fragmented frame, use `newframe = frame.copy()`\n",
      "  superhero_powers_df[col] = superhero_powers_df['Powers'].str.contains(col)\n",
      "C:\\Users\\Joene\\AppData\\Local\\Temp\\ipykernel_39124\\2857483144.py:2: PerformanceWarning: DataFrame is highly fragmented.  This is usually the result of calling `frame.insert` many times, which has poor performance.  Consider joining all columns at once using pd.concat(axis=1) instead. To get a de-fragmented frame, use `newframe = frame.copy()`\n",
      "  superhero_powers_df[col] = superhero_powers_df['Powers'].str.contains(col)\n",
      "C:\\Users\\Joene\\AppData\\Local\\Temp\\ipykernel_39124\\2857483144.py:2: PerformanceWarning: DataFrame is highly fragmented.  This is usually the result of calling `frame.insert` many times, which has poor performance.  Consider joining all columns at once using pd.concat(axis=1) instead. To get a de-fragmented frame, use `newframe = frame.copy()`\n",
      "  superhero_powers_df[col] = superhero_powers_df['Powers'].str.contains(col)\n",
      "C:\\Users\\Joene\\AppData\\Local\\Temp\\ipykernel_39124\\2857483144.py:2: PerformanceWarning: DataFrame is highly fragmented.  This is usually the result of calling `frame.insert` many times, which has poor performance.  Consider joining all columns at once using pd.concat(axis=1) instead. To get a de-fragmented frame, use `newframe = frame.copy()`\n",
      "  superhero_powers_df[col] = superhero_powers_df['Powers'].str.contains(col)\n",
      "C:\\Users\\Joene\\AppData\\Local\\Temp\\ipykernel_39124\\2857483144.py:2: PerformanceWarning: DataFrame is highly fragmented.  This is usually the result of calling `frame.insert` many times, which has poor performance.  Consider joining all columns at once using pd.concat(axis=1) instead. To get a de-fragmented frame, use `newframe = frame.copy()`\n",
      "  superhero_powers_df[col] = superhero_powers_df['Powers'].str.contains(col)\n",
      "C:\\Users\\Joene\\AppData\\Local\\Temp\\ipykernel_39124\\2857483144.py:2: PerformanceWarning: DataFrame is highly fragmented.  This is usually the result of calling `frame.insert` many times, which has poor performance.  Consider joining all columns at once using pd.concat(axis=1) instead. To get a de-fragmented frame, use `newframe = frame.copy()`\n",
      "  superhero_powers_df[col] = superhero_powers_df['Powers'].str.contains(col)\n",
      "C:\\Users\\Joene\\AppData\\Local\\Temp\\ipykernel_39124\\2857483144.py:2: PerformanceWarning: DataFrame is highly fragmented.  This is usually the result of calling `frame.insert` many times, which has poor performance.  Consider joining all columns at once using pd.concat(axis=1) instead. To get a de-fragmented frame, use `newframe = frame.copy()`\n",
      "  superhero_powers_df[col] = superhero_powers_df['Powers'].str.contains(col)\n",
      "C:\\Users\\Joene\\AppData\\Local\\Temp\\ipykernel_39124\\2857483144.py:2: PerformanceWarning: DataFrame is highly fragmented.  This is usually the result of calling `frame.insert` many times, which has poor performance.  Consider joining all columns at once using pd.concat(axis=1) instead. To get a de-fragmented frame, use `newframe = frame.copy()`\n",
      "  superhero_powers_df[col] = superhero_powers_df['Powers'].str.contains(col)\n",
      "C:\\Users\\Joene\\AppData\\Local\\Temp\\ipykernel_39124\\2857483144.py:2: PerformanceWarning: DataFrame is highly fragmented.  This is usually the result of calling `frame.insert` many times, which has poor performance.  Consider joining all columns at once using pd.concat(axis=1) instead. To get a de-fragmented frame, use `newframe = frame.copy()`\n",
      "  superhero_powers_df[col] = superhero_powers_df['Powers'].str.contains(col)\n",
      "C:\\Users\\Joene\\AppData\\Local\\Temp\\ipykernel_39124\\2857483144.py:2: PerformanceWarning: DataFrame is highly fragmented.  This is usually the result of calling `frame.insert` many times, which has poor performance.  Consider joining all columns at once using pd.concat(axis=1) instead. To get a de-fragmented frame, use `newframe = frame.copy()`\n",
      "  superhero_powers_df[col] = superhero_powers_df['Powers'].str.contains(col)\n",
      "C:\\Users\\Joene\\AppData\\Local\\Temp\\ipykernel_39124\\2857483144.py:2: PerformanceWarning: DataFrame is highly fragmented.  This is usually the result of calling `frame.insert` many times, which has poor performance.  Consider joining all columns at once using pd.concat(axis=1) instead. To get a de-fragmented frame, use `newframe = frame.copy()`\n",
      "  superhero_powers_df[col] = superhero_powers_df['Powers'].str.contains(col)\n",
      "C:\\Users\\Joene\\AppData\\Local\\Temp\\ipykernel_39124\\2857483144.py:2: PerformanceWarning: DataFrame is highly fragmented.  This is usually the result of calling `frame.insert` many times, which has poor performance.  Consider joining all columns at once using pd.concat(axis=1) instead. To get a de-fragmented frame, use `newframe = frame.copy()`\n",
      "  superhero_powers_df[col] = superhero_powers_df['Powers'].str.contains(col)\n",
      "C:\\Users\\Joene\\AppData\\Local\\Temp\\ipykernel_39124\\2857483144.py:2: PerformanceWarning: DataFrame is highly fragmented.  This is usually the result of calling `frame.insert` many times, which has poor performance.  Consider joining all columns at once using pd.concat(axis=1) instead. To get a de-fragmented frame, use `newframe = frame.copy()`\n",
      "  superhero_powers_df[col] = superhero_powers_df['Powers'].str.contains(col)\n",
      "C:\\Users\\Joene\\AppData\\Local\\Temp\\ipykernel_39124\\2857483144.py:2: PerformanceWarning: DataFrame is highly fragmented.  This is usually the result of calling `frame.insert` many times, which has poor performance.  Consider joining all columns at once using pd.concat(axis=1) instead. To get a de-fragmented frame, use `newframe = frame.copy()`\n",
      "  superhero_powers_df[col] = superhero_powers_df['Powers'].str.contains(col)\n",
      "C:\\Users\\Joene\\AppData\\Local\\Temp\\ipykernel_39124\\2857483144.py:2: PerformanceWarning: DataFrame is highly fragmented.  This is usually the result of calling `frame.insert` many times, which has poor performance.  Consider joining all columns at once using pd.concat(axis=1) instead. To get a de-fragmented frame, use `newframe = frame.copy()`\n",
      "  superhero_powers_df[col] = superhero_powers_df['Powers'].str.contains(col)\n",
      "C:\\Users\\Joene\\AppData\\Local\\Temp\\ipykernel_39124\\2857483144.py:2: PerformanceWarning: DataFrame is highly fragmented.  This is usually the result of calling `frame.insert` many times, which has poor performance.  Consider joining all columns at once using pd.concat(axis=1) instead. To get a de-fragmented frame, use `newframe = frame.copy()`\n",
      "  superhero_powers_df[col] = superhero_powers_df['Powers'].str.contains(col)\n",
      "C:\\Users\\Joene\\AppData\\Local\\Temp\\ipykernel_39124\\2857483144.py:2: PerformanceWarning: DataFrame is highly fragmented.  This is usually the result of calling `frame.insert` many times, which has poor performance.  Consider joining all columns at once using pd.concat(axis=1) instead. To get a de-fragmented frame, use `newframe = frame.copy()`\n",
      "  superhero_powers_df[col] = superhero_powers_df['Powers'].str.contains(col)\n",
      "C:\\Users\\Joene\\AppData\\Local\\Temp\\ipykernel_39124\\2857483144.py:2: PerformanceWarning: DataFrame is highly fragmented.  This is usually the result of calling `frame.insert` many times, which has poor performance.  Consider joining all columns at once using pd.concat(axis=1) instead. To get a de-fragmented frame, use `newframe = frame.copy()`\n",
      "  superhero_powers_df[col] = superhero_powers_df['Powers'].str.contains(col)\n",
      "C:\\Users\\Joene\\AppData\\Local\\Temp\\ipykernel_39124\\2857483144.py:2: PerformanceWarning: DataFrame is highly fragmented.  This is usually the result of calling `frame.insert` many times, which has poor performance.  Consider joining all columns at once using pd.concat(axis=1) instead. To get a de-fragmented frame, use `newframe = frame.copy()`\n",
      "  superhero_powers_df[col] = superhero_powers_df['Powers'].str.contains(col)\n",
      "C:\\Users\\Joene\\AppData\\Local\\Temp\\ipykernel_39124\\2857483144.py:2: PerformanceWarning: DataFrame is highly fragmented.  This is usually the result of calling `frame.insert` many times, which has poor performance.  Consider joining all columns at once using pd.concat(axis=1) instead. To get a de-fragmented frame, use `newframe = frame.copy()`\n",
      "  superhero_powers_df[col] = superhero_powers_df['Powers'].str.contains(col)\n",
      "C:\\Users\\Joene\\AppData\\Local\\Temp\\ipykernel_39124\\2857483144.py:2: PerformanceWarning: DataFrame is highly fragmented.  This is usually the result of calling `frame.insert` many times, which has poor performance.  Consider joining all columns at once using pd.concat(axis=1) instead. To get a de-fragmented frame, use `newframe = frame.copy()`\n",
      "  superhero_powers_df[col] = superhero_powers_df['Powers'].str.contains(col)\n",
      "C:\\Users\\Joene\\AppData\\Local\\Temp\\ipykernel_39124\\2857483144.py:2: PerformanceWarning: DataFrame is highly fragmented.  This is usually the result of calling `frame.insert` many times, which has poor performance.  Consider joining all columns at once using pd.concat(axis=1) instead. To get a de-fragmented frame, use `newframe = frame.copy()`\n",
      "  superhero_powers_df[col] = superhero_powers_df['Powers'].str.contains(col)\n",
      "C:\\Users\\Joene\\AppData\\Local\\Temp\\ipykernel_39124\\2857483144.py:2: PerformanceWarning: DataFrame is highly fragmented.  This is usually the result of calling `frame.insert` many times, which has poor performance.  Consider joining all columns at once using pd.concat(axis=1) instead. To get a de-fragmented frame, use `newframe = frame.copy()`\n",
      "  superhero_powers_df[col] = superhero_powers_df['Powers'].str.contains(col)\n",
      "C:\\Users\\Joene\\AppData\\Local\\Temp\\ipykernel_39124\\2857483144.py:2: PerformanceWarning: DataFrame is highly fragmented.  This is usually the result of calling `frame.insert` many times, which has poor performance.  Consider joining all columns at once using pd.concat(axis=1) instead. To get a de-fragmented frame, use `newframe = frame.copy()`\n",
      "  superhero_powers_df[col] = superhero_powers_df['Powers'].str.contains(col)\n",
      "C:\\Users\\Joene\\AppData\\Local\\Temp\\ipykernel_39124\\2857483144.py:2: PerformanceWarning: DataFrame is highly fragmented.  This is usually the result of calling `frame.insert` many times, which has poor performance.  Consider joining all columns at once using pd.concat(axis=1) instead. To get a de-fragmented frame, use `newframe = frame.copy()`\n",
      "  superhero_powers_df[col] = superhero_powers_df['Powers'].str.contains(col)\n",
      "C:\\Users\\Joene\\AppData\\Local\\Temp\\ipykernel_39124\\2857483144.py:2: PerformanceWarning: DataFrame is highly fragmented.  This is usually the result of calling `frame.insert` many times, which has poor performance.  Consider joining all columns at once using pd.concat(axis=1) instead. To get a de-fragmented frame, use `newframe = frame.copy()`\n",
      "  superhero_powers_df[col] = superhero_powers_df['Powers'].str.contains(col)\n",
      "C:\\Users\\Joene\\AppData\\Local\\Temp\\ipykernel_39124\\2857483144.py:2: PerformanceWarning: DataFrame is highly fragmented.  This is usually the result of calling `frame.insert` many times, which has poor performance.  Consider joining all columns at once using pd.concat(axis=1) instead. To get a de-fragmented frame, use `newframe = frame.copy()`\n",
      "  superhero_powers_df[col] = superhero_powers_df['Powers'].str.contains(col)\n",
      "C:\\Users\\Joene\\AppData\\Local\\Temp\\ipykernel_39124\\2857483144.py:2: PerformanceWarning: DataFrame is highly fragmented.  This is usually the result of calling `frame.insert` many times, which has poor performance.  Consider joining all columns at once using pd.concat(axis=1) instead. To get a de-fragmented frame, use `newframe = frame.copy()`\n",
      "  superhero_powers_df[col] = superhero_powers_df['Powers'].str.contains(col)\n",
      "C:\\Users\\Joene\\AppData\\Local\\Temp\\ipykernel_39124\\2857483144.py:2: PerformanceWarning: DataFrame is highly fragmented.  This is usually the result of calling `frame.insert` many times, which has poor performance.  Consider joining all columns at once using pd.concat(axis=1) instead. To get a de-fragmented frame, use `newframe = frame.copy()`\n",
      "  superhero_powers_df[col] = superhero_powers_df['Powers'].str.contains(col)\n",
      "C:\\Users\\Joene\\AppData\\Local\\Temp\\ipykernel_39124\\2857483144.py:2: PerformanceWarning: DataFrame is highly fragmented.  This is usually the result of calling `frame.insert` many times, which has poor performance.  Consider joining all columns at once using pd.concat(axis=1) instead. To get a de-fragmented frame, use `newframe = frame.copy()`\n",
      "  superhero_powers_df[col] = superhero_powers_df['Powers'].str.contains(col)\n"
     ]
    },
    {
     "data": {
      "text/html": [
       "<div>\n",
       "<style scoped>\n",
       "    .dataframe tbody tr th:only-of-type {\n",
       "        vertical-align: middle;\n",
       "    }\n",
       "\n",
       "    .dataframe tbody tr th {\n",
       "        vertical-align: top;\n",
       "    }\n",
       "\n",
       "    .dataframe thead th {\n",
       "        text-align: right;\n",
       "    }\n",
       "</style>\n",
       "<table border=\"1\" class=\"dataframe\">\n",
       "  <thead>\n",
       "    <tr style=\"text-align: right;\">\n",
       "      <th></th>\n",
       "      <th>Hero</th>\n",
       "      <th>Powers</th>\n",
       "      <th>Powers_split</th>\n",
       "      <th>Agility</th>\n",
       "      <th>Super Strength</th>\n",
       "      <th>Stamina</th>\n",
       "      <th>Super Speed</th>\n",
       "      <th>Accelerated Healing</th>\n",
       "      <th>Durability</th>\n",
       "      <th>Longevity</th>\n",
       "      <th>...</th>\n",
       "      <th>Weather Control</th>\n",
       "      <th>Omnipresent</th>\n",
       "      <th>Omniscient</th>\n",
       "      <th>Hair Manipulation</th>\n",
       "      <th>Nova Force</th>\n",
       "      <th>Odin Force</th>\n",
       "      <th>Phoenix Force</th>\n",
       "      <th>Intuitive aptitude</th>\n",
       "      <th>Melting</th>\n",
       "      <th>Changing Armor</th>\n",
       "    </tr>\n",
       "  </thead>\n",
       "  <tbody>\n",
       "    <tr>\n",
       "      <th>0</th>\n",
       "      <td>3-D Man</td>\n",
       "      <td>Agility,Super Strength,Stamina,Super Speed</td>\n",
       "      <td>[Agility, Super Strength, Stamina, Super Speed]</td>\n",
       "      <td>True</td>\n",
       "      <td>True</td>\n",
       "      <td>True</td>\n",
       "      <td>True</td>\n",
       "      <td>False</td>\n",
       "      <td>False</td>\n",
       "      <td>False</td>\n",
       "      <td>...</td>\n",
       "      <td>False</td>\n",
       "      <td>False</td>\n",
       "      <td>False</td>\n",
       "      <td>False</td>\n",
       "      <td>False</td>\n",
       "      <td>False</td>\n",
       "      <td>False</td>\n",
       "      <td>False</td>\n",
       "      <td>False</td>\n",
       "      <td>False</td>\n",
       "    </tr>\n",
       "    <tr>\n",
       "      <th>1</th>\n",
       "      <td>A-Bomb</td>\n",
       "      <td>Accelerated Healing,Durability,Longevity,Super...</td>\n",
       "      <td>[Accelerated Healing, Durability, Longevity, S...</td>\n",
       "      <td>False</td>\n",
       "      <td>True</td>\n",
       "      <td>True</td>\n",
       "      <td>False</td>\n",
       "      <td>True</td>\n",
       "      <td>True</td>\n",
       "      <td>True</td>\n",
       "      <td>...</td>\n",
       "      <td>False</td>\n",
       "      <td>False</td>\n",
       "      <td>False</td>\n",
       "      <td>False</td>\n",
       "      <td>False</td>\n",
       "      <td>False</td>\n",
       "      <td>False</td>\n",
       "      <td>False</td>\n",
       "      <td>False</td>\n",
       "      <td>False</td>\n",
       "    </tr>\n",
       "    <tr>\n",
       "      <th>2</th>\n",
       "      <td>Abe Sapien</td>\n",
       "      <td>Agility,Accelerated Healing,Cold Resistance,Du...</td>\n",
       "      <td>[Agility, Accelerated Healing, Cold Resistance...</td>\n",
       "      <td>True</td>\n",
       "      <td>True</td>\n",
       "      <td>True</td>\n",
       "      <td>False</td>\n",
       "      <td>True</td>\n",
       "      <td>True</td>\n",
       "      <td>True</td>\n",
       "      <td>...</td>\n",
       "      <td>False</td>\n",
       "      <td>False</td>\n",
       "      <td>False</td>\n",
       "      <td>False</td>\n",
       "      <td>False</td>\n",
       "      <td>False</td>\n",
       "      <td>False</td>\n",
       "      <td>False</td>\n",
       "      <td>False</td>\n",
       "      <td>False</td>\n",
       "    </tr>\n",
       "    <tr>\n",
       "      <th>3</th>\n",
       "      <td>Abin Sur</td>\n",
       "      <td>Lantern Power Ring</td>\n",
       "      <td>[Lantern Power Ring]</td>\n",
       "      <td>False</td>\n",
       "      <td>False</td>\n",
       "      <td>False</td>\n",
       "      <td>False</td>\n",
       "      <td>False</td>\n",
       "      <td>False</td>\n",
       "      <td>False</td>\n",
       "      <td>...</td>\n",
       "      <td>False</td>\n",
       "      <td>False</td>\n",
       "      <td>False</td>\n",
       "      <td>False</td>\n",
       "      <td>False</td>\n",
       "      <td>False</td>\n",
       "      <td>False</td>\n",
       "      <td>False</td>\n",
       "      <td>False</td>\n",
       "      <td>False</td>\n",
       "    </tr>\n",
       "    <tr>\n",
       "      <th>4</th>\n",
       "      <td>Abomination</td>\n",
       "      <td>Accelerated Healing,Intelligence,Super Strengt...</td>\n",
       "      <td>[Accelerated Healing, Intelligence, Super Stre...</td>\n",
       "      <td>False</td>\n",
       "      <td>True</td>\n",
       "      <td>True</td>\n",
       "      <td>True</td>\n",
       "      <td>True</td>\n",
       "      <td>False</td>\n",
       "      <td>False</td>\n",
       "      <td>...</td>\n",
       "      <td>False</td>\n",
       "      <td>False</td>\n",
       "      <td>False</td>\n",
       "      <td>False</td>\n",
       "      <td>False</td>\n",
       "      <td>False</td>\n",
       "      <td>False</td>\n",
       "      <td>False</td>\n",
       "      <td>False</td>\n",
       "      <td>False</td>\n",
       "    </tr>\n",
       "  </tbody>\n",
       "</table>\n",
       "<p>5 rows × 170 columns</p>\n",
       "</div>"
      ],
      "text/plain": [
       "          Hero                                             Powers  \\\n",
       "0      3-D Man         Agility,Super Strength,Stamina,Super Speed   \n",
       "1       A-Bomb  Accelerated Healing,Durability,Longevity,Super...   \n",
       "2   Abe Sapien  Agility,Accelerated Healing,Cold Resistance,Du...   \n",
       "3     Abin Sur                                 Lantern Power Ring   \n",
       "4  Abomination  Accelerated Healing,Intelligence,Super Strengt...   \n",
       "\n",
       "                                        Powers_split  Agility  Super Strength  \\\n",
       "0    [Agility, Super Strength, Stamina, Super Speed]     True            True   \n",
       "1  [Accelerated Healing, Durability, Longevity, S...    False            True   \n",
       "2  [Agility, Accelerated Healing, Cold Resistance...     True            True   \n",
       "3                               [Lantern Power Ring]    False           False   \n",
       "4  [Accelerated Healing, Intelligence, Super Stre...    False            True   \n",
       "\n",
       "   Stamina  Super Speed  Accelerated Healing  Durability  Longevity  ...  \\\n",
       "0     True         True                False       False      False  ...   \n",
       "1     True        False                 True        True       True  ...   \n",
       "2     True        False                 True        True       True  ...   \n",
       "3    False        False                False       False      False  ...   \n",
       "4     True         True                 True       False      False  ...   \n",
       "\n",
       "   Weather Control  Omnipresent  Omniscient  Hair Manipulation  Nova Force  \\\n",
       "0            False        False       False              False       False   \n",
       "1            False        False       False              False       False   \n",
       "2            False        False       False              False       False   \n",
       "3            False        False       False              False       False   \n",
       "4            False        False       False              False       False   \n",
       "\n",
       "   Odin Force  Phoenix Force  Intuitive aptitude  Melting  Changing Armor  \n",
       "0       False          False               False    False           False  \n",
       "1       False          False               False    False           False  \n",
       "2       False          False               False    False           False  \n",
       "3       False          False               False    False           False  \n",
       "4       False          False               False    False           False  \n",
       "\n",
       "[5 rows x 170 columns]"
      ]
     },
     "execution_count": 31,
     "metadata": {},
     "output_type": "execute_result"
    }
   ],
   "source": [
    "for col in cols_to_make:\n",
    "    superhero_powers_df[col] = superhero_powers_df['Powers'].str.contains(col)\n",
    "superhero_powers_df.head()"
   ]
  },
  {
   "cell_type": "code",
   "execution_count": 32,
   "id": "afa50af6",
   "metadata": {
    "ExecuteTime": {
     "end_time": "2023-05-05T08:37:59.587493Z",
     "start_time": "2023-05-05T08:37:59.560358Z"
    }
   },
   "outputs": [],
   "source": [
    "# drop transactions clumns\n",
    "superhero_powers_df = superhero_powers_df.drop(columns=['Powers'])\n",
    "## save data for next lesson\n",
    "superhero_powers_df.to_csv('advanced_superhero_data.csv', index=False)"
   ]
  },
  {
   "cell_type": "code",
   "execution_count": 33,
   "id": "10f4169f",
   "metadata": {
    "ExecuteTime": {
     "end_time": "2023-05-05T08:38:03.831180Z",
     "start_time": "2023-05-05T08:38:03.814136Z"
    }
   },
   "outputs": [
    {
     "name": "stdout",
     "output_type": "stream",
     "text": [
      "<class 'pandas.core.frame.DataFrame'>\n",
      "RangeIndex: 667 entries, 0 to 666\n",
      "Columns: 169 entries, Hero to Changing Armor\n",
      "dtypes: bool(167), object(2)\n",
      "memory usage: 119.3+ KB\n"
     ]
    }
   ],
   "source": [
    "superhero_powers_df.info()"
   ]
  },
  {
   "cell_type": "code",
   "execution_count": 34,
   "id": "6c98139a",
   "metadata": {
    "ExecuteTime": {
     "end_time": "2023-05-05T08:38:12.413215Z",
     "start_time": "2023-05-05T08:38:12.400737Z"
    },
    "scrolled": true
   },
   "outputs": [],
   "source": [
    "merged = superhero_powers_df.merge(superhero_info_df, left_on = \"Hero\", right_on = \"Hero\")"
   ]
  },
  {
   "cell_type": "code",
   "execution_count": 35,
   "id": "ff2e4e32",
   "metadata": {
    "ExecuteTime": {
     "end_time": "2023-05-05T08:38:20.453043Z",
     "start_time": "2023-05-05T08:38:20.426519Z"
    }
   },
   "outputs": [
    {
     "data": {
      "text/html": [
       "<div>\n",
       "<style scoped>\n",
       "    .dataframe tbody tr th:only-of-type {\n",
       "        vertical-align: middle;\n",
       "    }\n",
       "\n",
       "    .dataframe tbody tr th {\n",
       "        vertical-align: top;\n",
       "    }\n",
       "\n",
       "    .dataframe thead th {\n",
       "        text-align: right;\n",
       "    }\n",
       "</style>\n",
       "<table border=\"1\" class=\"dataframe\">\n",
       "  <thead>\n",
       "    <tr style=\"text-align: right;\">\n",
       "      <th></th>\n",
       "      <th>Hero</th>\n",
       "      <th>Powers_split</th>\n",
       "      <th>Agility</th>\n",
       "      <th>Super Strength</th>\n",
       "      <th>Stamina</th>\n",
       "      <th>Super Speed</th>\n",
       "      <th>Accelerated Healing</th>\n",
       "      <th>Durability</th>\n",
       "      <th>Longevity</th>\n",
       "      <th>Camouflage</th>\n",
       "      <th>...</th>\n",
       "      <th>Changing Armor</th>\n",
       "      <th>Gender</th>\n",
       "      <th>Race</th>\n",
       "      <th>Alignment</th>\n",
       "      <th>Hair color</th>\n",
       "      <th>Eye color</th>\n",
       "      <th>Skin color</th>\n",
       "      <th>Publisher</th>\n",
       "      <th>Height</th>\n",
       "      <th>Weight</th>\n",
       "    </tr>\n",
       "  </thead>\n",
       "  <tbody>\n",
       "    <tr>\n",
       "      <th>0</th>\n",
       "      <td>A-Bomb</td>\n",
       "      <td>[Accelerated Healing, Durability, Longevity, S...</td>\n",
       "      <td>False</td>\n",
       "      <td>True</td>\n",
       "      <td>True</td>\n",
       "      <td>False</td>\n",
       "      <td>True</td>\n",
       "      <td>True</td>\n",
       "      <td>True</td>\n",
       "      <td>True</td>\n",
       "      <td>...</td>\n",
       "      <td>False</td>\n",
       "      <td>Male</td>\n",
       "      <td>Human</td>\n",
       "      <td>good</td>\n",
       "      <td>No Hair</td>\n",
       "      <td>yellow</td>\n",
       "      <td>Unknown</td>\n",
       "      <td>Marvel Comics</td>\n",
       "      <td>203.0</td>\n",
       "      <td>441.0</td>\n",
       "    </tr>\n",
       "    <tr>\n",
       "      <th>1</th>\n",
       "      <td>Abe Sapien</td>\n",
       "      <td>[Agility, Accelerated Healing, Cold Resistance...</td>\n",
       "      <td>True</td>\n",
       "      <td>True</td>\n",
       "      <td>True</td>\n",
       "      <td>False</td>\n",
       "      <td>True</td>\n",
       "      <td>True</td>\n",
       "      <td>True</td>\n",
       "      <td>False</td>\n",
       "      <td>...</td>\n",
       "      <td>False</td>\n",
       "      <td>Male</td>\n",
       "      <td>Icthyo Sapien</td>\n",
       "      <td>good</td>\n",
       "      <td>No Hair</td>\n",
       "      <td>blue</td>\n",
       "      <td>blue</td>\n",
       "      <td>Dark Horse Comics</td>\n",
       "      <td>191.0</td>\n",
       "      <td>65.0</td>\n",
       "    </tr>\n",
       "    <tr>\n",
       "      <th>2</th>\n",
       "      <td>Abin Sur</td>\n",
       "      <td>[Lantern Power Ring]</td>\n",
       "      <td>False</td>\n",
       "      <td>False</td>\n",
       "      <td>False</td>\n",
       "      <td>False</td>\n",
       "      <td>False</td>\n",
       "      <td>False</td>\n",
       "      <td>False</td>\n",
       "      <td>False</td>\n",
       "      <td>...</td>\n",
       "      <td>False</td>\n",
       "      <td>Male</td>\n",
       "      <td>Ungaran</td>\n",
       "      <td>good</td>\n",
       "      <td>No Hair</td>\n",
       "      <td>blue</td>\n",
       "      <td>red</td>\n",
       "      <td>DC Comics</td>\n",
       "      <td>185.0</td>\n",
       "      <td>90.0</td>\n",
       "    </tr>\n",
       "    <tr>\n",
       "      <th>3</th>\n",
       "      <td>Abomination</td>\n",
       "      <td>[Accelerated Healing, Intelligence, Super Stre...</td>\n",
       "      <td>False</td>\n",
       "      <td>True</td>\n",
       "      <td>True</td>\n",
       "      <td>True</td>\n",
       "      <td>True</td>\n",
       "      <td>False</td>\n",
       "      <td>False</td>\n",
       "      <td>False</td>\n",
       "      <td>...</td>\n",
       "      <td>False</td>\n",
       "      <td>Male</td>\n",
       "      <td>Human / Radiation</td>\n",
       "      <td>bad</td>\n",
       "      <td>No Hair</td>\n",
       "      <td>green</td>\n",
       "      <td>Unknown</td>\n",
       "      <td>Marvel Comics</td>\n",
       "      <td>203.0</td>\n",
       "      <td>441.0</td>\n",
       "    </tr>\n",
       "    <tr>\n",
       "      <th>4</th>\n",
       "      <td>Absorbing Man</td>\n",
       "      <td>[Cold Resistance, Durability, Energy Absorptio...</td>\n",
       "      <td>False</td>\n",
       "      <td>True</td>\n",
       "      <td>False</td>\n",
       "      <td>False</td>\n",
       "      <td>False</td>\n",
       "      <td>True</td>\n",
       "      <td>False</td>\n",
       "      <td>False</td>\n",
       "      <td>...</td>\n",
       "      <td>False</td>\n",
       "      <td>Male</td>\n",
       "      <td>Human</td>\n",
       "      <td>bad</td>\n",
       "      <td>No Hair</td>\n",
       "      <td>blue</td>\n",
       "      <td>Unknown</td>\n",
       "      <td>Marvel Comics</td>\n",
       "      <td>193.0</td>\n",
       "      <td>122.0</td>\n",
       "    </tr>\n",
       "  </tbody>\n",
       "</table>\n",
       "<p>5 rows × 178 columns</p>\n",
       "</div>"
      ],
      "text/plain": [
       "            Hero                                       Powers_split  Agility  \\\n",
       "0         A-Bomb  [Accelerated Healing, Durability, Longevity, S...    False   \n",
       "1     Abe Sapien  [Agility, Accelerated Healing, Cold Resistance...     True   \n",
       "2       Abin Sur                               [Lantern Power Ring]    False   \n",
       "3    Abomination  [Accelerated Healing, Intelligence, Super Stre...    False   \n",
       "4  Absorbing Man  [Cold Resistance, Durability, Energy Absorptio...    False   \n",
       "\n",
       "   Super Strength  Stamina  Super Speed  Accelerated Healing  Durability  \\\n",
       "0            True     True        False                 True        True   \n",
       "1            True     True        False                 True        True   \n",
       "2           False    False        False                False       False   \n",
       "3            True     True         True                 True       False   \n",
       "4            True    False        False                False        True   \n",
       "\n",
       "   Longevity  Camouflage  ...  Changing Armor  Gender               Race  \\\n",
       "0       True        True  ...           False    Male              Human   \n",
       "1       True       False  ...           False    Male      Icthyo Sapien   \n",
       "2      False       False  ...           False    Male            Ungaran   \n",
       "3      False       False  ...           False    Male  Human / Radiation   \n",
       "4      False       False  ...           False    Male              Human   \n",
       "\n",
       "   Alignment  Hair color  Eye color  Skin color          Publisher  Height  \\\n",
       "0       good     No Hair     yellow     Unknown      Marvel Comics   203.0   \n",
       "1       good     No Hair       blue        blue  Dark Horse Comics   191.0   \n",
       "2       good     No Hair       blue         red          DC Comics   185.0   \n",
       "3        bad     No Hair      green     Unknown      Marvel Comics   203.0   \n",
       "4        bad     No Hair       blue     Unknown      Marvel Comics   193.0   \n",
       "\n",
       "   Weight  \n",
       "0   441.0  \n",
       "1    65.0  \n",
       "2    90.0  \n",
       "3   441.0  \n",
       "4   122.0  \n",
       "\n",
       "[5 rows x 178 columns]"
      ]
     },
     "execution_count": 35,
     "metadata": {},
     "output_type": "execute_result"
    }
   ],
   "source": [
    "merged.head()"
   ]
  },
  {
   "cell_type": "code",
   "execution_count": 36,
   "id": "28720f56",
   "metadata": {
    "ExecuteTime": {
     "end_time": "2023-05-05T08:39:40.362093Z",
     "start_time": "2023-05-05T08:39:40.357222Z"
    }
   },
   "outputs": [
    {
     "data": {
      "text/plain": [
       "Super Speed\n",
       "False    101.773585\n",
       "True     129.404040\n",
       "Name: Weight, dtype: float64"
      ]
     },
     "execution_count": 36,
     "metadata": {},
     "output_type": "execute_result"
    }
   ],
   "source": [
    "merged.groupby('Super Speed')['Weight'].mean()"
   ]
  },
  {
   "cell_type": "code",
   "execution_count": 37,
   "id": "c12473ed",
   "metadata": {
    "ExecuteTime": {
     "end_time": "2023-05-05T08:40:41.734870Z",
     "start_time": "2023-05-05T08:40:41.718101Z"
    }
   },
   "outputs": [
    {
     "data": {
      "text/plain": [
       "Publisher\n",
       "DC Comics            181.923913\n",
       "Dark Horse Comics    176.909091\n",
       "George Lucas         159.600000\n",
       "Image Comics         211.000000\n",
       "Marvel Comics        191.546128\n",
       "Shueisha             171.500000\n",
       "Star Trek            181.500000\n",
       "Team Epic TV         180.750000\n",
       "Unknown              178.000000\n",
       "Name: Height, dtype: float64"
      ]
     },
     "execution_count": 37,
     "metadata": {},
     "output_type": "execute_result"
    }
   ],
   "source": [
    "merged.groupby('Publisher')['Height'].mean()"
   ]
  }
 ],
 "metadata": {
  "kernelspec": {
   "display_name": "Python (dojo-env)",
   "language": "python",
   "name": "dojo-env"
  },
  "language_info": {
   "codemirror_mode": {
    "name": "ipython",
    "version": 3
   },
   "file_extension": ".py",
   "mimetype": "text/x-python",
   "name": "python",
   "nbconvert_exporter": "python",
   "pygments_lexer": "ipython3",
   "version": "3.9.15"
  },
  "toc": {
   "base_numbering": 1,
   "nav_menu": {},
   "number_sections": false,
   "sideBar": true,
   "skip_h1_title": false,
   "title_cell": "Table of Contents",
   "title_sidebar": "Contents",
   "toc_cell": false,
   "toc_position": {},
   "toc_section_display": true,
   "toc_window_display": false
  }
 },
 "nbformat": 4,
 "nbformat_minor": 5
}
